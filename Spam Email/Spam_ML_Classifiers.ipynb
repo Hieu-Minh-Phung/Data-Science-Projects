{
 "cells": [
  {
   "cell_type": "code",
   "execution_count": 2,
   "metadata": {},
   "outputs": [],
   "source": [
    "import numpy as np \n",
    "import pandas as pd \n",
    "\n",
    "import os\n",
    "\n",
    "import matplotlib.pyplot as plt\n",
    "import seaborn as sns\n",
    "%matplotlib inline\n",
    "\n",
    "# Warnings\n",
    "import warnings\n",
    "warnings.filterwarnings('ignore')\n",
    "\n",
    "# Text Preprocessing\n",
    "import nltk\n",
    "# nltk.download(\"all\")\n",
    "from nltk.corpus import stopwords\n",
    "import string\n",
    "from nltk.tokenize import word_tokenize"
   ]
  },
  {
   "cell_type": "code",
   "execution_count": 3,
   "metadata": {},
   "outputs": [
    {
     "name": "stdout",
     "output_type": "stream",
     "text": [
      "Number of non-spam samples: 2551\n",
      "Number of spam samples: 501\n",
      "Ratio of non-spam to spam samples: 5.091816367265469\n"
     ]
    }
   ],
   "source": [
    "spam_folder = 'C:/Users/pmh1407/Downloads/archive/spam'\n",
    "ham_folder = 'C:/Users/pmh1407/Downloads/archive/ham'\n",
    "\n",
    "ham_filenames = [name for name in sorted(os.listdir(ham_folder)) if len(name) > 20]\n",
    "spam_filenames = [name for name in sorted(os.listdir(spam_folder)) if len(name) > 20]\n",
    "\n",
    "print('Number of non-spam samples:', len(ham_filenames))\n",
    "print('Number of spam samples:', len(spam_filenames))\n",
    "print('Ratio of non-spam to spam samples:', len(ham_filenames)/len(spam_filenames))"
   ]
  },
  {
   "cell_type": "code",
   "execution_count": 4,
   "metadata": {},
   "outputs": [
    {
     "data": {
      "text/plain": [
       "[<email.message.EmailMessage at 0x24e6b167d00>,\n",
       " <email.message.EmailMessage at 0x24e6b167fa0>]"
      ]
     },
     "execution_count": 4,
     "metadata": {},
     "output_type": "execute_result"
    }
   ],
   "source": [
    "import email.policy\n",
    "\n",
    "def load_email(is_spam, filename):\n",
    "    directory = spam_folder if is_spam else ham_folder\n",
    "    \n",
    "    with open(os.path.join(directory, filename), \"rb\") as f:\n",
    "        return email.parser.BytesParser(policy=email.policy.default).parse(f)\n",
    "    \n",
    "ham_emails = [load_email(is_spam=False, filename=name) for name in ham_filenames]\n",
    "spam_emails = [load_email(is_spam=True, filename=name) for name in spam_filenames]\n",
    "ham_emails[1:3]\n",
    "spam_emails[1:3]"
   ]
  },
  {
   "cell_type": "code",
   "execution_count": 5,
   "metadata": {},
   "outputs": [
    {
     "name": "stdout",
     "output_type": "stream",
     "text": [
      "Counter({'text/plain': 222, 'text/html': 181, 'multipart(text/plain, text/html)': 45, 'multipart(text/html)': 19, 'multipart(text/plain)': 19, 'multipart(multipart(text/html))': 5, 'multipart(text/plain, image/jpeg)': 3, 'multipart(text/html, application/octet-stream)': 2, 'multipart(text/plain, application/octet-stream)': 1, 'multipart(text/html, text/plain)': 1, 'multipart(multipart(text/html), application/octet-stream, image/jpeg)': 1, 'multipart(multipart(text/plain, text/html), image/gif)': 1, 'multipart/alternative': 1})\n"
     ]
    }
   ],
   "source": [
    "from collections import Counter\n",
    "\n",
    "def get_email_structure(email):\n",
    "    if isinstance(email, str):\n",
    "        return email\n",
    "    payload = email.get_payload()\n",
    "    if isinstance(payload, list):\n",
    "        return \"multipart({})\".format(\", \".join([\n",
    "            get_email_structure(sub_email)\n",
    "            for sub_email in payload\n",
    "        ]))\n",
    "    else:\n",
    "        return email.get_content_type()\n",
    "\n",
    "def structures_counter(emails):\n",
    "    structures = Counter()\n",
    "    for email in emails:\n",
    "        structure = get_email_structure(email)\n",
    "        structures[structure] += 1\n",
    "    return structures\n",
    "\n",
    "\n",
    "ham_structure = structures_counter(ham_emails)\n",
    "spam_structure = structures_counter(spam_emails)\n",
    "print(spam_structure)"
   ]
  },
  {
   "cell_type": "code",
   "execution_count": 6,
   "metadata": {},
   "outputs": [],
   "source": [
    "def html_to_plain(email):\n",
    "    try:\n",
    "        soup = BeautifulSoup(email.get_content(), 'html.parser')\n",
    "        return soup.text.replace('\\n\\n','')\n",
    "    except:\n",
    "        return \"empty\""
   ]
  },
  {
   "cell_type": "code",
   "execution_count": 7,
   "metadata": {},
   "outputs": [
    {
     "name": "stdout",
     "output_type": "stream",
     "text": [
      "Dear Sir or Madam:\n",
      "\n",
      "Please reply to \n",
      "Receiver: China Enterprise Management Co., Ltd. (CMC)\n",
      "E-mail: unido@chinatop.net\n",
      "\n",
      "As one technical organization supported by China Investment and Technical Promotion Office of United Nation Industry Development Organization (UNIDO), we cooperate closely with the relevant Chinese Quality Supervision and Standardization Information Organization. We provide the most valuable consulting services to help you to open Chinese market within the shortest time:\n",
      "\n",
      "1. Consulting Service on Mandatory National Standards of The People's Republic of China.\n",
      "\n",
      "2. Consulting Service on Inspection and Quarantine Standards of The People's Republic of China.\n",
      "\n",
      "3. Consulting Service for Permission to Enter Chinese Market\n",
      "\n",
      "We are very sorry to disturb you! \n",
      "\n",
      "More information, please check our World Wide Web: http://www.chinatop.net\n",
      "\n",
      "Sincerely yours\n",
      "\n",
      "-- \n",
      "Irish Linux Users' Group: ilug@linux.ie\n",
      "http://www.linux.ie/mailman/listinfo/ilug for (un)subscription information.\n",
      "List maintainer: listmaster@linux.ie\n",
      "\n",
      "\n"
     ]
    }
   ],
   "source": [
    "def email_to_plain(email):\n",
    "    struct = get_email_structure(email)\n",
    "    for part in email.walk():\n",
    "        partContentType = part.get_content_type()\n",
    "        if partContentType not in ['text/plain','text/html']:\n",
    "            continue\n",
    "        try:\n",
    "            partContent = part.get_content()\n",
    "        except: # in case of encoding issues\n",
    "            partContent = str(part.get_payload())\n",
    "        if partContentType == 'text/plain':\n",
    "            return partContent\n",
    "        else:\n",
    "            return html_to_plain(part)\n",
    "        \n",
    "#print(email_to_plain(ham_emails[42]))\n",
    "print(email_to_plain(spam_emails[45]))"
   ]
  },
  {
   "cell_type": "code",
   "execution_count": 8,
   "metadata": {},
   "outputs": [],
   "source": [
    "# structure all emails into plain text\n",
    "ham_emails_plain = [email_to_plain(email) for email in ham_emails if len(ham_emails) > 10]\n",
    "spam_emails_plain = [email_to_plain(email) for email in spam_emails if len(spam_emails) > 10]"
   ]
  },
  {
   "cell_type": "code",
   "execution_count": 9,
   "metadata": {},
   "outputs": [],
   "source": [
    "# some data conversion to get it into pandas\n",
    "ham_dic = {}\n",
    "spam_dic = {}\n",
    "ham_dic['text'] = ham_emails_plain\n",
    "spam_dic['text'] = spam_emails_plain\n",
    "\n",
    "ham_df = pd.DataFrame(ham_dic, columns = ['text', 'category'])\n",
    "spam_df = pd.DataFrame(spam_dic, columns = ['text', 'category'])\n",
    "\n",
    "# setting labels\n",
    "ham_df['category'] = 0\n",
    "spam_df['category'] = 1\n",
    "\n",
    "frames = [ham_df, spam_df]\n",
    "\n",
    "# dataframe of messages with proper labels for spam and non-spam\n",
    "messages = pd.concat(frames).reset_index(drop=True)"
   ]
  },
  {
   "cell_type": "code",
   "execution_count": 10,
   "metadata": {},
   "outputs": [],
   "source": [
    "import re\n",
    "import nltk\n",
    "from nltk.corpus import stopwords\n",
    "from nltk.stem.porter import PorterStemmer\n",
    "from nltk.stem import SnowballStemmer\n",
    "\n",
    "sm = SnowballStemmer(\"english\")\n",
    "\n",
    "messages['text'] = messages['text'].astype(str).map(lambda text: re.sub('[^a-zA-Z0-9]+', ' ',text)).apply(lambda x: (x.lower()).split())\n",
    "messages['text']= messages['text'].apply(lambda text_list:' '.join(list(map(lambda word:sm.stem(word),(list(filter(lambda text:text not in set(stopwords.words('english')),text_list)))))))"
   ]
  },
  {
   "cell_type": "code",
   "execution_count": 11,
   "metadata": {},
   "outputs": [
    {
     "data": {
      "text/html": [
       "<div>\n",
       "<style scoped>\n",
       "    .dataframe tbody tr th:only-of-type {\n",
       "        vertical-align: middle;\n",
       "    }\n",
       "\n",
       "    .dataframe tbody tr th {\n",
       "        vertical-align: top;\n",
       "    }\n",
       "\n",
       "    .dataframe thead th {\n",
       "        text-align: right;\n",
       "    }\n",
       "</style>\n",
       "<table border=\"1\" class=\"dataframe\">\n",
       "  <thead>\n",
       "    <tr style=\"text-align: right;\">\n",
       "      <th></th>\n",
       "      <th>text</th>\n",
       "      <th>category</th>\n",
       "    </tr>\n",
       "  </thead>\n",
       "  <tbody>\n",
       "    <tr>\n",
       "      <th>0</th>\n",
       "      <td>date wed 21 aug 2002 10 54 46 0500 chris garri...</td>\n",
       "      <td>0</td>\n",
       "    </tr>\n",
       "    <tr>\n",
       "      <th>1</th>\n",
       "      <td>martin post tasso papadopoulo greek sculptor b...</td>\n",
       "      <td>0</td>\n",
       "    </tr>\n",
       "    <tr>\n",
       "      <th>2</th>\n",
       "      <td>man threaten explos moscow thursday august 22 ...</td>\n",
       "      <td>0</td>\n",
       "    </tr>\n",
       "    <tr>\n",
       "      <th>3</th>\n",
       "      <td>klez virus die alreadi prolif virus ever klez ...</td>\n",
       "      <td>0</td>\n",
       "    </tr>\n",
       "  </tbody>\n",
       "</table>\n",
       "</div>"
      ],
      "text/plain": [
       "                                                text  category\n",
       "0  date wed 21 aug 2002 10 54 46 0500 chris garri...         0\n",
       "1  martin post tasso papadopoulo greek sculptor b...         0\n",
       "2  man threaten explos moscow thursday august 22 ...         0\n",
       "3  klez virus die alreadi prolif virus ever klez ...         0"
      ]
     },
     "execution_count": 11,
     "metadata": {},
     "output_type": "execute_result"
    }
   ],
   "source": [
    "messages.head(4)"
   ]
  },
  {
   "cell_type": "code",
   "execution_count": 12,
   "metadata": {},
   "outputs": [
    {
     "data": {
      "image/png": "[encoded data removed]",
      "text/plain": [
       "<Figure size 432x432 with 1 Axes>"
      ]
     },
     "metadata": {},
     "output_type": "display_data"
    }
   ],
   "source": [
    "# Dropping rows with NA values\n",
    "messages.dropna(inplace=True)\n",
    "\n",
    "messages[\"category\"].value_counts().plot(kind = 'pie', explode = [0, 0.1], figsize = (6, 6), autopct = '%1.1f%%', shadow = True)\n",
    "plt.ylabel(\"Spam vs Ham\")\n",
    "plt.legend([\"Ham\", \"Spam\"])\n",
    "plt.show()"
   ]
  },
  {
   "cell_type": "code",
   "execution_count": 13,
   "metadata": {},
   "outputs": [
    {
     "data": {
      "text/plain": [
       "count      3052.000000\n",
       "mean        879.644168\n",
       "std        3036.337334\n",
       "min           4.000000\n",
       "25%         232.750000\n",
       "50%         482.000000\n",
       "75%         857.250000\n",
       "max      123529.000000\n",
       "Name: messageLength, dtype: float64"
      ]
     },
     "execution_count": 13,
     "metadata": {},
     "output_type": "execute_result"
    }
   ],
   "source": [
    "messages[\"messageLength\"] = messages[\"text\"].apply(len)\n",
    "messages[\"messageLength\"].describe()"
   ]
  },
  {
   "cell_type": "code",
   "execution_count": 14,
   "metadata": {},
   "outputs": [
    {
     "name": "stdout",
     "output_type": "stream",
     "text": [
      "(3052, 220383)\n"
     ]
    }
   ],
   "source": [
    "from sklearn.feature_extraction.text import TfidfVectorizer\n",
    "vec = TfidfVectorizer(encoding = \"latin-1\", strip_accents = \"unicode\", ngram_range=(1, 2), stop_words = \"english\")\n",
    "features = vec.fit_transform(messages[\"text\"])\n",
    "print(features.shape)"
   ]
  },
  {
   "cell_type": "code",
   "execution_count": 17,
   "metadata": {},
   "outputs": [
    {
     "name": "stdout",
     "output_type": "stream",
     "text": [
      "(3052, 220383)\n",
      "(3052,)\n"
     ]
    }
   ],
   "source": [
    "# from sklearn.model_selection import train_test_split\n",
    "# print(features.shape)\n",
    "# print(messages[\"category\"].shape)\n",
    "# X_train, X_test, y_train, y_test = train_test_split(features, messages[\"category\"], stratify = messages[\"category\"], test_size = 0.2, random_state=40)"
   ]
  },
  {
   "cell_type": "code",
   "execution_count": 30,
   "metadata": {},
   "outputs": [
    {
     "name": "stdout",
     "output_type": "stream",
     "text": [
      "\n",
      "K Nearest Neighbors:\n",
      "Accuracy: 98.85%\n",
      "Precision: 94.29%\n",
      "Recall: 99.00%\n",
      "F1 Score: 96.59%\n",
      "Confusion Matrix:\n",
      "\n",
      "[[505   6]\n",
      " [  1  99]]\n",
      "\n",
      "Decision Tree:\n",
      "Accuracy: 95.25%\n",
      "Precision: 86.60%\n",
      "Recall: 84.00%\n",
      "F1 Score: 85.28%\n",
      "Confusion Matrix:\n",
      "\n",
      "[[498  13]\n",
      " [ 16  84]]\n",
      "\n",
      "Random Forest:\n",
      "Accuracy: 96.89%\n",
      "Precision: 98.80%\n",
      "Recall: 82.00%\n",
      "F1 Score: 89.62%\n",
      "Confusion Matrix:\n",
      "\n",
      "[[510   1]\n",
      " [ 18  82]]\n",
      "\n",
      "Naive Bayes:\n",
      "Accuracy: 91.33%\n",
      "Precision: 100.00%\n",
      "Recall: 47.00%\n",
      "F1 Score: 63.95%\n",
      "Confusion Matrix:\n",
      "\n",
      "[[511   0]\n",
      " [ 53  47]]\n",
      "\n",
      "SVM:\n",
      "Accuracy: 98.69%\n",
      "Precision: 100.00%\n",
      "Recall: 92.00%\n",
      "F1 Score: 95.83%\n",
      "Confusion Matrix:\n",
      "\n",
      "[[511   0]\n",
      " [  8  92]]\n"
     ]
    }
   ],
   "source": [
    "from sklearn.neighbors import KNeighborsClassifier\n",
    "from sklearn.tree import DecisionTreeClassifier\n",
    "from sklearn.ensemble import RandomForestClassifier\n",
    "from sklearn.naive_bayes import MultinomialNB\n",
    "from sklearn.linear_model import LogisticRegression, SGDClassifier\n",
    "from sklearn.svm import SVC\n",
    "from sklearn.metrics import f1_score, precision_score, recall_score, accuracy_score, confusion_matrix\n",
    "from sklearn.metrics import confusion_matrix\n",
    "from sklearn.model_selection import KFold, cross_val_score\n",
    "\n",
    "names = [\"K Nearest Neighbors\",\"Decision Tree\", \"Random Forest\",\"Naive Bayes\", \"SVM\"]\n",
    "\n",
    "classifiers = [\n",
    "    KNeighborsClassifier(),\n",
    "    DecisionTreeClassifier(),\n",
    "    RandomForestClassifier(),\n",
    "    MultinomialNB(),\n",
    "    SVC(kernel = 'linear')\n",
    "]\n",
    "\n",
    "models = zip(names, classifiers)\n",
    "\n",
    "for name, model in models:\n",
    "    kf = KFold(random_state=40, n_splits=3,shuffle=True)\n",
    "    scores = cross_val_score(model, X_train, y_train, cv=kf)\n",
    "    model.fit(X_train, y_train)\n",
    "    y_pred = model.predict(X_test)\n",
    "    print(\"\\n\" + name + \":\")\n",
    "    print(\"Accuracy: {:.2f}%\".format(100 * accuracy_score(y_test, y_pred)))\n",
    "    print(\"Precision: {:.2f}%\".format(100 * precision_score(y_test, y_pred)))\n",
    "    print(\"Recall: {:.2f}%\".format(100 * recall_score(y_test, y_pred)))\n",
    "    print(\"F1 Score: {:.2f}%\".format(100 * f1_score(y_test, y_pred)))\n",
    "    print(\"Confusion Matrix:\\n\") \n",
    "    confusion_m = confusion_matrix(y_test, y_pred)\n",
    "    print(confusion_m)"
   ]
  },
  {
   "cell_type": "code",
   "execution_count": null,
   "metadata": {},
   "outputs": [],
   "source": []
  },
  {
   "cell_type": "code",
   "execution_count": null,
   "metadata": {},
   "outputs": [],
   "source": []
  }
 ],
 "metadata": {
  "kernelspec": {
   "display_name": "Python 3",
   "language": "python",
   "name": "python3"
  },
  "language_info": {
   "codemirror_mode": {
    "name": "ipython",
    "version": 3
   },
   "file_extension": ".py",
   "mimetype": "text/x-python",
   "name": "python",
   "nbconvert_exporter": "python",
   "pygments_lexer": "ipython3",
   "version": "3.8.5"
  }
 },
 "nbformat": 4,
 "nbformat_minor": 4
}
