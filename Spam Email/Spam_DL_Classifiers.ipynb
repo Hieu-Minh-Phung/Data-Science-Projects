{
 "cells": [
  {
   "cell_type": "code",
   "execution_count": 47,
   "metadata": {
    "scrolled": false
   },
   "outputs": [
    {
     "name": "stdout",
     "output_type": "stream",
     "text": [
      " Volume in drive C is Windows\n",
      " Volume Serial Number is 16A0-5FFC\n",
      "\n",
      " Directory of C:\\Users\\pmh1407\\Downloads\\archive\n",
      "\n",
      "12/04/2020  02:38 PM    <DIR>          .\n",
      "12/04/2020  02:38 PM    <DIR>          ..\n",
      "12/04/2020  02:37 PM    <DIR>          ham\n",
      "12/04/2020  02:38 PM    <DIR>          hamnspam\n",
      "12/04/2020  02:38 PM    <DIR>          spam\n",
      "               0 File(s)              0 bytes\n",
      "               5 Dir(s)  166,231,564,288 bytes free\n"
     ]
    }
   ],
   "source": [
    "ls C:\\Users\\pmh1407\\Downloads\\archive"
   ]
  },
  {
   "cell_type": "code",
   "execution_count": 48,
   "metadata": {},
   "outputs": [],
   "source": [
    "import matplotlib.pyplot as plt\n",
    "import seaborn as sns\n",
    "%matplotlib inline\n",
    "\n",
    "# Warnings\n",
    "import warnings\n",
    "warnings.filterwarnings('ignore')\n",
    "\n",
    "# Text Preprocessing\n",
    "import nltk\n",
    "# nltk.download(\"all\")\n",
    "from nltk.corpus import stopwords\n",
    "import string\n",
    "from nltk.tokenize import word_tokenize"
   ]
  },
  {
   "cell_type": "code",
   "execution_count": 49,
   "metadata": {},
   "outputs": [
    {
     "name": "stdout",
     "output_type": "stream",
     "text": [
      "['ham', 'hamnspam', 'spam']\n"
     ]
    }
   ],
   "source": [
    "import numpy as np # linear algebra\n",
    "import pandas as pd # data processing, CSV file I/O (e.g. pd.read_csv)\n",
    "import os\n",
    "print(os.listdir(\"C:/Users/pmh1407/Downloads/archive\"))"
   ]
  },
  {
   "cell_type": "code",
   "execution_count": 50,
   "metadata": {},
   "outputs": [
    {
     "name": "stdout",
     "output_type": "stream",
     "text": [
      "Number of non-spam samples: 2551\n",
      "Number of spam samples: 501\n",
      "Ratio of non-spam to spam samples: 5.091816367265469\n"
     ]
    }
   ],
   "source": [
    "spam_folder = 'C:/Users/pmh1407/Downloads/archive/spam'\n",
    "ham_folder = 'C:/Users/pmh1407/Downloads/archive/ham'\n",
    "ham_filenames = [name for name in sorted(os.listdir(ham_folder)) if len(name) > 20]\n",
    "spam_filenames = [name for name in sorted(os.listdir(spam_folder)) if len(name) > 20]\n",
    "\n",
    "print('Number of non-spam samples:', len(ham_filenames))\n",
    "print('Number of spam samples:', len(spam_filenames))\n",
    "print('Ratio of non-spam to spam samples:', len(ham_filenames)/len(spam_filenames))"
   ]
  },
  {
   "cell_type": "code",
   "execution_count": 51,
   "metadata": {},
   "outputs": [
    {
     "data": {
      "text/plain": [
       "[<email.message.EmailMessage at 0x2b902d6b0a0>,\n",
       " <email.message.EmailMessage at 0x2b902d6b6a0>]"
      ]
     },
     "execution_count": 51,
     "metadata": {},
     "output_type": "execute_result"
    }
   ],
   "source": [
    "import email\n",
    "import email.policy\n",
    "\n",
    "def load_email(is_spam, filename):\n",
    "    directory = spam_folder if is_spam else ham_folder\n",
    "    \n",
    "    with open(os.path.join(directory, filename), \"rb\") as f:\n",
    "        return email.parser.BytesParser(policy=email.policy.default).parse(f)\n",
    "    \n",
    "ham_emails = [load_email(is_spam=False, filename=name) for name in ham_filenames]\n",
    "spam_emails = [load_email(is_spam=True, filename=name) for name in spam_filenames]\n",
    "ham_emails[1:3]\n",
    "spam_emails[1:3]"
   ]
  },
  {
   "cell_type": "code",
   "execution_count": 52,
   "metadata": {},
   "outputs": [
    {
     "name": "stdout",
     "output_type": "stream",
     "text": [
      "Counter({'text/plain': 222, 'text/html': 181, 'multipart(text/plain, text/html)': 45, 'multipart(text/html)': 19, 'multipart(text/plain)': 19, 'multipart(multipart(text/html))': 5, 'multipart(text/plain, image/jpeg)': 3, 'multipart(text/html, application/octet-stream)': 2, 'multipart(text/plain, application/octet-stream)': 1, 'multipart(text/html, text/plain)': 1, 'multipart(multipart(text/html), application/octet-stream, image/jpeg)': 1, 'multipart(multipart(text/plain, text/html), image/gif)': 1, 'multipart/alternative': 1})\n"
     ]
    }
   ],
   "source": [
    "from collections import Counter\n",
    "\n",
    "def get_email_structure(email):\n",
    "    if isinstance(email, str):\n",
    "        return email\n",
    "    payload = email.get_payload()\n",
    "    if isinstance(payload, list):\n",
    "        return \"multipart({})\".format(\", \".join([\n",
    "            get_email_structure(sub_email)\n",
    "            for sub_email in payload\n",
    "        ]))\n",
    "    else:\n",
    "        return email.get_content_type()\n",
    "\n",
    "def structures_counter(emails):\n",
    "    structures = Counter()\n",
    "    for email in emails:\n",
    "        structure = get_email_structure(email)\n",
    "        structures[structure] += 1\n",
    "    return structures\n",
    "\n",
    "\n",
    "ham_structure = structures_counter(ham_emails)\n",
    "spam_structure = structures_counter(spam_emails)\n",
    "print(spam_structure)"
   ]
  },
  {
   "cell_type": "code",
   "execution_count": 53,
   "metadata": {},
   "outputs": [],
   "source": [
    "def html_to_plain(email):\n",
    "    try:\n",
    "        soup = BeautifulSoup(email.get_content(), 'html.parser')\n",
    "        return soup.text.replace('\\n\\n','')\n",
    "    except:\n",
    "        return \"empty\""
   ]
  },
  {
   "cell_type": "code",
   "execution_count": 54,
   "metadata": {},
   "outputs": [
    {
     "name": "stdout",
     "output_type": "stream",
     "text": [
      "Dear Sir or Madam:\n",
      "\n",
      "Please reply to \n",
      "Receiver: China Enterprise Management Co., Ltd. (CMC)\n",
      "E-mail: unido@chinatop.net\n",
      "\n",
      "As one technical organization supported by China Investment and Technical Promotion Office of United Nation Industry Development Organization (UNIDO), we cooperate closely with the relevant Chinese Quality Supervision and Standardization Information Organization. We provide the most valuable consulting services to help you to open Chinese market within the shortest time:\n",
      "\n",
      "1. Consulting Service on Mandatory National Standards of The People's Republic of China.\n",
      "\n",
      "2. Consulting Service on Inspection and Quarantine Standards of The People's Republic of China.\n",
      "\n",
      "3. Consulting Service for Permission to Enter Chinese Market\n",
      "\n",
      "We are very sorry to disturb you! \n",
      "\n",
      "More information, please check our World Wide Web: http://www.chinatop.net\n",
      "\n",
      "Sincerely yours\n",
      "\n",
      "-- \n",
      "Irish Linux Users' Group: ilug@linux.ie\n",
      "http://www.linux.ie/mailman/listinfo/ilug for (un)subscription information.\n",
      "List maintainer: listmaster@linux.ie\n",
      "\n",
      "\n"
     ]
    }
   ],
   "source": [
    "def email_to_plain(email):\n",
    "    struct = get_email_structure(email)\n",
    "    for part in email.walk():\n",
    "        partContentType = part.get_content_type()\n",
    "        if partContentType not in ['text/plain','text/html']:\n",
    "            continue\n",
    "        try:\n",
    "            partContent = part.get_content()\n",
    "        except: # in case of encoding issues\n",
    "            partContent = str(part.get_payload())\n",
    "        if partContentType == 'text/plain':\n",
    "            return partContent\n",
    "        else:\n",
    "            return html_to_plain(part)\n",
    "        \n",
    "#print(email_to_plain(ham_emails[42]))\n",
    "print(email_to_plain(spam_emails[45]))"
   ]
  },
  {
   "cell_type": "code",
   "execution_count": 55,
   "metadata": {},
   "outputs": [],
   "source": [
    "ham_emails_plain = [email_to_plain(email) for email in ham_emails if len(ham_emails) > 10]\n",
    "spam_emails_plain = [email_to_plain(email) for email in spam_emails if len(spam_emails) > 10]"
   ]
  },
  {
   "cell_type": "code",
   "execution_count": 56,
   "metadata": {},
   "outputs": [
    {
     "name": "stdout",
     "output_type": "stream",
     "text": [
      "2551\n",
      "501\n"
     ]
    },
    {
     "data": {
      "text/plain": [
       "[\"Martin A posted:\\nTassos Papadopoulos, the Greek sculptor behind the plan, judged that the\\n limestone of Mount Kerdylio, 70 miles east of Salonika and not far from the\\n Mount Athos monastic community, was ideal for the patriotic sculpture. \\n \\n As well as Alexander's granite features, 240 ft high and 170 ft wide, a\\n museum, a restored amphitheatre and car park for admiring crowds are\\nplanned\\n---------------------\\nSo is this mountain limestone or granite?\\nIf it's limestone, it'll weather pretty fast.\\n\\n------------------------ Yahoo! Groups Sponsor ---------------------~-->\\n4 DVDs Free +s&p Join Now\\nhttp://us.click.yahoo.com/pt6YBB/NXiEAA/mG3HAA/7gSolB/TM\\n---------------------------------------------------------------------~->\\n\\nTo unsubscribe from this group, send an email to:\\nforteana-unsubscribe@egroups.com\\n\\n \\n\\nYour use of Yahoo! Groups is subject to http://docs.yahoo.com/info/terms/ \\n\\n\\n\\n\",\n",
       " \"Man Threatens Explosion In Moscow \\n\\nThursday August 22, 2002 1:40 PM\\nMOSCOW (AP) - Security officers on Thursday seized an unidentified man who\\nsaid he was armed with explosives and threatened to blow up his truck in\\nfront of Russia's Federal Security Services headquarters in Moscow, NTV\\ntelevision reported.\\nThe officers seized an automatic rifle the man was carrying, then the man\\ngot out of the truck and was taken into custody, NTV said. No other details\\nwere immediately available.\\nThe man had demanded talks with high government officials, the Interfax and\\nITAR-Tass news agencies said. Ekho Moskvy radio reported that he wanted to\\ntalk with Russian President Vladimir Putin.\\nPolice and security forces rushed to the Security Service building, within\\nblocks of the Kremlin, Red Square and the Bolshoi Ballet, and surrounded the\\nman, who claimed to have one and a half tons of explosives, the news\\nagencies said. Negotiations continued for about one and a half hours outside\\nthe building, ITAR-Tass and Interfax reported, citing witnesses.\\nThe man later drove away from the building, under police escort, and drove\\nto a street near Moscow's Olympic Penta Hotel, where authorities held\\nfurther negotiations with him, the Moscow police press service said. The\\nmove appeared to be an attempt by security services to get him to a more\\nsecure location. \\n\\n------------------------ Yahoo! Groups Sponsor ---------------------~-->\\n4 DVDs Free +s&p Join Now\\nhttp://us.click.yahoo.com/pt6YBB/NXiEAA/mG3HAA/7gSolB/TM\\n---------------------------------------------------------------------~->\\n\\nTo unsubscribe from this group, send an email to:\\nforteana-unsubscribe@egroups.com\\n\\n \\n\\nYour use of Yahoo! Groups is subject to http://docs.yahoo.com/info/terms/ \\n\\n\\n\\n\",\n",
       " \"Klez: The Virus That Won't Die\\n \\nAlready the most prolific virus ever, Klez continues to wreak havoc.\\n\\nAndrew Brandt\\n>>From the September 2002 issue of PC World magazine\\nPosted Thursday, August 01, 2002\\n\\n\\nThe Klez worm is approaching its seventh month of wriggling across \\nthe Web, making it one of the most persistent viruses ever. And \\nexperts warn that it may be a harbinger of new viruses that use a \\ncombination of pernicious approaches to go from PC to PC.\\n\\nAntivirus software makers Symantec and McAfee both report more than \\n2000 new infections daily, with no sign of letup at press time. The \\nBritish security firm MessageLabs estimates that 1 in every 300 \\ne-mail messages holds a variation of the Klez virus, and says that \\nKlez has already surpassed last summer's SirCam as the most prolific \\nvirus ever.\\n\\nAnd some newer Klez variants aren't merely nuisances--they can carry \\nother viruses in them that corrupt your data.\\n\\n...\\n\\nhttp://www.pcworld.com/news/article/0,aid,103259,00.asp\\n_______________________________________________\\nIrregulars mailing list\\nIrregulars@tb.tf\\nhttp://tb.tf/mailman/listinfo/irregulars\\n\\n\"]"
      ]
     },
     "execution_count": 56,
     "metadata": {},
     "output_type": "execute_result"
    }
   ],
   "source": [
    "print(len(ham_emails_plain))\n",
    "print(len(spam_emails_plain))\n",
    "ham_emails_plain[1:4]"
   ]
  },
  {
   "cell_type": "code",
   "execution_count": 57,
   "metadata": {},
   "outputs": [],
   "source": [
    "ham_dic = {}\n",
    "spam_dic = {}\n",
    "ham_dic['text'] = ham_emails_plain\n",
    "spam_dic['text'] = spam_emails_plain\n",
    "\n",
    "ham_df = pd.DataFrame(ham_dic, columns = ['text', 'category'])\n",
    "spam_df = pd.DataFrame(spam_dic, columns = ['text', 'category'])\n",
    "\n",
    "# setting labels\n",
    "ham_df['category'] = 0\n",
    "spam_df['category'] = 1\n",
    "\n",
    "frames = [ham_df, spam_df]\n",
    "\n",
    "# dataframe of messages with proper labels for spam and non-spam\n",
    "messages = pd.concat(frames).reset_index(drop=True)"
   ]
  },
  {
   "cell_type": "code",
   "execution_count": 58,
   "metadata": {},
   "outputs": [
    {
     "name": "stderr",
     "output_type": "stream",
     "text": [
      "[nltk_data] Downloading package stopwords to\n",
      "[nltk_data]     C:\\Users\\pmh1407\\AppData\\Roaming\\nltk_data...\n",
      "[nltk_data]   Package stopwords is already up-to-date!\n"
     ]
    }
   ],
   "source": [
    "import re\n",
    "import nltk\n",
    "nltk.download('stopwords')\n",
    "from nltk.corpus import stopwords\n",
    "from nltk.stem.porter import PorterStemmer\n",
    "from nltk.stem import SnowballStemmer\n",
    "\n",
    "sm = SnowballStemmer(\"english\")\n",
    "\n",
    "messages['text'] = messages['text'].astype(str).map(lambda text: re.sub('[^a-zA-Z0-9]+', ' ',text)).apply(lambda x: (x.lower()).split())\n",
    "messages['text']= messages['text'].apply(lambda text_list:' '.join(list(map(lambda word:sm.stem(word),(list(filter(lambda text:text not in set(stopwords.words('english')),text_list)))))))"
   ]
  },
  {
   "cell_type": "code",
   "execution_count": 59,
   "metadata": {},
   "outputs": [
    {
     "data": {
      "text/html": [
       "<div>\n",
       "<style scoped>\n",
       "    .dataframe tbody tr th:only-of-type {\n",
       "        vertical-align: middle;\n",
       "    }\n",
       "\n",
       "    .dataframe tbody tr th {\n",
       "        vertical-align: top;\n",
       "    }\n",
       "\n",
       "    .dataframe thead th {\n",
       "        text-align: right;\n",
       "    }\n",
       "</style>\n",
       "<table border=\"1\" class=\"dataframe\">\n",
       "  <thead>\n",
       "    <tr style=\"text-align: right;\">\n",
       "      <th></th>\n",
       "      <th>text</th>\n",
       "      <th>category</th>\n",
       "    </tr>\n",
       "  </thead>\n",
       "  <tbody>\n",
       "    <tr>\n",
       "      <th>0</th>\n",
       "      <td>date wed 21 aug 2002 10 54 46 0500 chris garri...</td>\n",
       "      <td>0</td>\n",
       "    </tr>\n",
       "    <tr>\n",
       "      <th>1</th>\n",
       "      <td>martin post tasso papadopoulo greek sculptor b...</td>\n",
       "      <td>0</td>\n",
       "    </tr>\n",
       "    <tr>\n",
       "      <th>2</th>\n",
       "      <td>man threaten explos moscow thursday august 22 ...</td>\n",
       "      <td>0</td>\n",
       "    </tr>\n",
       "    <tr>\n",
       "      <th>3</th>\n",
       "      <td>klez virus die alreadi prolif virus ever klez ...</td>\n",
       "      <td>0</td>\n",
       "    </tr>\n",
       "  </tbody>\n",
       "</table>\n",
       "</div>"
      ],
      "text/plain": [
       "                                                text  category\n",
       "0  date wed 21 aug 2002 10 54 46 0500 chris garri...         0\n",
       "1  martin post tasso papadopoulo greek sculptor b...         0\n",
       "2  man threaten explos moscow thursday august 22 ...         0\n",
       "3  klez virus die alreadi prolif virus ever klez ...         0"
      ]
     },
     "execution_count": 59,
     "metadata": {},
     "output_type": "execute_result"
    }
   ],
   "source": [
    "messages.head(4)"
   ]
  },
  {
   "cell_type": "code",
   "execution_count": 60,
   "metadata": {},
   "outputs": [
    {
     "data": {
      "image/png": "[encoded data removed]",
      "text/plain": [
       "<Figure size 432x432 with 1 Axes>"
      ]
     },
     "metadata": {},
     "output_type": "display_data"
    }
   ],
   "source": [
    "# Dropping rows with NA values\n",
    "messages.dropna(inplace=True)\n",
    "\n",
    "messages[\"category\"].value_counts().plot(kind = 'pie', explode = [0, 0.1], figsize = (6, 6), autopct = '%1.1f%%', shadow = True)\n",
    "plt.ylabel(\"Spam vs Ham\")\n",
    "plt.legend([\"Ham\", \"Spam\"])\n",
    "plt.show()"
   ]
  },
  {
   "cell_type": "code",
   "execution_count": 61,
   "metadata": {},
   "outputs": [
    {
     "data": {
      "text/plain": [
       "count      3052.000000\n",
       "mean        879.644168\n",
       "std        3036.337334\n",
       "min           4.000000\n",
       "25%         232.750000\n",
       "50%         482.000000\n",
       "75%         857.250000\n",
       "max      123529.000000\n",
       "Name: messageLength, dtype: float64"
      ]
     },
     "execution_count": 61,
     "metadata": {},
     "output_type": "execute_result"
    }
   ],
   "source": [
    "messages[\"messageLength\"] = messages[\"text\"].apply(len)\n",
    "messages[\"messageLength\"].describe()"
   ]
  },
  {
   "cell_type": "code",
   "execution_count": 62,
   "metadata": {},
   "outputs": [
    {
     "name": "stdout",
     "output_type": "stream",
     "text": [
      "<class 'pandas.core.frame.DataFrame'>\n",
      "Int64Index: 3052 entries, 0 to 3051\n",
      "Data columns (total 3 columns):\n",
      " #   Column         Non-Null Count  Dtype \n",
      "---  ------         --------------  ----- \n",
      " 0   text           3052 non-null   object\n",
      " 1   category       3052 non-null   int64 \n",
      " 2   messageLength  3052 non-null   int64 \n",
      "dtypes: int64(2), object(1)\n",
      "memory usage: 95.4+ KB\n"
     ]
    }
   ],
   "source": [
    "messages.info()"
   ]
  },
  {
   "cell_type": "code",
   "execution_count": 63,
   "metadata": {},
   "outputs": [
    {
     "name": "stdout",
     "output_type": "stream",
     "text": [
      "[2503, 215, 15040, 15041, 8921, 8922, 1296, 371, 2079, 6720, 2433, 15042, 929, 1381, 1908, 15043, 394, 2433, 15044, 15045, 800, 2627, 6721, 5988, 91, 10753, 10754, 480, 3490, 3781, 220, 3631, 3781, 1224, 3491, 2369, 15046, 1039, 1536, 7508, 3782, 371, 2121, 6720, 10754, 6720, 2166, 629, 712, 123, 58, 167, 43, 1122, 41, 260, 543, 2, 51, 74, 123, 1, 1554, 1555, 4192, 1006, 717, 299, 58, 93, 24, 860, 299, 972, 1, 6, 123, 58, 132, 2, 610, 123, 1, 328, 275]\n"
     ]
    }
   ],
   "source": [
    "from keras.preprocessing.text import Tokenizer\n",
    "wl=50000\n",
    "tokenizer=Tokenizer(num_words=wl)\n",
    "tokenizer.fit_on_texts(messages[\"text\"])\n",
    "text=tokenizer.texts_to_sequences(messages[\"text\"])\n",
    "print(text[1])"
   ]
  },
  {
   "cell_type": "code",
   "execution_count": 64,
   "metadata": {},
   "outputs": [],
   "source": [
    "from keras.preprocessing.sequence import pad_sequences\n",
    "msl=250\n",
    "text=pad_sequences(text,msl)"
   ]
  },
  {
   "cell_type": "code",
   "execution_count": 77,
   "metadata": {},
   "outputs": [
    {
     "name": "stdout",
     "output_type": "stream",
     "text": [
      "(2441, 250)\n",
      "(2441, 2)\n"
     ]
    }
   ],
   "source": [
    "from sklearn.model_selection import train_test_split\n",
    "from keras.utils import to_categorical\n",
    "label=to_categorical(messages[\"category\"])\n",
    "x_train, x_test, y_train, y_test = train_test_split(text, label, stratify = label, test_size = 0.2, random_state=40)\n",
    "print(x_train.shape)\n",
    "print(y_train.shape)"
   ]
  },
  {
   "cell_type": "code",
   "execution_count": 78,
   "metadata": {},
   "outputs": [
    {
     "name": "stdout",
     "output_type": "stream",
     "text": [
      "Model: \"functional_5\"\n",
      "_________________________________________________________________\n",
      "Layer (type)                 Output Shape              Param #   \n",
      "=================================================================\n",
      "input_3 (InputLayer)         [(None, 250)]             0         \n",
      "_________________________________________________________________\n",
      "embedding_4 (Embedding)      (None, 250, 64)           3200000   \n",
      "_________________________________________________________________\n",
      "lstm_4 (LSTM)                (None, 64)                33024     \n",
      "_________________________________________________________________\n",
      "dense_8 (Dense)              (None, 10)                650       \n",
      "_________________________________________________________________\n",
      "dense_9 (Dense)              (None, 2)                 22        \n",
      "=================================================================\n",
      "Total params: 3,233,696\n",
      "Trainable params: 3,233,696\n",
      "Non-trainable params: 0\n",
      "_________________________________________________________________\n"
     ]
    }
   ],
   "source": [
    "from keras.models import Sequential\n",
    "from keras.models import Model\n",
    "from keras.layers import Input\n",
    "from keras.layers import Dense\n",
    "from keras.layers import LSTM\n",
    "from keras.layers import Dropout\n",
    "from keras.layers import Embedding\n",
    "\n",
    "input_ = Input(shape=(250,)) \n",
    "embedding = Embedding(50000,64,input_length=250)(input_)\n",
    "layer1 = (LSTM(64,input_shape=(250,10),activation='tanh'))(embedding)\n",
    "layer2 = (Dense(10,activation='relu'))(layer1)\n",
    "layer3 = (Dense(2,activation='softmax'))(layer2)\n",
    "model = Model([input_], layer3) \n",
    "model.compile(loss='categorical_crossentropy',optimizer='adam',metrics=['accuracy'])\n",
    "model.summary()"
   ]
  },
  {
   "cell_type": "code",
   "execution_count": 79,
   "metadata": {},
   "outputs": [
    {
     "name": "stdout",
     "output_type": "stream",
     "text": [
      "Epoch 1/10\n",
      "196/196 [==============================] - 14s 72ms/step - loss: 0.2894 - accuracy: 0.9057 - val_loss: 0.1010 - val_accuracy: 0.9714\n",
      "Epoch 2/10\n",
      "196/196 [==============================] - 14s 71ms/step - loss: 0.0640 - accuracy: 0.9800 - val_loss: 0.0733 - val_accuracy: 0.9755\n",
      "Epoch 3/10\n",
      "196/196 [==============================] - 17s 87ms/step - loss: 0.0282 - accuracy: 0.9933 - val_loss: 0.5286 - val_accuracy: 0.8875\n",
      "Epoch 4/10\n",
      "196/196 [==============================] - 16s 79ms/step - loss: 0.0675 - accuracy: 0.9759 - val_loss: 0.0612 - val_accuracy: 0.9836\n",
      "Epoch 5/10\n",
      "196/196 [==============================] - 28s 141ms/step - loss: 0.0054 - accuracy: 0.9990 - val_loss: 0.0739 - val_accuracy: 0.9836\n",
      "Epoch 6/10\n",
      "196/196 [==============================] - 28s 144ms/step - loss: 0.0020 - accuracy: 0.9995 - val_loss: 0.0469 - val_accuracy: 0.9857\n",
      "Epoch 7/10\n",
      "196/196 [==============================] - 28s 144ms/step - loss: 5.2889e-04 - accuracy: 1.0000 - val_loss: 0.0568 - val_accuracy: 0.9857\n",
      "Epoch 8/10\n",
      "196/196 [==============================] - 28s 145ms/step - loss: 3.0808e-04 - accuracy: 1.0000 - val_loss: 0.0631 - val_accuracy: 0.9857\n",
      "Epoch 9/10\n",
      "196/196 [==============================] - 30s 151ms/step - loss: 2.1551e-04 - accuracy: 1.0000 - val_loss: 0.0680 - val_accuracy: 0.9857\n",
      "Epoch 10/10\n",
      "196/196 [==============================] - 29s 146ms/step - loss: 1.6209e-04 - accuracy: 1.0000 - val_loss: 0.0720 - val_accuracy: 0.9857\n"
     ]
    }
   ],
   "source": [
    "history=model.fit(x_train,y_train,epochs=10, validation_split=0.2 ,batch_size=10)"
   ]
  },
  {
   "cell_type": "code",
   "execution_count": 80,
   "metadata": {},
   "outputs": [
    {
     "name": "stdout",
     "output_type": "stream",
     "text": [
      "20/20 [==============================] - 0s 24ms/step - loss: 0.0496 - accuracy: 0.9918\n",
      "Test set\n",
      "  Loss: 0.050\n",
      "  Accuracy: 0.992\n"
     ]
    }
   ],
   "source": [
    "acc=model.evaluate(x_test,y_test)\n",
    "print('Test set\\n  Loss: {:0.3f}\\n  Accuracy: {:0.3f}'.format(acc[0],acc[1]))"
   ]
  },
  {
   "cell_type": "code",
   "execution_count": 81,
   "metadata": {},
   "outputs": [
    {
     "name": "stdout",
     "output_type": "stream",
     "text": [
      "Precision: 99.52%\n",
      "Recall: 97.50%\n",
      "F1 Score: 98.47%\n",
      "Confusion Matrix:\n",
      "\n",
      "[[511   0]\n",
      " [  5  95]]\n"
     ]
    }
   ],
   "source": [
    "from sklearn.metrics import f1_score, precision_score, recall_score, accuracy_score, confusion_matrix\n",
    "y_pred1 = model.predict(x_test)\n",
    "y_pred = np.argmax(y_pred1, axis=1)\n",
    "\n",
    "# Print f1, precision, and recall scores\n",
    "print(\"Precision: {:.2f}%\".format(100 * precision_score(y_test.argmax(axis=1), y_pred , average=\"macro\")))\n",
    "print(\"Recall: {:.2f}%\".format(100 * recall_score(y_test.argmax(axis=1), y_pred , average=\"macro\")))\n",
    "print(\"F1 Score: {:.2f}%\".format(100 * f1_score(y_test.argmax(axis=1), y_pred , average=\"macro\")))\n",
    "print(\"Confusion Matrix:\\n\") \n",
    "confusion_m = confusion_matrix(y_test.argmax(axis=1), y_pred)\n",
    "print(confusion_m)"
   ]
  },
  {
   "cell_type": "code",
   "execution_count": 82,
   "metadata": {},
   "outputs": [
    {
     "data": {
      "image/png": "[encoded data removed]",
      "text/plain": [
       "<Figure size 560x400 with 1 Axes>"
      ]
     },
     "metadata": {},
     "output_type": "display_data"
    },
    {
     "data": {
      "image/png": "[encoded data removed]",
      "text/plain": [
       "<Figure size 560x400 with 1 Axes>"
      ]
     },
     "metadata": {},
     "output_type": "display_data"
    }
   ],
   "source": [
    "import matplotlib.pyplot as plt\n",
    "hist=history\n",
    "# visualizing losses and accuracy\n",
    "train_loss=hist.history['loss']\n",
    "val_loss=hist.history['val_loss']\n",
    "train_acc=hist.history['accuracy']\n",
    "val_acc=hist.history['val_accuracy']\n",
    "xc=range(10)\n",
    "\n",
    "plt.figure(1,figsize=(7,5))\n",
    "plt.plot(xc,train_loss)\n",
    "plt.plot(xc,val_loss)\n",
    "plt.xlabel('num of Epochs')\n",
    "plt.ylabel('loss')\n",
    "plt.title('train_loss vs val_loss')\n",
    "plt.grid(True)\n",
    "plt.legend(['train','val'])\n",
    "#print plt.style.available # use bmh, classic,ggplot for big pictures\n",
    "plt.style.use(['classic'])\n",
    "\n",
    "plt.figure(2,figsize=(7,5))\n",
    "plt.plot(xc,train_acc)\n",
    "plt.plot(xc,val_acc)\n",
    "plt.xlabel('num of Epochs')\n",
    "plt.ylabel('accuracy')\n",
    "plt.title('train_acc vs val_acc')\n",
    "plt.grid(True)\n",
    "plt.legend(['train','val'],loc=4)\n",
    "#print plt.style.available # use bmh, classic,ggplot for big pictures\n",
    "plt.style.use(['classic'])"
   ]
  },
  {
   "cell_type": "code",
   "execution_count": 83,
   "metadata": {},
   "outputs": [
    {
     "data": {
      "text/plain": [
       "<matplotlib.axes._subplots.AxesSubplot at 0x2b918ea4fd0>"
      ]
     },
     "execution_count": 83,
     "metadata": {},
     "output_type": "execute_result"
    },
    {
     "data": {
      "image/png": "[encoded data removed]",
      "text/plain": [
       "<Figure size 640x480 with 2 Axes>"
      ]
     },
     "metadata": {},
     "output_type": "display_data"
    }
   ],
   "source": [
    "import matplotlib.pyplot as plt\n",
    "import numpy as np\n",
    "from sklearn import metrics\n",
    "y_pred=model.predict(x_test)\n",
    "y_test\n",
    "labels=[1,0]\n",
    "y_test_label=[]\n",
    "y_pred_label=[]\n",
    "\n",
    "for i in y_test:\n",
    "   y_test_label.append(labels[np.argmax(i)])\n",
    "for i in y_pred:\n",
    "    y_pred_label.append(labels[np.argmax(i)])\n",
    "data = metrics.confusion_matrix(y_test_label, y_pred_label)\n",
    "import seaborn as sb\n",
    "sb.heatmap(data, annot=True)"
   ]
  },
  {
   "cell_type": "code",
   "execution_count": null,
   "metadata": {},
   "outputs": [],
   "source": []
  },
  {
   "cell_type": "code",
   "execution_count": null,
   "metadata": {},
   "outputs": [],
   "source": []
  },
  {
   "cell_type": "code",
   "execution_count": null,
   "metadata": {},
   "outputs": [],
   "source": []
  },
  {
   "cell_type": "code",
   "execution_count": null,
   "metadata": {},
   "outputs": [],
   "source": []
  },
  {
   "cell_type": "code",
   "execution_count": null,
   "metadata": {},
   "outputs": [],
   "source": []
  },
  {
   "cell_type": "code",
   "execution_count": null,
   "metadata": {},
   "outputs": [],
   "source": []
  },
  {
   "cell_type": "code",
   "execution_count": null,
   "metadata": {},
   "outputs": [],
   "source": []
  },
  {
   "cell_type": "code",
   "execution_count": null,
   "metadata": {},
   "outputs": [],
   "source": []
  },
  {
   "cell_type": "code",
   "execution_count": null,
   "metadata": {},
   "outputs": [],
   "source": []
  },
  {
   "cell_type": "code",
   "execution_count": null,
   "metadata": {},
   "outputs": [],
   "source": []
  },
  {
   "cell_type": "code",
   "execution_count": null,
   "metadata": {},
   "outputs": [],
   "source": []
  }
 ],
 "metadata": {
  "kernelspec": {
   "display_name": "Python 3",
   "language": "python",
   "name": "python3"
  },
  "language_info": {
   "codemirror_mode": {
    "name": "ipython",
    "version": 3
   },
   "file_extension": ".py",
   "mimetype": "text/x-python",
   "name": "python",
   "nbconvert_exporter": "python",
   "pygments_lexer": "ipython3",
   "version": "3.8.5"
  }
 },
 "nbformat": 4,
 "nbformat_minor": 4
}
