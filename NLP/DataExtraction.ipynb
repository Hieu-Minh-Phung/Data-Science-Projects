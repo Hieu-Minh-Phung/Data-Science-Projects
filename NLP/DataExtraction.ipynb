{
 "cells": [
  {
   "cell_type": "code",
   "execution_count": null,
   "metadata": {
    "id": "uH73fzwl5_Vo"
   },
   "outputs": [],
   "source": [
    "# change the path to the your relevant path\n",
    "#remember to mount your google drive and copy the .csv path from there\n",
    "''' hey guys I copy and pasted the address_raw.csv file into the sample data folder\n",
    "so that you guys can access the csv file. You guys can try to read the csv file again it should work'''\n",
    "path = \"/content/sample_data/address_raw.csv\""
   ]
  },
  {
   "cell_type": "markdown",
   "metadata": {
    "id": "xVZVOIly7F6v"
   },
   "source": [
    "#import libraries"
   ]
  },
  {
   "cell_type": "code",
   "execution_count": null,
   "metadata": {
    "id": "axAtB-4_7FKq"
   },
   "outputs": [],
   "source": [
    "import pandas as pd\n",
    "import re"
   ]
  },
  {
   "cell_type": "code",
   "execution_count": null,
   "metadata": {
    "colab": {
     "base_uri": "https://localhost:8080/",
     "height": 419
    },
    "id": "mOUfUnrQ7Lp1",
    "outputId": "87f1120e-bf2d-4bf3-ba74-51e22f74984f"
   },
   "outputs": [
    {
     "data": {
      "text/html": [
       "<div>\n",
       "<style scoped>\n",
       "    .dataframe tbody tr th:only-of-type {\n",
       "        vertical-align: middle;\n",
       "    }\n",
       "\n",
       "    .dataframe tbody tr th {\n",
       "        vertical-align: top;\n",
       "    }\n",
       "\n",
       "    .dataframe thead th {\n",
       "        text-align: right;\n",
       "    }\n",
       "</style>\n",
       "<table border=\"1\" class=\"dataframe\">\n",
       "  <thead>\n",
       "    <tr style=\"text-align: right;\">\n",
       "      <th></th>\n",
       "      <th>itemid</th>\n",
       "      <th>shopid</th>\n",
       "      <th>address</th>\n",
       "    </tr>\n",
       "  </thead>\n",
       "  <tbody>\n",
       "    <tr>\n",
       "      <th>0</th>\n",
       "      <td>1540859082</td>\n",
       "      <td>15050500</td>\n",
       "      <td>50 SERANGOON NORTH AVE 4, #07-02 , SG 555856</td>\n",
       "    </tr>\n",
       "    <tr>\n",
       "      <th>1</th>\n",
       "      <td>381349277</td>\n",
       "      <td>12998987</td>\n",
       "      <td>2 Gambas Crescent Nordcom II\\n, SG</td>\n",
       "    </tr>\n",
       "    <tr>\n",
       "      <th>2</th>\n",
       "      <td>6737621209</td>\n",
       "      <td>268019857</td>\n",
       "      <td>Klang, 41200 Selangor</td>\n",
       "    </tr>\n",
       "    <tr>\n",
       "      <th>3</th>\n",
       "      <td>3336699554</td>\n",
       "      <td>267776111</td>\n",
       "      <td>KOTA BANDUNG - CICENDO, JAWA BARAT, ID</td>\n",
       "    </tr>\n",
       "    <tr>\n",
       "      <th>4</th>\n",
       "      <td>3224237917</td>\n",
       "      <td>224714678</td>\n",
       "      <td>MEGA@WOODLANDS, 39 WOODLANDS CLOSE, SG</td>\n",
       "    </tr>\n",
       "    <tr>\n",
       "      <th>...</th>\n",
       "      <td>...</td>\n",
       "      <td>...</td>\n",
       "      <td>...</td>\n",
       "    </tr>\n",
       "    <tr>\n",
       "      <th>2090</th>\n",
       "      <td>6836554127</td>\n",
       "      <td>146144985</td>\n",
       "      <td>SAINT GEORGE'S TOWERS, 26B, SAINT GEORGE'S LAN...</td>\n",
       "    </tr>\n",
       "    <tr>\n",
       "      <th>2091</th>\n",
       "      <td>4848320043</td>\n",
       "      <td>107539677</td>\n",
       "      <td>BLOCK 24, BALAM ROAD, SG</td>\n",
       "    </tr>\n",
       "    <tr>\n",
       "      <th>2092</th>\n",
       "      <td>342968610</td>\n",
       "      <td>1169758</td>\n",
       "      <td>EXTRA SPACE BOON KENG, 301 BOON KENG ROAD, SG</td>\n",
       "    </tr>\n",
       "    <tr>\n",
       "      <th>2093</th>\n",
       "      <td>71251468</td>\n",
       "      <td>729191</td>\n",
       "      <td>Cherrryhill Condo, 25 Lor Liew Lian, Singapore...</td>\n",
       "    </tr>\n",
       "    <tr>\n",
       "      <th>2094</th>\n",
       "      <td>7548226300</td>\n",
       "      <td>278386847</td>\n",
       "      <td>5 Yishun Industrial Street 1, North Spring Biz...</td>\n",
       "    </tr>\n",
       "  </tbody>\n",
       "</table>\n",
       "<p>2095 rows × 3 columns</p>\n",
       "</div>"
      ],
      "text/plain": [
       "          itemid     shopid                                            address\n",
       "0     1540859082   15050500       50 SERANGOON NORTH AVE 4, #07-02 , SG 555856\n",
       "1      381349277   12998987                 2 Gambas Crescent Nordcom II\\n, SG\n",
       "2     6737621209  268019857                              Klang, 41200 Selangor\n",
       "3     3336699554  267776111             KOTA BANDUNG - CICENDO, JAWA BARAT, ID\n",
       "4     3224237917  224714678             MEGA@WOODLANDS, 39 WOODLANDS CLOSE, SG\n",
       "...          ...        ...                                                ...\n",
       "2090  6836554127  146144985  SAINT GEORGE'S TOWERS, 26B, SAINT GEORGE'S LAN...\n",
       "2091  4848320043  107539677                           BLOCK 24, BALAM ROAD, SG\n",
       "2092   342968610    1169758      EXTRA SPACE BOON KENG, 301 BOON KENG ROAD, SG\n",
       "2093    71251468     729191  Cherrryhill Condo, 25 Lor Liew Lian, Singapore...\n",
       "2094  7548226300  278386847  5 Yishun Industrial Street 1, North Spring Biz...\n",
       "\n",
       "[2095 rows x 3 columns]"
      ]
     },
     "execution_count": 12,
     "metadata": {
      "tags": []
     },
     "output_type": "execute_result"
    }
   ],
   "source": [
    "df =  pd.read_csv(path)\n",
    "df"
   ]
  },
  {
   "cell_type": "code",
   "execution_count": null,
   "metadata": {
    "colab": {
     "base_uri": "https://localhost:8080/",
     "height": 35
    },
    "id": "ZS0Th1-s7Sii",
    "outputId": "13baca31-dd63-4ab6-c913-dd6604061e5b"
   },
   "outputs": [
    {
     "data": {
      "application/vnd.google.colaboratory.intrinsic+json": {
       "type": "string"
      },
      "text/plain": [
       "'50 SERANGOON NORTH AVE 4, #07-02 , SG 555856'"
      ]
     },
     "execution_count": 7,
     "metadata": {
      "tags": []
     },
     "output_type": "execute_result"
    }
   ],
   "source": [
    "test_adr = df['address'][0]\n",
    "test_adr"
   ]
  },
  {
   "cell_type": "code",
   "execution_count": null,
   "metadata": {
    "id": "Zj5TqTAg7m48"
   },
   "outputs": [],
   "source": [
    "regex = \"\\w\"\n",
    "# w means any \"single letter alphanumeric\" character  found in string\n",
    "# \n",
    "match = re.findall(regex, test_adr)\n",
    "print(match)"
   ]
  },
  {
   "cell_type": "code",
   "execution_count": null,
   "metadata": {
    "colab": {
     "base_uri": "https://localhost:8080/",
     "height": 214
    },
    "id": "MdVdPovZ8rXn",
    "outputId": "62e24afe-826a-4409-9444-b3aa5f8b25ac"
   },
   "outputs": [
    {
     "ename": "NameError",
     "evalue": "ignored",
     "output_type": "error",
     "traceback": [
      "\u001b[0;31m---------------------------------------------------------------------------\u001b[0m",
      "\u001b[0;31mNameError\u001b[0m                                 Traceback (most recent call last)",
      "\u001b[0;32m<ipython-input-35-19ca8358a0df>\u001b[0m in \u001b[0;36m<module>\u001b[0;34m()\u001b[0m\n\u001b[1;32m     22\u001b[0m \u001b[0;34m\u001b[0m\u001b[0m\n\u001b[1;32m     23\u001b[0m \u001b[0;31m# define a match using the regex defined above, on the string\u001b[0m\u001b[0;34m\u001b[0m\u001b[0;34m\u001b[0m\u001b[0;34m\u001b[0m\u001b[0m\n\u001b[0;32m---> 24\u001b[0;31m \u001b[0mmatch\u001b[0m \u001b[0;34m=\u001b[0m \u001b[0mre\u001b[0m\u001b[0;34m.\u001b[0m\u001b[0mfindall\u001b[0m\u001b[0;34m(\u001b[0m\u001b[0mregex\u001b[0m\u001b[0;34m,\u001b[0m \u001b[0mtest_adr\u001b[0m\u001b[0;34m)\u001b[0m\u001b[0;34m\u001b[0m\u001b[0;34m\u001b[0m\u001b[0m\n\u001b[0m\u001b[1;32m     25\u001b[0m \u001b[0mprint\u001b[0m\u001b[0;34m(\u001b[0m\u001b[0mmatch\u001b[0m\u001b[0;34m)\u001b[0m\u001b[0;34m\u001b[0m\u001b[0;34m\u001b[0m\u001b[0m\n",
      "\u001b[0;31mNameError\u001b[0m: name 'test_adr' is not defined"
     ]
    }
   ],
   "source": [
    "# \\w for any alphanumeric characters, no '#', whitespace, commas\n",
    "# \\d for numbers\n",
    "# * for zero or more repetitions\n",
    "# + for one or more repetitions\n",
    "# {} to specify length range\n",
    "# [a-z] for lowercase characters\n",
    "# [A-Z] for uppercase characters\n",
    "# ^ to exclude\n",
    "# | to indicate choices '''eg. (SG|ID) will give both SG and ID'''\n",
    "# ? to indicate that it is optional eg. '''#? mean # is optional'''\n",
    "# \\ to inescape character\n",
    "# s for space in between characters \n",
    "'''\n",
    "? is for optional \n",
    "regex = \"#?\\d+-\\d+\" will give both \"#07-10\" and both \"02-10\"\n",
    "'''\n",
    "'''regex = \"[A-Z]+\\s\\w+\" will give \"SERANGOON NORTH\"   '''\n",
    "\n",
    "regex = \"BLOCK\\s\\d+\"\n",
    "# \\d\\d\\d\\d\\d\\d will  5-digit postcodes not included repeated d\n",
    "\n",
    "\n",
    "# define a match using the regex defined above, on the string\n",
    "match = re.findall(regex, test_adr)\n",
    "print(match)"
   ]
  },
  {
   "cell_type": "code",
   "execution_count": null,
   "metadata": {
    "colab": {
     "base_uri": "https://localhost:8080/",
     "height": 231
    },
    "id": "cYyqBdRP8rOI",
    "outputId": "c5948ff7-21da-4b37-acf8-6addd40b8b1e"
   },
   "outputs": [
    {
     "ename": "NameError",
     "evalue": "ignored",
     "output_type": "error",
     "traceback": [
      "\u001b[0;31m---------------------------------------------------------------------------\u001b[0m",
      "\u001b[0;31mNameError\u001b[0m                                 Traceback (most recent call last)",
      "\u001b[0;32m<ipython-input-34-b10d42d19610>\u001b[0m in \u001b[0;36m<module>\u001b[0;34m()\u001b[0m\n\u001b[1;32m      5\u001b[0m \u001b[0mblock_regex\u001b[0m \u001b[0;34m=\u001b[0m \u001b[0;34m\"BLOCK\\d+\"\u001b[0m\u001b[0;34m\u001b[0m\u001b[0;34m\u001b[0m\u001b[0m\n\u001b[1;32m      6\u001b[0m \u001b[0;34m\u001b[0m\u001b[0m\n\u001b[0;32m----> 7\u001b[0;31m \u001b[0;32mfor\u001b[0m \u001b[0maddress\u001b[0m \u001b[0;32min\u001b[0m \u001b[0mdf\u001b[0m\u001b[0;34m[\u001b[0m\u001b[0;34m'address'\u001b[0m\u001b[0;34m]\u001b[0m\u001b[0;34m[\u001b[0m\u001b[0;34m:\u001b[0m\u001b[0;36m10\u001b[0m\u001b[0;34m]\u001b[0m\u001b[0;34m:\u001b[0m\u001b[0;34m\u001b[0m\u001b[0;34m\u001b[0m\u001b[0m\n\u001b[0m\u001b[1;32m      8\u001b[0m   \u001b[0mpostcode\u001b[0m \u001b[0;34m=\u001b[0m \u001b[0mre\u001b[0m\u001b[0;34m.\u001b[0m\u001b[0mfindall\u001b[0m\u001b[0;34m(\u001b[0m\u001b[0mpostcode_regex\u001b[0m\u001b[0;34m,\u001b[0m \u001b[0maddress\u001b[0m\u001b[0;34m)\u001b[0m\u001b[0;34m\u001b[0m\u001b[0;34m\u001b[0m\u001b[0m\n\u001b[1;32m      9\u001b[0m   \u001b[0mcountry\u001b[0m \u001b[0;34m=\u001b[0m \u001b[0mre\u001b[0m\u001b[0;34m.\u001b[0m\u001b[0mfindall\u001b[0m\u001b[0;34m(\u001b[0m\u001b[0mcountry_regex\u001b[0m\u001b[0;34m,\u001b[0m \u001b[0maddress\u001b[0m\u001b[0;34m)\u001b[0m\u001b[0;34m\u001b[0m\u001b[0;34m\u001b[0m\u001b[0m\n",
      "\u001b[0;31mNameError\u001b[0m: name 'df' is not defined"
     ]
    }
   ],
   "source": [
    "# let's give our new technique a spin\n",
    "postcode_regex = \"\\d{5,6}\"\n",
    "country_regex = \"SG|ID\"\n",
    "unit_regex = \"#?\\d+-\\d+\"\n",
    "block_regex = \"BLOCK\\s\\d+\" \n",
    "\n",
    "for address in df['address'][:10]:\n",
    "  postcode = re.findall(postcode_regex, address)\n",
    "  country = re.findall(country_regex, address)\n",
    "  unit = re.findall(unit_regex, address)\n",
    "  block = re.findall(block_regex, address)\n",
    "  print(address, block)\n",
    "  # domain knowlegde, 5-6 digits in postcode, check len"
   ]
  },
  {
   "cell_type": "markdown",
   "metadata": {
    "id": "VFLEt0LkIElp"
   },
   "source": [
    "#REGEX useful library\n",
    "https://pypi.org/project/address-parser/ documentation"
   ]
  },
  {
   "cell_type": "code",
   "execution_count": null,
   "metadata": {
    "colab": {
     "base_uri": "https://localhost:8080/"
    },
    "id": "9y51dCvJ_wYt",
    "outputId": "bfedaa29-3dde-4d63-c696-0c3a83c73a37"
   },
   "outputs": [
    {
     "name": "stdout",
     "output_type": "stream",
     "text": [
      "Collecting address-parser\n",
      "\u001b[?25l  Downloading https://files.pythonhosted.org/packages/5e/08/c202f4a36837594bbadd77c7ae6749b7666d2e74bd6612a050fd7cd4fbe0/address_parser-1.0.0.tar.gz (69kB)\n",
      "\r",
      "\u001b[K     |████▊                           | 10kB 14.0MB/s eta 0:00:01\r",
      "\u001b[K     |█████████▍                      | 20kB 10.7MB/s eta 0:00:01\r",
      "\u001b[K     |██████████████▏                 | 30kB 8.4MB/s eta 0:00:01\r",
      "\u001b[K     |██████████████████▉             | 40kB 7.4MB/s eta 0:00:01\r",
      "\u001b[K     |███████████████████████▋        | 51kB 4.3MB/s eta 0:00:01\r",
      "\u001b[K     |████████████████████████████▎   | 61kB 4.9MB/s eta 0:00:01\r",
      "\u001b[K     |████████████████████████████████| 71kB 3.3MB/s \n",
      "\u001b[?25hBuilding wheels for collected packages: address-parser\n",
      "  Building wheel for address-parser (setup.py) ... \u001b[?25l\u001b[?25hdone\n",
      "  Created wheel for address-parser: filename=address_parser-1.0.0-cp37-none-any.whl size=10870 sha256=ad8062f5e779e3337804e79e31fef3288b961ce54b49c196fc0c5965bf18826f\n",
      "  Stored in directory: /root/.cache/pip/wheels/f5/09/85/aaeacc095f0035cd98b170323182fb3ca9933bf9f910374fac\n",
      "Successfully built address-parser\n",
      "Installing collected packages: address-parser\n",
      "Successfully installed address-parser-1.0.0\n",
      "Collecting phonetics\n",
      "  Downloading https://files.pythonhosted.org/packages/67/a5/d1b6dbcbb05477aa5f0c5e73a7d68c6d23ab098af4461072f00999ed573a/phonetics-1.0.5.tar.gz\n",
      "Building wheels for collected packages: phonetics\n",
      "  Building wheel for phonetics (setup.py) ... \u001b[?25l\u001b[?25hdone\n",
      "  Created wheel for phonetics: filename=phonetics-1.0.5-py2.py3-none-any.whl size=8713 sha256=f843ab6b06b068f9e19787db2c7854e52d6b43467d4c91370c28c98d8f4374d6\n",
      "  Stored in directory: /root/.cache/pip/wheels/ad/ca/b1/e41e662f86b95d185748da378fdc995c1520b0d5628c46a0b7\n",
      "Successfully built phonetics\n",
      "Installing collected packages: phonetics\n",
      "Successfully installed phonetics-1.0.5\n"
     ]
    }
   ],
   "source": [
    "!pip install address-parser\n",
    "!pip install phonetics"
   ]
  },
  {
   "cell_type": "code",
   "execution_count": null,
   "metadata": {
    "id": "QiK_OHSYKJmM"
   },
   "outputs": [],
   "source": [
    "\n",
    "from address_parser import Parser\n",
    "\n",
    "parser = Parser()\n",
    "adr = parser.parse(test_adr)"
   ]
  },
  {
   "cell_type": "code",
   "execution_count": null,
   "metadata": {
    "colab": {
     "base_uri": "https://localhost:8080/",
     "height": 35
    },
    "id": "n5Vs56mtLBGx",
    "outputId": "efb1930d-c57b-4be4-d20f-5d5e014af45a"
   },
   "outputs": [
    {
     "data": {
      "application/vnd.google.colaboratory.intrinsic+json": {
       "type": "string"
      },
      "text/plain": [
       "'50 SERANGOON NORTH AVE 4, #07-02 , SG 555856'"
      ]
     },
     "execution_count": 78,
     "metadata": {
      "tags": []
     },
     "output_type": "execute_result"
    }
   ],
   "source": [
    "df['address'][0]"
   ]
  },
  {
   "cell_type": "code",
   "execution_count": null,
   "metadata": {
    "colab": {
     "base_uri": "https://localhost:8080/"
    },
    "id": "41BtaSHOKYFI",
    "outputId": "d13237cf-ba50-4298-859f-9e5a66b5ec5a"
   },
   "outputs": [
    {
     "data": {
      "text/plain": [
       "{'hash': {'fuzzy_hash': 'e6841c1e86007418e4bc3ade89e2c5d6',\n",
       "  'fuzzy_hash_string': 'none|.|klnk|slnkr|.|41200',\n",
       "  'hash': 'e438098544e4aa442095b53ca337a72e',\n",
       "  'hash_string': 'none|.|.|.|.|klang|.|.|selangor|.|41200'},\n",
       " 'locality': {'city': 'selangor',\n",
       "  'state': None,\n",
       "  'type': 'P',\n",
       "  'zip': '41200',\n",
       "  'zip4': '41200'},\n",
       " 'number': {'end_number': None,\n",
       "  'fraction': None,\n",
       "  'is_block': False,\n",
       "  'number': -1,\n",
       "  'suite': None,\n",
       "  'tnumber': 'None',\n",
       "  'type': 'P'},\n",
       " 'road': {'direction': '', 'name': 'Klang', 'suffix': '', 'type': 'P'},\n",
       " 'text': 'Klang, Selangor 41200'}"
      ]
     },
     "execution_count": 83,
     "metadata": {
      "tags": []
     },
     "output_type": "execute_result"
    }
   ],
   "source": [
    "adr.dict"
   ]
  },
  {
   "cell_type": "code",
   "execution_count": null,
   "metadata": {
    "id": "RNCssbApKklS"
   },
   "outputs": [],
   "source": []
  },
  {
   "cell_type": "markdown",
   "metadata": {
    "id": "SbXE1vJmMbxg"
   },
   "source": [
    "#Deep learning implementation\n"
   ]
  },
  {
   "cell_type": "markdown",
   "metadata": {
    "id": "KGAaSBDSMbrG"
   },
   "source": []
  },
  {
   "cell_type": "code",
   "execution_count": null,
   "metadata": {
    "colab": {
     "base_uri": "https://localhost:8080/"
    },
    "id": "WNMeOUUGLzNf",
    "outputId": "2f9121f1-ebb6-462a-9b76-ffb423e070af"
   },
   "outputs": [
    {
     "name": "stdout",
     "output_type": "stream",
     "text": [
      "Collecting deepparse\n",
      "\u001b[?25l  Downloading https://files.pythonhosted.org/packages/15/4a/d9a6b5179dafcbe8d84ec9c688a7b6a528a7cd2929569db6026a4440e5dc/deepparse-0.3.2-py3-none-any.whl (83kB)\n",
      "\r",
      "\u001b[K     |████                            | 10kB 14.4MB/s eta 0:00:01\r",
      "\u001b[K     |███████▉                        | 20kB 20.6MB/s eta 0:00:01\r",
      "\u001b[K     |███████████▊                    | 30kB 24.4MB/s eta 0:00:01\r",
      "\u001b[K     |███████████████▋                | 40kB 27.5MB/s eta 0:00:01\r",
      "\u001b[K     |███████████████████▌            | 51kB 4.3MB/s eta 0:00:01\r",
      "\u001b[K     |███████████████████████▌        | 61kB 5.1MB/s eta 0:00:01\r",
      "\u001b[K     |███████████████████████████▍    | 71kB 5.8MB/s eta 0:00:01\r",
      "\u001b[K     |███████████████████████████████▎| 81kB 6.5MB/s eta 0:00:01\r",
      "\u001b[K     |████████████████████████████████| 92kB 4.2MB/s \n",
      "\u001b[?25hCollecting bpemb\n",
      "  Downloading https://files.pythonhosted.org/packages/91/77/3f0f53856e86af32b1d3c86652815277f7b5f880002584eb30db115b6df5/bpemb-0.3.2-py3-none-any.whl\n",
      "Collecting fasttext\n",
      "\u001b[?25l  Downloading https://files.pythonhosted.org/packages/f8/85/e2b368ab6d3528827b147fdb814f8189acc981a4bc2f99ab894650e05c40/fasttext-0.9.2.tar.gz (68kB)\n",
      "\u001b[K     |████████████████████████████████| 71kB 7.1MB/s \n",
      "\u001b[?25hRequirement already satisfied: requests in /usr/local/lib/python3.7/dist-packages (from deepparse) (2.23.0)\n",
      "Collecting pymagnitude-light\n",
      "  Downloading https://files.pythonhosted.org/packages/9e/d9/6ce420e579dc29493eccd5e72bec2b437077e9cd98b91113413b44645f9b/pymagnitude_light-0.1.147-py3-none-any.whl\n",
      "Requirement already satisfied: numpy in /usr/local/lib/python3.7/dist-packages (from deepparse) (1.19.5)\n",
      "Collecting poutyne\n",
      "\u001b[?25l  Downloading https://files.pythonhosted.org/packages/50/b4/809927ab6b7385f2a422dfdae68426162493b5a650548bae8f3271623fe8/Poutyne-1.3.1-py3-none-any.whl (133kB)\n",
      "\u001b[K     |████████████████████████████████| 143kB 49.0MB/s \n",
      "\u001b[?25hRequirement already satisfied: torch in /usr/local/lib/python3.7/dist-packages (from deepparse) (1.8.0+cu101)\n",
      "Collecting sentencepiece\n",
      "\u001b[?25l  Downloading https://files.pythonhosted.org/packages/f5/99/e0808cb947ba10f575839c43e8fafc9cc44e4a7a2c8f79c60db48220a577/sentencepiece-0.1.95-cp37-cp37m-manylinux2014_x86_64.whl (1.2MB)\n",
      "\u001b[K     |████████████████████████████████| 1.2MB 51.5MB/s \n",
      "\u001b[?25hRequirement already satisfied: tqdm in /usr/local/lib/python3.7/dist-packages (from bpemb->deepparse) (4.41.1)\n",
      "Requirement already satisfied: gensim in /usr/local/lib/python3.7/dist-packages (from bpemb->deepparse) (3.6.0)\n",
      "Requirement already satisfied: pybind11>=2.2 in /usr/local/lib/python3.7/dist-packages (from fasttext->deepparse) (2.6.2)\n",
      "Requirement already satisfied: setuptools>=0.7.0 in /usr/local/lib/python3.7/dist-packages (from fasttext->deepparse) (54.0.0)\n",
      "Requirement already satisfied: idna<3,>=2.5 in /usr/local/lib/python3.7/dist-packages (from requests->deepparse) (2.10)\n",
      "Requirement already satisfied: urllib3!=1.25.0,!=1.25.1,<1.26,>=1.21.1 in /usr/local/lib/python3.7/dist-packages (from requests->deepparse) (1.24.3)\n",
      "Requirement already satisfied: certifi>=2017.4.17 in /usr/local/lib/python3.7/dist-packages (from requests->deepparse) (2020.12.5)\n",
      "Requirement already satisfied: chardet<4,>=3.0.2 in /usr/local/lib/python3.7/dist-packages (from requests->deepparse) (3.0.4)\n",
      "Collecting fasteners>=0.14.1\n",
      "  Downloading https://files.pythonhosted.org/packages/78/20/c862d765287e9e8b29f826749ebae8775bdca50b2cb2ca079346d5fbfd76/fasteners-0.16-py2.py3-none-any.whl\n",
      "Collecting lz4>=1.0.0\n",
      "\u001b[?25l  Downloading https://files.pythonhosted.org/packages/e3/52/151c815a486290608e4dc6699a0cfd74141dc5191f8fe928e7d1b28b569e/lz4-3.1.3-cp37-cp37m-manylinux2010_x86_64.whl (1.8MB)\n",
      "\u001b[K     |████████████████████████████████| 1.8MB 43.6MB/s \n",
      "\u001b[?25hCollecting xxhash>=1.0.1\n",
      "\u001b[?25l  Downloading https://files.pythonhosted.org/packages/e7/27/1c0b37c53a7852f1c190ba5039404d27b3ae96a55f48203a74259f8213c9/xxhash-2.0.0-cp37-cp37m-manylinux2010_x86_64.whl (243kB)\n",
      "\u001b[K     |████████████████████████████████| 245kB 54.2MB/s \n",
      "\u001b[?25hRequirement already satisfied: typing-extensions in /usr/local/lib/python3.7/dist-packages (from torch->deepparse) (3.7.4.3)\n",
      "Requirement already satisfied: scipy>=0.18.1 in /usr/local/lib/python3.7/dist-packages (from gensim->bpemb->deepparse) (1.4.1)\n",
      "Requirement already satisfied: smart-open>=1.2.1 in /usr/local/lib/python3.7/dist-packages (from gensim->bpemb->deepparse) (4.2.0)\n",
      "Requirement already satisfied: six>=1.5.0 in /usr/local/lib/python3.7/dist-packages (from gensim->bpemb->deepparse) (1.15.0)\n",
      "Building wheels for collected packages: fasttext\n",
      "  Building wheel for fasttext (setup.py) ... \u001b[?25l\u001b[?25hdone\n",
      "  Created wheel for fasttext: filename=fasttext-0.9.2-cp37-cp37m-linux_x86_64.whl size=3098401 sha256=982bc07d4c66c875a550d326445ed95104527af3bbd6b346ad2312bfacff8811\n",
      "  Stored in directory: /root/.cache/pip/wheels/98/ba/7f/b154944a1cf5a8cee91c154b75231136cc3a3321ab0e30f592\n",
      "Successfully built fasttext\n",
      "Installing collected packages: sentencepiece, bpemb, fasttext, fasteners, lz4, xxhash, pymagnitude-light, poutyne, deepparse\n",
      "Successfully installed bpemb-0.3.2 deepparse-0.3.2 fasteners-0.16 fasttext-0.9.2 lz4-3.1.3 poutyne-1.3.1 pymagnitude-light-0.1.147 sentencepiece-0.1.95 xxhash-2.0.0\n"
     ]
    }
   ],
   "source": [
    "# deepparse documentation https://deepparse.org/\n",
    "#fasttext is for text parsing address\n",
    "#can retrain deeplearning model from gov eg\n",
    "!pip install deepparse"
   ]
  },
  {
   "cell_type": "code",
   "execution_count": null,
   "metadata": {
    "colab": {
     "base_uri": "https://localhost:8080/"
    },
    "id": "-vnYLNCDNAlg",
    "outputId": "4d5e18cd-2044-4ceb-f2d0-9d480c2fa8eb"
   },
   "outputs": [
    {
     "name": "stdout",
     "output_type": "stream",
     "text": [
      "Loading the embeddings model\n"
     ]
    }
   ],
   "source": [
    "\n",
    "from deepparse.parser import AddressParser\n",
    "\n",
    "address_parser = AddressParser(model_type=\"bpemb\", device=0)\n",
    "\n",
    "# you can parse one address\n",
    "parsed_address = address_parser(\"350 rue des Lilas Ouest Québec Québec G1L 1B6\")"
   ]
  },
  {
   "cell_type": "code",
   "execution_count": null,
   "metadata": {
    "colab": {
     "base_uri": "https://localhost:8080/"
    },
    "id": "-r1NWZSDNlct",
    "outputId": "582e4a9a-2d31-42ef-86a1-5892d224d687"
   },
   "outputs": [
    {
     "data": {
      "text/plain": [
       "ParsedAddress<street_number='350', street_name='rue des Lilas', municipality='Ouest Québec', province='Québec', postal_code='G1L 1B6'>"
      ]
     },
     "execution_count": 85,
     "metadata": {
      "tags": []
     },
     "output_type": "execute_result"
    }
   ],
   "source": [
    "parsed_address"
   ]
  },
  {
   "cell_type": "code",
   "execution_count": null,
   "metadata": {
    "colab": {
     "base_uri": "https://localhost:8080/"
    },
    "id": "NlSuAJ90N14_",
    "outputId": "623335f5-ff9b-441b-ab17-77d1e7e2efaa"
   },
   "outputs": [
    {
     "data": {
      "text/plain": [
       "ParsedAddress<street_name='KOTA BANDUNG - CICENDO, JAWA', municipality='BARAT,', province='ID'>"
      ]
     },
     "execution_count": 87,
     "metadata": {
      "tags": []
     },
     "output_type": "execute_result"
    }
   ],
   "source": [
    "parsed_address = address_parser(df[\"address\"][3])\n",
    "parsed_address"
   ]
  },
  {
   "cell_type": "code",
   "execution_count": null,
   "metadata": {
    "id": "URsFXIL1OBDA"
   },
   "outputs": [],
   "source": []
  }
 ],
 "metadata": {
  "colab": {
   "collapsed_sections": [],
   "name": "DataExtraction.ipynb",
   "provenance": []
  },
  "kernelspec": {
   "display_name": "Python 3",
   "language": "python",
   "name": "python3"
  },
  "language_info": {
   "codemirror_mode": {
    "name": "ipython",
    "version": 3
   },
   "file_extension": ".py",
   "mimetype": "text/x-python",
   "name": "python",
   "nbconvert_exporter": "python",
   "pygments_lexer": "ipython3",
   "version": "3.8.5"
  }
 },
 "nbformat": 4,
 "nbformat_minor": 1
}
