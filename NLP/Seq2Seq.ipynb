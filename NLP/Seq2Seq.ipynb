{
 "cells": [
  {
   "cell_type": "code",
   "execution_count": null,
   "metadata": {
    "colab": {
     "base_uri": "https://localhost:8080/"
    },
    "id": "cO6XUBlhLH9U",
    "outputId": "2b86f98b-8b1a-4f76-8036-dce8f99c6882"
   },
   "outputs": [
    {
     "name": "stdout",
     "output_type": "stream",
     "text": [
      "GPU 0: Tesla V100-SXM2-16GB (UUID: GPU-9d4bdfc5-c1ad-4b95-adcf-433f396ef85b)\n",
      "Wed Dec  2 22:39:57 2020       \n",
      "+-----------------------------------------------------------------------------+\n",
      "| NVIDIA-SMI 455.38       Driver Version: 418.67       CUDA Version: 10.1     |\n",
      "|-------------------------------+----------------------+----------------------+\n",
      "| GPU  Name        Persistence-M| Bus-Id        Disp.A | Volatile Uncorr. ECC |\n",
      "| Fan  Temp  Perf  Pwr:Usage/Cap|         Memory-Usage | GPU-Util  Compute M. |\n",
      "|                               |                      |               MIG M. |\n",
      "|===============================+======================+======================|\n",
      "|   0  Tesla V100-SXM2...  Off  | 00000000:00:04.0 Off |                    0 |\n",
      "| N/A   33C    P0    24W / 300W |      0MiB / 16130MiB |      0%      Default |\n",
      "|                               |                      |                 ERR! |\n",
      "+-------------------------------+----------------------+----------------------+\n",
      "                                                                               \n",
      "+-----------------------------------------------------------------------------+\n",
      "| Processes:                                                                  |\n",
      "|  GPU   GI   CI        PID   Type   Process name                  GPU Memory |\n",
      "|        ID   ID                                                   Usage      |\n",
      "|=============================================================================|\n",
      "|  No running processes found                                                 |\n",
      "+-----------------------------------------------------------------------------+\n",
      "Model name:          Intel(R) Xeon(R) CPU @ 2.00GHz\n",
      "Socket(s):           1\n",
      "Core(s) per socket:  2\n",
      "Thread(s) per core:  2\n",
      "L3 cache:            39424K\n",
      "CPU MHz:             2000.168\n",
      "26G\n",
      "Avail\n",
      "114G\n"
     ]
    }
   ],
   "source": [
    "#GPU count and name\n",
    "!nvidia-smi -L\n",
    "\n",
    "#use this command to see GPU activity while doing Deep Learning tasks, for this command 'nvidia-smi' and for above one to work, go to 'Runtime > change runtime type > Hardware Accelerator > GPU'\n",
    "!nvidia-smi\n",
    "\n",
    "!lscpu |grep 'Model name'\n",
    "\n",
    "#no.of sockets i.e available slots for physical processors\n",
    "!lscpu | grep 'Socket(s):'\n",
    "\n",
    "#no.of cores each processor is having \n",
    "!lscpu | grep 'Core(s) per socket:'\n",
    "\n",
    "#no.of threads each core is having\n",
    "!lscpu | grep 'Thread(s) per core'\n",
    "\n",
    "!lscpu | grep \"L3 cache\"\n",
    "\n",
    "#if it had turbo boost it would've shown Min and Max MHz also but it is only showing current frequency this means it always operates at 2.3GHz\n",
    "!lscpu | grep \"MHz\"\n",
    "\n",
    "#memory that we can use\n",
    "!free -h --si | awk  '/Mem:/{print $2}'\n",
    "\n",
    "#hard disk space that we can use\n",
    "!df -h / | awk '{print $4}'"
   ]
  },
  {
   "cell_type": "code",
   "execution_count": null,
   "metadata": {
    "id": "Dg9qs7jkeI5H",
    "pycharm": {
     "name": "#%%\n"
    }
   },
   "outputs": [],
   "source": [
    "PRETRAINED_WEIGHT_NAME=\"\""
   ]
  },
  {
   "cell_type": "code",
   "execution_count": null,
   "metadata": {
    "id": "G7XmEuvFeI5N",
    "pycharm": {
     "name": "#%%\n"
    }
   },
   "outputs": [],
   "source": [
    "on_colab=True\n",
    "embedding_dim=300\n",
    "base_dir=\"gdrive/MyDrive/News Summary\"\n",
    "glove_dir=\"glove.6B.{}d.txt\".format(embedding_dim)\n",
    "data_dir=r\"Inshorts Cleaned Data.csv\"\n",
    "VERBOSE=1\n",
    "EPOCH=20\n",
    "BATCHSIZE=64\n"
   ]
  },
  {
   "cell_type": "code",
   "execution_count": null,
   "metadata": {
    "_cell_guid": "b1076dfc-b9ad-4769-8c92-a6c4dae69d19",
    "_uuid": "8f2839f25d086af736a60e9eeb907d3b93b6e0e5",
    "id": "_Jpu8qLEFxcY"
   },
   "outputs": [],
   "source": [
    "import tensorflow as tf\n",
    "import os\n",
    "from tensorflow.python.keras.layers import Layer\n",
    "from tensorflow.python.keras import backend as K\n",
    "import numpy as np\n",
    "import pandas as pd \n",
    "import re\n",
    "import unicodedata\n",
    "from bs4 import BeautifulSoup\n",
    "import io\n",
    "import json\n",
    "from keras.preprocessing.text import Tokenizer, tokenizer_from_json\n",
    "from keras.preprocessing.sequence import pad_sequences\n",
    "from nltk.corpus import stopwords\n",
    "from tensorflow.keras.layers import Input, LSTM, Embedding, Dense, Concatenate, TimeDistributed\n",
    "from tensorflow.keras.models import Model,save_model, load_model\n",
    "from tensorflow.keras.callbacks import EarlyStopping, ModelCheckpoint\n",
    "from tensorflow.keras.utils import plot_model\n",
    "import warnings\n",
    "from matplotlib import pyplot\n",
    "pd.set_option(\"display.max_colwidth\", 200)\n",
    "warnings.filterwarnings(\"ignore\")"
   ]
  },
  {
   "cell_type": "code",
   "execution_count": null,
   "metadata": {
    "colab": {
     "base_uri": "https://localhost:8080/"
    },
    "id": "yL9nwWi5k2xa",
    "outputId": "d149fab8-a56e-4a60-a574-644ec8afc439",
    "pycharm": {
     "name": "#%%\n"
    }
   },
   "outputs": [
    {
     "name": "stdout",
     "output_type": "stream",
     "text": [
      "Drive already mounted at /content/gdrive; to attempt to forcibly remount, call drive.mount(\"/content/gdrive\", force_remount=True).\n"
     ]
    }
   ],
   "source": [
    "try:\n",
    "    from google.colab import drive\n",
    "    drive.mount(\"/content/gdrive\")\n",
    "except ImportError:\n",
    "    print(\"Running on Local\")\n",
    "    on_colab=False\n",
    "    base_dir=os.getcwd()\n",
    "    glove_dir=r\"C:\\Users\\fflea\\PycharmProjects\\CSC790_Deep_Learning\\Image-Captioning\\glove.6B.{}d.txt\".format(embedding_dim)\n",
    "    data_dir=r\"E:\\Wikihow\\wikihowSep.csv\"\n",
    "    VERBOSE=2\n"
   ]
  },
  {
   "cell_type": "code",
   "execution_count": null,
   "metadata": {
    "id": "uo2JKhNieI5b",
    "pycharm": {
     "name": "#%%\n"
    }
   },
   "outputs": [],
   "source": [
    "# if on_colab:    \n",
    "#     !python -m nltk.downloader stopwords\n",
    "#     if not os.path.exists(base_dir):\n",
    "#         os.mkdir(base_dir)"
   ]
  },
  {
   "cell_type": "code",
   "execution_count": null,
   "metadata": {
    "id": "wamAR-kUfNlE"
   },
   "outputs": [],
   "source": [
    "class AttentionLayer(Layer):\n",
    "  def init(self, kwargs): super(AttentionLayer, self).init(kwargs)\n",
    "\n",
    "  def build(self, input_shape):\n",
    "      assert isinstance(input_shape, list)\n",
    "      # Create a trainable weight variable for this layer.\n",
    "\n",
    "      self.W_a = self.add_weight(name='W_a',\n",
    "                                shape=tf.TensorShape((input_shape[0][2], input_shape[0][2])),\n",
    "                                initializer='uniform',\n",
    "                                trainable=True)\n",
    "      self.U_a = self.add_weight(name='U_a',\n",
    "                                shape=tf.TensorShape((input_shape[1][2], input_shape[0][2])),\n",
    "                                initializer='uniform',\n",
    "                                trainable=True)\n",
    "      self.V_a = self.add_weight(name='V_a',\n",
    "                                shape=tf.TensorShape((input_shape[0][2], 1)),\n",
    "                                initializer='uniform',\n",
    "                                trainable=True)\n",
    "\n",
    "      super(AttentionLayer, self).build(input_shape)  # Be sure to call this at the end\n",
    "\n",
    "  def call(self, inputs, verbose=False):\n",
    "      \"\"\"\n",
    "      inputs: [encoder_output_sequence, decoder_output_sequence]\n",
    "      \"\"\"\n",
    "      assert type(inputs) == list\n",
    "      encoder_out_seq, decoder_out_seq = inputs\n",
    "      if verbose:\n",
    "          print('encoder_out_seq>', encoder_out_seq.shape)\n",
    "          print('decoder_out_seq>', decoder_out_seq.shape)\n",
    "\n",
    "      def energy_step(inputs, states):\n",
    "          \"\"\" Step function for computing energy for a single decoder state\n",
    "          inputs: (batchsize * 1 * de_in_dim)\n",
    "          states: (batchsize * 1 * de_latent_dim)\n",
    "          \"\"\"\n",
    "\n",
    "          assert_msg = \"States must be an iterable. Got {} of type {}\".format(states, type(states))\n",
    "          assert isinstance(states, list) or isinstance(states, tuple), assert_msg\n",
    "\n",
    "          \"\"\" Some parameters required for shaping tensors\"\"\"\n",
    "          en_seq_len, en_hidden = encoder_out_seq.shape[1], encoder_out_seq.shape[2]\n",
    "          de_hidden = inputs.shape[-1]\n",
    "\n",
    "          \"\"\" Computing S.Wa where S=[s0, s1, ..., si]\"\"\"\n",
    "          # <= batch size * en_seq_len * latent_dim\n",
    "          W_a_dot_s = K.dot(encoder_out_seq, self.W_a)\n",
    "\n",
    "          \"\"\" Computing hj.Ua \"\"\"\n",
    "          U_a_dot_h = K.expand_dims(K.dot(inputs, self.U_a), 1)  # <= batch_size, 1, latent_dim\n",
    "          if verbose:\n",
    "              print('Ua.h>', U_a_dot_h.shape)\n",
    "\n",
    "          \"\"\" tanh(S.Wa + hj.Ua) \"\"\"\n",
    "          # <= batch_size*en_seq_len, latent_dim\n",
    "          Ws_plus_Uh = K.tanh(W_a_dot_s + U_a_dot_h)\n",
    "          if verbose:\n",
    "              print('Ws+Uh>', Ws_plus_Uh.shape)\n",
    "\n",
    "          \"\"\" softmax(va.tanh(S.Wa + hj.Ua)) \"\"\"\n",
    "          # <= batch_size, en_seq_len\n",
    "          e_i = K.squeeze(K.dot(Ws_plus_Uh, self.V_a), axis=-1)\n",
    "          # <= batch_size, en_seq_len\n",
    "          e_i = K.softmax(e_i)\n",
    "\n",
    "          if verbose:\n",
    "              print('ei>', e_i.shape)\n",
    "\n",
    "          return e_i, [e_i]\n",
    "\n",
    "      def context_step(inputs, states):\n",
    "          \"\"\" Step function for computing ci using ei \"\"\"\n",
    "\n",
    "          assert_msg = \"States must be an iterable. Got {} of type {}\".format(states, type(states))\n",
    "          assert isinstance(states, list) or isinstance(states, tuple), assert_msg\n",
    "\n",
    "          # <= batch_size, hidden_size\n",
    "          c_i = K.sum(encoder_out_seq * K.expand_dims(inputs, -1), axis=1)\n",
    "          if verbose:\n",
    "              print('ci>', c_i.shape)\n",
    "          return c_i, [c_i]\n",
    "\n",
    "      fake_state_c = K.sum(encoder_out_seq, axis=1)\n",
    "      fake_state_e = K.sum(encoder_out_seq, axis=2)  # <= (batch_size, enc_seq_len, latent_dim\n",
    "\n",
    "      \"\"\" Computing energy outputs \"\"\"\n",
    "      # e_outputs => (batch_size, de_seq_len, en_seq_len)\n",
    "      last_out, e_outputs, _ = K.rnn(\n",
    "          energy_step, decoder_out_seq, [fake_state_e],\n",
    "      )\n",
    "\n",
    "      \"\"\" Computing context vectors \"\"\"\n",
    "      last_out, c_outputs, _ = K.rnn(\n",
    "          context_step, e_outputs, [fake_state_c],\n",
    "      )\n",
    "\n",
    "      return c_outputs, e_outputs\n",
    "\n",
    "  def compute_output_shape(self, input_shape):\n",
    "      \"\"\" Outputs produced by the layer \"\"\"\n",
    "      return [\n",
    "          tf.TensorShape((input_shape[1][0], input_shape[1][1], input_shape[1][2])),\n",
    "          tf.TensorShape((input_shape[1][0], input_shape[1][1], input_shape[0][1]))\n",
    "      ]\n",
    "\n"
   ]
  },
  {
   "cell_type": "markdown",
   "metadata": {
    "id": "UVakjZ3oICgx"
   },
   "source": [
    "## Reading the data and dropping N/A rows\n"
   ]
  },
  {
   "cell_type": "code",
   "execution_count": null,
   "metadata": {
    "id": "wnK5o4Z1Fxcj"
   },
   "outputs": [],
   "source": [
    "nrows=55000\n",
    "try:\n",
    "  data=pd.read_csv(os.path.join(base_dir,data_dir),nrows=nrows)\n",
    "  dataset_name=os.path.splitext(os.path.basename(os.path.join(base_dir,data_dir)))[0]\n",
    "except FileNotFoundError:\n",
    "  data=pd.read_csv(data_dir,nrows=nrows)\n",
    "  dataset_name=os.path.splitext(os.path.basename(data_dir))[0]"
   ]
  },
  {
   "cell_type": "code",
   "execution_count": null,
   "metadata": {
    "id": "sUBTGpI7eI5x",
    "pycharm": {
     "name": "#%%\n"
    }
   },
   "outputs": [],
   "source": [
    "if \"Short\" in data.columns:\n",
    "    data.rename(columns = {\"Short\":\"article\"}, inplace = True)\n",
    "    data.rename(columns = {\"Headline\":\"summary\"}, inplace = True)\n",
    "if \"headline\" in data.columns:\n",
    "    data.rename(columns = {\"text\":\"article\"}, inplace = True)\n",
    "    data.rename(columns = {\"headline\":\"summary\"}, inplace = True)"
   ]
  },
  {
   "cell_type": "code",
   "execution_count": null,
   "metadata": {
    "colab": {
     "base_uri": "https://localhost:8080/"
    },
    "id": "ESj4yhWsMG1Q",
    "outputId": "c18860a4-6c2b-4623-99a2-f482358edcef"
   },
   "outputs": [
    {
     "name": "stdout",
     "output_type": "stream",
     "text": [
      "Index(['summary', 'article', 'Source ', 'Time ', 'Publish Date'], dtype='object')\n"
     ]
    }
   ],
   "source": [
    "print(data.columns)"
   ]
  },
  {
   "cell_type": "code",
   "execution_count": null,
   "metadata": {
    "colab": {
     "base_uri": "https://localhost:8080/"
    },
    "id": "W8z9kUfEeI55",
    "outputId": "02a0fd05-b255-4ca8-a857-305b8e0217d0",
    "pycharm": {
     "name": "#%%\n"
    }
   },
   "outputs": [
    {
     "name": "stdout",
     "output_type": "stream",
     "text": [
      "                                                        summary  ... Publish Date\n",
      "0    4 ex-bank officials booked for cheating bank of ₹209 crore  ...   2017-03-26\n",
      "1                Supreme Court to go paperless in 6 months: CJI  ...   2017-03-25\n",
      "2  At least 3 killed, 30 injured in blast in Sylhet, Bangladesh  ...   2017-03-25\n",
      "3         Why has Reliance been barred from trading in futures?  ...   2017-03-25\n",
      "4   Was stopped from entering my own studio at Times Now: Arnab  ...   2017-03-25\n",
      "\n",
      "[5 rows x 5 columns]\n"
     ]
    }
   ],
   "source": [
    "print(data.head(5))\n",
    "\n",
    "\n"
   ]
  },
  {
   "cell_type": "code",
   "execution_count": null,
   "metadata": {
    "id": "Cjul88oOFxcr"
   },
   "outputs": [],
   "source": [
    "data.drop_duplicates(subset=[\"article\"],inplace=True)#dropping duplicates\n",
    "data = data[pd.notnull(data[\"article\"])]\n",
    "data = data[pd.notnull(data[\"summary\"])]\n",
    "#data.dropna(axis=0,inplace=True)#dropping na\n",
    "\n"
   ]
  },
  {
   "cell_type": "code",
   "execution_count": null,
   "metadata": {
    "colab": {
     "base_uri": "https://localhost:8080/"
    },
    "id": "q75mcobFk2xa",
    "outputId": "ef398f72-73b9-4ffa-99b1-123e829a6967",
    "pycharm": {
     "name": "#%%\n"
    }
   },
   "outputs": [
    {
     "name": "stdout",
     "output_type": "stream",
     "text": [
      "<class 'pandas.core.frame.DataFrame'>\n",
      "Int64Index: 54893 entries, 0 to 54999\n",
      "Data columns (total 5 columns):\n",
      " #   Column        Non-Null Count  Dtype \n",
      "---  ------        --------------  ----- \n",
      " 0   summary       54893 non-null  object\n",
      " 1   article       54893 non-null  object\n",
      " 2   Source        54893 non-null  object\n",
      " 3   Time          54893 non-null  object\n",
      " 4   Publish Date  54893 non-null  object\n",
      "dtypes: object(5)\n",
      "memory usage: 2.5+ MB\n"
     ]
    }
   ],
   "source": [
    "data.info()"
   ]
  },
  {
   "cell_type": "markdown",
   "metadata": {
    "id": "r0xLYACiFxdJ"
   },
   "source": [
    "## Data Preprocessing"
   ]
  },
  {
   "cell_type": "code",
   "execution_count": null,
   "metadata": {
    "id": "XZr-u3OEFxdT"
   },
   "outputs": [],
   "source": [
    "# replacing many abbreviations and lower casing the words\n",
    "def clean_words(sentence):\n",
    "    sentence = str(sentence).lower()\n",
    "    sentence = unicodedata.normalize('NFKD', sentence).encode('ascii', 'ignore').decode('utf-8', 'ignore') # for converting é to e and other accented chars\n",
    "    sentence = re.sub(r\"http\\S+\",\"\",sentence)\n",
    "    sentence = re.sub(r\"there's\", \"there is\", sentence)\n",
    "    sentence = re.sub(r\"i'm\", \"i am\", sentence)\n",
    "    sentence = re.sub(r\"he's\", \"he is\", sentence)\n",
    "    sentence = re.sub(r\"she's\", \"she is\", sentence)\n",
    "    sentence = re.sub(r\"it's\", \"it is\", sentence)\n",
    "    sentence = re.sub(r\"that's\", \"that is\", sentence)\n",
    "    sentence = re.sub(r\"what's\", \"that is\", sentence)\n",
    "    sentence = re.sub(r\"where's\", \"where is\", sentence)\n",
    "    sentence = re.sub(r\"how's\", \"how is\", sentence)\n",
    "    sentence = re.sub(r\"\\'ll\", \" will\", sentence)\n",
    "    sentence = re.sub(r\"\\'ve\", \" have\", sentence)\n",
    "    sentence = re.sub(r\"\\'re\", \" are\", sentence)\n",
    "    sentence = re.sub(r\"\\'d\", \" would\", sentence)\n",
    "    sentence = re.sub(r\"\\'re\", \" are\", sentence)\n",
    "    sentence = re.sub(r\"won't\", \"will not\", sentence)\n",
    "    sentence = re.sub(r\"can't\", \"cannot\", sentence)\n",
    "    sentence = re.sub(r\"n't\", \" not\", sentence)\n",
    "    sentence = re.sub(r\"n'\", \"ng\", sentence)\n",
    "    sentence = re.sub(r\"'bout\", \"about\", sentence)\n",
    "    sentence = re.sub(r\"'til\", \"until\", sentence)\n",
    "    sentence = re.sub(r\"\\\"\", \"\", sentence)\n",
    "    sentence = re.sub(r\"\\'\", \"\", sentence)\n",
    "    sentence = re.sub(r' s ', \"\",sentence)\n",
    "    sentence = re.sub(r\"&39\", \"\", sentence) # the inshorts data has this in it\n",
    "    sentence = re.sub(r\"&34\", \"\", sentence) # the inshorts data has this in it\n",
    "    sentence = re.sub(r\"[\\[\\]\\\\0-9()\\\"$#%/@;:<>{}`+=~|.!?,-]\", \"\", sentence)\n",
    "    sentence = re.sub(r\"&\", \"\", sentence)\n",
    "    sentence = re.sub(r\"\\\\n\", \"\", sentence)\n",
    "    sentence = sentence.strip()\n",
    "    return sentence"
   ]
  },
  {
   "cell_type": "code",
   "execution_count": null,
   "metadata": {
    "id": "A2QAeCHWFxdY"
   },
   "outputs": [],
   "source": [
    "data['cleaned_text'] = data['article'].apply(lambda x: clean_words(x))\n",
    "data['cleaned_summary'] = data['summary'].apply(lambda x: clean_words(x))\n",
    "\n"
   ]
  },
  {
   "cell_type": "code",
   "execution_count": null,
   "metadata": {
    "colab": {
     "base_uri": "https://localhost:8080/"
    },
    "id": "MdF76AHHFxgw",
    "outputId": "8ec209d8-5dda-4ca3-de8b-7674c015b660"
   },
   "outputs": [
    {
     "name": "stdout",
     "output_type": "stream",
     "text": [
      "percentile 90 of length of news: 60.0\n",
      "longest sentence:  66\n",
      "\n",
      "percentile 90 of length of summaries: 10.0\n",
      "longest sentence:  14\n",
      "\n",
      "max-length text chosen for training:  60\n",
      "max-length summaries chosen for training:  10\n"
     ]
    }
   ],
   "source": [
    "# Function to calculate maximum text and summary length, upto a certain threshold\n",
    "def max_length(longs, shorts,  prct):\n",
    "    # Create a list of all the captions\n",
    "\n",
    "    length_longs = list(len(d.split()) for d in longs)\n",
    "    length_shorts = list(len(d.split()) for d in shorts)\n",
    "\n",
    "    print('percentile {} of length of news: {}'.format(prct,np.percentile(length_longs, prct)))\n",
    "    print('longest sentence: ', max(length_longs))\n",
    "    print()\n",
    "    print('percentile {} of length of summaries: {}'.format(prct,np.percentile(length_shorts, prct)))\n",
    "    print('longest sentence: ', max(length_shorts))\n",
    "    print()\n",
    "    return int(np.percentile(length_longs, prct)),int(np.percentile(length_shorts, prct))\n",
    "\n",
    "# selecting sentence length based on the percentile of data that fits in the length\n",
    "max_text_len, max_summary_len= max_length(data['cleaned_text'].to_list(), data['cleaned_summary'].to_list(), 90)\n",
    "\n",
    "\n",
    "print('max-length text chosen for training: ', max_text_len)\n",
    "print('max-length summaries chosen for training: ', max_summary_len)\n",
    "\n",
    "\n"
   ]
  },
  {
   "cell_type": "code",
   "execution_count": null,
   "metadata": {
    "id": "yY0tEJP0FxhI"
   },
   "outputs": [],
   "source": [
    "cleaned_text =np.array(data['cleaned_text'])\n",
    "cleaned_summary=np.array(data['cleaned_summary'])\n",
    "\n",
    "short_text=[]\n",
    "short_summary=[]\n",
    "\n",
    "for i in range(len(cleaned_text)):\n",
    "    if(len(cleaned_summary[i].split())<=max_summary_len and len(cleaned_text[i].split())<=max_text_len):\n",
    "        short_text.append(cleaned_text[i])\n",
    "        short_summary.append(cleaned_summary[i])\n",
    "        \n",
    "df=pd.DataFrame({\"article\":short_text,\"summary\":short_summary})\n"
   ]
  },
  {
   "cell_type": "code",
   "execution_count": null,
   "metadata": {
    "id": "EwLUH78CFxhg"
   },
   "outputs": [],
   "source": [
    "df[\"summary\"] = df[\"summary\"].apply(lambda x : 'sostok '+ x + ' eostok')"
   ]
  },
  {
   "cell_type": "markdown",
   "metadata": {
    "id": "1GlcX4RFOh13"
   },
   "source": [
    "We are getting closer to the model building part. Before that, we need to split our dataset into a training and validation set. We’ll use 90% of the dataset as the training data and evaluate the performance on the remaining 10% (holdout set):"
   ]
  },
  {
   "cell_type": "code",
   "execution_count": null,
   "metadata": {
    "id": "RakakKHcFxhl"
   },
   "outputs": [],
   "source": [
    "from sklearn.model_selection import train_test_split\n",
    "x_tr,x_val,y_tr,y_val=train_test_split(np.array(df[\"article\"]),np.array(df[\"summary\"]),test_size=0.1,random_state=0,shuffle=False)"
   ]
  },
  {
   "cell_type": "markdown",
   "metadata": {
    "id": "Vq1mqyOHOtIl"
   },
   "source": [
    "## Dataset preparation\n",
    "\n"
   ]
  },
  {
   "cell_type": "code",
   "execution_count": null,
   "metadata": {
    "id": "oRHTgX6hFxhq"
   },
   "outputs": [],
   "source": [
    "\n",
    "#prepare a tokenizer for reviews on training data\n",
    "x_tokenizer = Tokenizer() \n",
    "x_tokenizer.fit_on_texts(list(x_tr))\n"
   ]
  },
  {
   "cell_type": "code",
   "execution_count": null,
   "metadata": {
    "colab": {
     "base_uri": "https://localhost:8080/"
    },
    "id": "y8KronV2Fxhx",
    "outputId": "e1a9e429-b77a-4834-bc93-747a3a2119cf"
   },
   "outputs": [
    {
     "name": "stdout",
     "output_type": "stream",
     "text": [
      "% of rare words in vocabulary: 57.91961861881746\n",
      "Total Coverage of rare words: 2.043872899313112\n"
     ]
    }
   ],
   "source": [
    "thresh=3\n",
    "\n",
    "cnt=0\n",
    "tot_cnt=0\n",
    "freq=0\n",
    "tot_freq=0\n",
    "\n",
    "for key,value in x_tokenizer.word_counts.items():\n",
    "    tot_cnt=tot_cnt+1\n",
    "    tot_freq=tot_freq+value\n",
    "    if(value<thresh):\n",
    "        cnt=cnt+1\n",
    "        freq=freq+value\n",
    "    \n",
    "print(\"% of rare words in vocabulary:\",(cnt/tot_cnt)*100)\n",
    "print(\"Total Coverage of rare words:\",(freq/tot_freq)*100)\n"
   ]
  },
  {
   "cell_type": "code",
   "execution_count": null,
   "metadata": {
    "id": "J2giEsF3Fxh3"
   },
   "outputs": [],
   "source": [
    "#prepare a tokenizer for reviews on training data\n",
    "x_tokenizer = Tokenizer(num_words=tot_cnt-cnt) \n",
    "x_tokenizer.fit_on_texts(list(x_tr))\n",
    "\n",
    "#convert text sequences into integer sequences\n",
    "x_tr_seq    =   x_tokenizer.texts_to_sequences(x_tr) \n",
    "x_val_seq   =   x_tokenizer.texts_to_sequences(x_val)\n",
    "\n",
    "#padding zero upto maximum length\n",
    "x_tr    =   pad_sequences(x_tr_seq,  maxlen=max_text_len, padding='post')\n",
    "x_val   =   pad_sequences(x_val_seq, maxlen=max_text_len, padding='post')\n",
    "\n",
    "#size of vocabulary ( +1 for padding token)\n",
    "x_voc   =  len(x_tokenizer.word_index) + 1"
   ]
  },
  {
   "cell_type": "code",
   "execution_count": null,
   "metadata": {
    "colab": {
     "base_uri": "https://localhost:8080/"
    },
    "id": "DCbGMsm4FxiA",
    "outputId": "10cce46b-b151-49e9-d21f-4bf37f0f4b8b"
   },
   "outputs": [
    {
     "data": {
      "text/plain": [
       "75516"
      ]
     },
     "execution_count": 54,
     "metadata": {
      "tags": []
     },
     "output_type": "execute_result"
    }
   ],
   "source": [
    "x_voc\n"
   ]
  },
  {
   "cell_type": "code",
   "execution_count": null,
   "metadata": {
    "id": "eRHqyBkBFxiJ"
   },
   "outputs": [],
   "source": [
    "#prepare a tokenizer for reviews on training data\n",
    "y_tokenizer = Tokenizer()   \n",
    "y_tokenizer.fit_on_texts(list(y_tr))\n"
   ]
  },
  {
   "cell_type": "code",
   "execution_count": null,
   "metadata": {
    "colab": {
     "base_uri": "https://localhost:8080/"
    },
    "id": "yzE5OiRLFxiM",
    "outputId": "da650b91-779d-4e3b-f5d2-3cf4a58cfc6a"
   },
   "outputs": [
    {
     "name": "stdout",
     "output_type": "stream",
     "text": [
      "% of rare words in vocabulary: 70.0120585701981\n",
      "Total Coverage of rare words: 7.146006986476672\n"
     ]
    }
   ],
   "source": [
    "thresh=5\n",
    "\n",
    "cnt=0\n",
    "tot_cnt=0\n",
    "freq=0\n",
    "tot_freq=0\n",
    "\n",
    "for key,value in y_tokenizer.word_counts.items():\n",
    "    tot_cnt=tot_cnt+1\n",
    "    tot_freq=tot_freq+value\n",
    "    if(value<thresh):\n",
    "        cnt=cnt+1\n",
    "        freq=freq+value\n",
    "    \n",
    "print(\"% of rare words in vocabulary:\",(cnt/tot_cnt)*100)\n",
    "print(\"Total Coverage of rare words:\",(freq/tot_freq)*100)\n",
    "\n"
   ]
  },
  {
   "cell_type": "code",
   "execution_count": null,
   "metadata": {
    "id": "-fswLvIgFxiR"
   },
   "outputs": [],
   "source": [
    "#prepare a tokenizer for reviews on training data\n",
    "y_tokenizer = Tokenizer(num_words=tot_cnt-cnt) \n",
    "y_tokenizer.fit_on_texts(list(y_tr))\n",
    "\n",
    "#convert text sequences into integer sequences\n",
    "y_tr_seq    =   y_tokenizer.texts_to_sequences(y_tr) \n",
    "y_val_seq   =   y_tokenizer.texts_to_sequences(y_val) \n",
    "\n",
    "#padding zero upto maximum length\n",
    "y_tr    =   pad_sequences(y_tr_seq, maxlen=max_summary_len, padding='post')\n",
    "y_val   =   pad_sequences(y_val_seq, maxlen=max_summary_len, padding='post')\n",
    "\n",
    "#size of vocabulary\n",
    "y_voc  =   len(y_tokenizer.word_index) +1\n"
   ]
  },
  {
   "cell_type": "code",
   "execution_count": null,
   "metadata": {
    "colab": {
     "base_uri": "https://localhost:8080/"
    },
    "id": "pR8IX9FRFxiY",
    "outputId": "ab2fa88f-d872-4a87-f066-79c1aba77f8b"
   },
   "outputs": [
    {
     "data": {
      "text/plain": [
       "(46868, 46868)"
      ]
     },
     "execution_count": 58,
     "metadata": {
      "tags": []
     },
     "output_type": "execute_result"
    }
   ],
   "source": [
    "y_tokenizer.word_counts['sostok'],len(y_tr)   \n",
    "\n"
   ]
  },
  {
   "cell_type": "code",
   "execution_count": null,
   "metadata": {
    "id": "kZ-vW82sFxih"
   },
   "outputs": [],
   "source": [
    "ind=[]\n",
    "for i in range(len(y_tr)):\n",
    "    cnt=0\n",
    "    for j in y_tr[i]:\n",
    "        if j!=0:\n",
    "            cnt=cnt+1\n",
    "    if(cnt==2):\n",
    "        ind.append(i)\n",
    "\n",
    "y_tr=np.delete(y_tr,ind, axis=0)\n",
    "x_tr=np.delete(x_tr,ind, axis=0)"
   ]
  },
  {
   "cell_type": "code",
   "execution_count": null,
   "metadata": {
    "id": "cx5NISuMFxik"
   },
   "outputs": [],
   "source": [
    "ind=[]\n",
    "for i in range(len(y_val)):\n",
    "    cnt=0\n",
    "    for j in y_val[i]:\n",
    "        if j!=0:\n",
    "            cnt=cnt+1\n",
    "    if(cnt==2):\n",
    "        ind.append(i)\n",
    "\n",
    "y_val=np.delete(y_val,ind, axis=0)\n",
    "x_val=np.delete(x_val,ind, axis=0)"
   ]
  },
  {
   "cell_type": "markdown",
   "metadata": {
    "id": "wOtlDcthFxip"
   },
   "source": [
    "# Model Building\n"
   ]
  },
  {
   "cell_type": "code",
   "execution_count": null,
   "metadata": {
    "id": "zXef38nBFxir"
   },
   "outputs": [],
   "source": [
    "latent_dim = 500"
   ]
  },
  {
   "cell_type": "code",
   "execution_count": null,
   "metadata": {
    "id": "iMc8uCd6eI8m",
    "pycharm": {
     "name": "#%%\n"
    }
   },
   "outputs": [],
   "source": [
    "# Preparing GloVe\n",
    "embeddings_index = {}\n",
    "try:\n",
    "  f = open(glove_dir,encoding=\"utf8\")\n",
    "except FileNotFoundError:\n",
    "  f = open(os.path.join(base_dir,glove_dir),encoding=\"utf8\")\n",
    "for line in f:\n",
    "    values = line.split()\n",
    "    word = values[0]\n",
    "    coefs = np.asarray(values[1:], dtype='float32')\n",
    "    embeddings_index[word] = coefs\n",
    "f.close()"
   ]
  },
  {
   "cell_type": "code",
   "execution_count": null,
   "metadata": {
    "id": "vFGsNInPeI8u",
    "pycharm": {
     "name": "#%%\n"
    }
   },
   "outputs": [],
   "source": [
    "embedding_matrix = np.zeros((x_voc, embedding_dim),dtype='float32')\n",
    "for word,i in x_tokenizer.word_index.items():\n",
    "    embedding_vector = embeddings_index.get(word)\n",
    "    if embedding_vector is not None:\n",
    "    # Words not found in glove will be zeros\n",
    "        embedding_matrix[i] = embedding_vector"
   ]
  },
  {
   "cell_type": "code",
   "execution_count": null,
   "metadata": {
    "colab": {
     "base_uri": "https://localhost:8080/"
    },
    "id": "89j9m2STeI8z",
    "outputId": "4856c6a4-cd25-4b9d-c6ed-d69c5983e426",
    "pycharm": {
     "name": "#%%\n"
    }
   },
   "outputs": [
    {
     "name": "stdout",
     "output_type": "stream",
     "text": [
      "WARNING:tensorflow:Layer lstm will not use cuDNN kernel since it doesn't meet the cuDNN kernel criteria. It will use generic GPU kernel as fallback when running on GPU\n",
      "WARNING:tensorflow:Layer lstm_1 will not use cuDNN kernel since it doesn't meet the cuDNN kernel criteria. It will use generic GPU kernel as fallback when running on GPU\n",
      "WARNING:tensorflow:Layer lstm_2 will not use cuDNN kernel since it doesn't meet the cuDNN kernel criteria. It will use generic GPU kernel as fallback when running on GPU\n",
      "WARNING:tensorflow:Layer lstm_3 will not use cuDNN kernel since it doesn't meet the cuDNN kernel criteria. It will use generic GPU kernel as fallback when running on GPU\n",
      "Model: \"functional_1\"\n",
      "__________________________________________________________________________________________________\n",
      "Layer (type)                    Output Shape         Param #     Connected to                     \n",
      "==================================================================================================\n",
      "input_1 (InputLayer)            [(None, 60)]         0                                            \n",
      "__________________________________________________________________________________________________\n",
      "embedding_layer (Embedding)     (None, 60, 300)      22654800    input_1[0][0]                    \n",
      "__________________________________________________________________________________________________\n",
      "lstm (LSTM)                     [(None, 60, 500), (N 1602000     embedding_layer[0][0]            \n",
      "__________________________________________________________________________________________________\n",
      "input_2 (InputLayer)            [(None, None)]       0                                            \n",
      "__________________________________________________________________________________________________\n",
      "lstm_1 (LSTM)                   [(None, 60, 500), (N 2002000     lstm[0][0]                       \n",
      "__________________________________________________________________________________________________\n",
      "embedding (Embedding)           (None, None, 300)    8707800     input_2[0][0]                    \n",
      "__________________________________________________________________________________________________\n",
      "lstm_2 (LSTM)                   [(None, 60, 500), (N 2002000     lstm_1[0][0]                     \n",
      "__________________________________________________________________________________________________\n",
      "lstm_3 (LSTM)                   [(None, None, 500),  1602000     embedding[0][0]                  \n",
      "                                                                 lstm_2[0][1]                     \n",
      "                                                                 lstm_2[0][2]                     \n",
      "__________________________________________________________________________________________________\n",
      "attention_layer (AttentionLayer ((None, None, 500),  500500      lstm_2[0][0]                     \n",
      "                                                                 lstm_3[0][0]                     \n",
      "__________________________________________________________________________________________________\n",
      "concat_layer (Concatenate)      (None, None, 1000)   0           lstm_3[0][0]                     \n",
      "                                                                 attention_layer[0][0]            \n",
      "__________________________________________________________________________________________________\n",
      "time_distributed (TimeDistribut (None, None, 29026)  29055026    concat_layer[0][0]               \n",
      "==================================================================================================\n",
      "Total params: 68,126,126\n",
      "Trainable params: 45,471,326\n",
      "Non-trainable params: 22,654,800\n",
      "__________________________________________________________________________________________________\n"
     ]
    }
   ],
   "source": [
    "from keras import backend as K \n",
    "K.clear_session()\n",
    "\n",
    "\n",
    "# Encoder\n",
    "encoder_inputs = Input(shape=(max_text_len,))\n",
    "\n",
    "#embedding layer\n",
    "enc_emb =  Embedding(x_voc, embedding_dim,weights=[embedding_matrix],\n",
    "input_length=max_text_len, trainable=False,  name='embedding_layer')(encoder_inputs)\n",
    "\n",
    "#encoder lstm 1\n",
    "encoder_lstm1 = LSTM(latent_dim,return_sequences=True,return_state=True,dropout=0.4,recurrent_dropout=0.4)\n",
    "encoder_output1, state_h1, state_c1 = encoder_lstm1(enc_emb)\n",
    "\n",
    "#encoder lstm 2\n",
    "encoder_lstm2 = LSTM(latent_dim,return_sequences=True,return_state=True,dropout=0.4,recurrent_dropout=0.4)\n",
    "encoder_output2, state_h2, state_c2 = encoder_lstm2(encoder_output1)\n",
    "\n",
    "#encoder lstm 3\n",
    "encoder_lstm3=LSTM(latent_dim, return_state=True, return_sequences=True,dropout=0.4,recurrent_dropout=0.4)\n",
    "encoder_outputs, state_h, state_c= encoder_lstm3(encoder_output2)\n",
    "\n",
    "# Set up the decoder, using `encoder_states` as initial state.\n",
    "decoder_inputs = Input(shape=(None,))\n",
    "\n",
    "#embedding layer\n",
    "dec_emb_layer = Embedding(y_voc, embedding_dim,trainable=True)\n",
    "dec_emb = dec_emb_layer(decoder_inputs)\n",
    "\n",
    "decoder_lstm = LSTM(latent_dim, return_sequences=True, return_state=True,dropout=0.4,recurrent_dropout=0.2)\n",
    "decoder_outputs,decoder_fwd_state, decoder_back_state = decoder_lstm(dec_emb,initial_state=[state_h, state_c])\n",
    "\n",
    "# Attention layer\n",
    "attn_layer = AttentionLayer(name='attention_layer')\n",
    "attn_out, attn_states = attn_layer([encoder_outputs, decoder_outputs])\n",
    "\n",
    "# Concat attention input and decoder LSTM output\n",
    "decoder_concat_input = Concatenate(axis=-1, name='concat_layer')([decoder_outputs, attn_out])\n",
    "\n",
    "#dense layer\n",
    "decoder_dense =  TimeDistributed(Dense(y_voc, activation='softmax'))\n",
    "decoder_outputs = decoder_dense(decoder_concat_input)\n",
    "\n",
    "# Define the model \n",
    "model = Model([encoder_inputs, decoder_inputs], decoder_outputs)\n",
    "\n",
    "model.summary() \n"
   ]
  },
  {
   "cell_type": "code",
   "execution_count": null,
   "metadata": {
    "colab": {
     "base_uri": "https://localhost:8080/",
     "height": 856
    },
    "id": "N3kQOsqgLaQv",
    "outputId": "530ddbab-05e6-4069-ba08-e97c475925ab"
   },
   "outputs": [
    {
     "data": {
      "image/png": "[encoded data removed]",
      "text/plain": [
       "<IPython.core.display.Image object>"
      ]
     },
     "execution_count": 65,
     "metadata": {
      "tags": []
     },
     "output_type": "execute_result"
    }
   ],
   "source": [
    "plot_model(model,os.path.join(base_dir,\"plot_model_{}.png\".format(embedding_dim)))"
   ]
  },
  {
   "cell_type": "code",
   "execution_count": null,
   "metadata": {
    "id": "uj9We527eI86",
    "pycharm": {
     "name": "#%%\n"
    }
   },
   "outputs": [],
   "source": [
    "model.compile(optimizer='RMSProp', loss='sparse_categorical_crossentropy')"
   ]
  },
  {
   "cell_type": "markdown",
   "metadata": {
    "id": "p0ykDbxfUhyw"
   },
   "source": []
  },
  {
   "cell_type": "code",
   "execution_count": null,
   "metadata": {
    "id": "s-A3J92MUljB"
   },
   "outputs": [],
   "source": [
    "# x_tokenizer_json = x_tokenizer.to_json()\n",
    "# with io.open(os.path.join(base_dir,\"x_tokenizer.json\"), 'w', encoding='utf-8') as fx:\n",
    "#     fx.write(json.dumps(x_tokenizer_json, ensure_ascii=False))\n",
    "#\n",
    "# y_tokenizer_json = y_tokenizer.to_json()\n",
    "# with io.open(os.path.join(base_dir,\"y_tokenizer.json\"), 'w', encoding='utf-8') as fy:\n",
    "#     fy.write(json.dumps(y_tokenizer_json, ensure_ascii=False))"
   ]
  },
  {
   "cell_type": "code",
   "execution_count": null,
   "metadata": {
    "id": "y-w3r13ReI9F",
    "pycharm": {
     "name": "#%%\n"
    }
   },
   "outputs": [],
   "source": [
    "es = EarlyStopping(monitor='val_loss', mode='min', verbose=VERBOSE,patience=3)\n",
    "\n",
    "ckp_path=os.path.join(base_dir,\"Checkpoints\")\n",
    "if not os.path.exists(ckp_path):\n",
    "  os.mkdir(ckp_path)\n",
    "ckp = ModelCheckpoint((os.path.join(ckp_path, \"weight.{epoch:02d}-{loss:.3f}-{val_loss:.3f}.h5\")))\n"
   ]
  },
  {
   "cell_type": "code",
   "execution_count": null,
   "metadata": {
    "id": "ETnPzA4OFxi3"
   },
   "outputs": [],
   "source": [
    "if PRETRAINED_WEIGHT_NAME!=\"\" and os.path.exists(os.path.join(base_dir,PRETRAINED_WEIGHT_NAME)):\n",
    "    model=load_model(os.path.join(base_dir,PRETRAINED_WEIGHT_NAME))\n",
    "    print(\"Load pretrained model\")"
   ]
  },
  {
   "cell_type": "code",
   "execution_count": null,
   "metadata": {
    "colab": {
     "base_uri": "https://localhost:8080/"
    },
    "id": "r4ZTMZJjeI9O",
    "outputId": "ac6f24b6-7ac2-4461-8a13-05c6210c98d4",
    "pycharm": {
     "name": "#%%\n"
    }
   },
   "outputs": [
    {
     "name": "stdout",
     "output_type": "stream",
     "text": [
      "Epoch 1/20\n",
      " 90/733 [==>...........................] - ETA: 6:46 - loss: 6.5777"
     ]
    }
   ],
   "source": [
    "history=model.fit([x_tr,y_tr[:,:-1]], y_tr.reshape(y_tr.shape[0],y_tr.shape[1], 1)[:,1:] ,\n",
    "                  verbose=VERBOSE,epochs=EPOCH,\n",
    "                  callbacks=[es],\n",
    "                  batch_size=BATCHSIZE,\n",
    "                  validation_data=([x_val,y_val[:,:-1]], y_val.reshape(y_val.shape[0],y_val.shape[1], 1)[:,1:]))"
   ]
  },
  {
   "cell_type": "code",
   "execution_count": null,
   "metadata": {
    "id": "tDTNLAURFxjE"
   },
   "outputs": [],
   "source": [
    "try:\n",
    "    pyplot.plot(history.history['val_loss'], label='validation')\n",
    "    pyplot.plot(history.history['loss'], label='train')\n",
    "    pyplot.title('Loss')\n",
    "    pyplot.legend()\n",
    "    pyplot.savefig(os.path.join(base_dir,\"seq_{}_{}_history.png\".format(embedding_dim,dataset_name)))\n",
    "    pyplot.show()\n",
    "except NameError:\n",
    "    print(\"Did not finish training\")"
   ]
  },
  {
   "cell_type": "code",
   "execution_count": null,
   "metadata": {
    "id": "oRlpr8r_9SzD"
   },
   "outputs": [],
   "source": [
    "# save_model(model,os.path.join(base_dir,\"trained_en_de_{}.h5\".format(embedding_dim))) "
   ]
  },
  {
   "cell_type": "code",
   "execution_count": null,
   "metadata": {
    "id": "sBX0zZnOFxjW"
   },
   "outputs": [],
   "source": [
    "reverse_target_word_index=y_tokenizer.index_word\n",
    "reverse_source_word_index=x_tokenizer.index_word\n",
    "target_word_index=y_tokenizer.word_index"
   ]
  },
  {
   "cell_type": "markdown",
   "metadata": {
    "id": "eM_nU_VvFxjq"
   },
   "source": [
    "# Inference\n",
    "\n",
    "Set up the inference for the encoder and decoder:"
   ]
  },
  {
   "cell_type": "code",
   "execution_count": null,
   "metadata": {
    "id": "9QkrNV-4Fxjt"
   },
   "outputs": [],
   "source": [
    "# Encode the input sequence to get the feature vector\n",
    "encoder_model = Model(inputs=encoder_inputs,outputs=[encoder_outputs, state_h, state_c])\n",
    "\n",
    "# Decoder setup\n",
    "# Below tensors will hold the states of the previous time step\n",
    "decoder_state_input_h = Input(shape=(latent_dim,))\n",
    "decoder_state_input_c = Input(shape=(latent_dim,))\n",
    "decoder_hidden_state_input = Input(shape=(max_text_len,latent_dim))\n",
    "\n",
    "# Get the embeddings of the decoder sequence\n",
    "dec_emb2= dec_emb_layer(decoder_inputs) \n",
    "# To predict the next word in the sequence, set the initial states to the states from the previous time step\n",
    "decoder_outputs2, state_h2, state_c2 = decoder_lstm(dec_emb2, initial_state=[decoder_state_input_h, decoder_state_input_c])\n",
    "\n",
    "#attention inference\n",
    "attn_out_inf, attn_states_inf = attn_layer([decoder_hidden_state_input, decoder_outputs2])\n",
    "decoder_inf_concat = Concatenate(axis=-1, name='concat')([decoder_outputs2, attn_out_inf])\n",
    "\n",
    "# A dense softmax layer to generate prob dist. over the target vocabulary\n",
    "decoder_outputs2 = decoder_dense(decoder_inf_concat) \n",
    "\n",
    "# Final decoder model\n",
    "decoder_model = Model(\n",
    "    [decoder_inputs] + [decoder_hidden_state_input,decoder_state_input_h, decoder_state_input_c],\n",
    "    [decoder_outputs2] + [state_h2, state_c2])\n"
   ]
  },
  {
   "cell_type": "code",
   "execution_count": null,
   "metadata": {
    "id": "4bvpGCFYeI9v",
    "pycharm": {
     "name": "#%%\n"
    }
   },
   "outputs": [],
   "source": [
    "def decode_sequence(input_seq):\n",
    "    # Encode the input as state vectors.\n",
    "    e_out, e_h, e_c = encoder_model.predict(input_seq)\n",
    "    \n",
    "    # Generate empty target sequence of length 1.\n",
    "    target_seq = np.zeros((1,1))\n",
    "    \n",
    "    # Populate the first word of target sequence with the start word.\n",
    "    target_seq[0, 0] = target_word_index['sostok']\n",
    "\n",
    "    stop_condition = False\n",
    "    decoded_sentence = ''\n",
    "    while not stop_condition:\n",
    "      \n",
    "        output_tokens, h, c = decoder_model.predict([target_seq] + [e_out, e_h, e_c])\n",
    "\n",
    "        # Sample a token\n",
    "        sampled_token_index = np.argmax(output_tokens[0, -1, :])\n",
    "        sampled_token = reverse_target_word_index[sampled_token_index]\n",
    "        \n",
    "        if(sampled_token!='eostok'):\n",
    "            decoded_sentence += ' '+sampled_token\n",
    "\n",
    "        # Exit condition: either hit max length or find stop word.\n",
    "        if (sampled_token == 'eostok'  or len(decoded_sentence.split()) >= (max_summary_len-1)):\n",
    "            stop_condition = True\n",
    "\n",
    "        # Update the target sequence (of length 1).\n",
    "        target_seq = np.zeros((1,1))\n",
    "        target_seq[0, 0] = sampled_token_index\n",
    "\n",
    "        # Update internal states\n",
    "        e_h, e_c = h, c\n",
    "\n",
    "    return decoded_sentence"
   ]
  },
  {
   "cell_type": "code",
   "execution_count": null,
   "metadata": {
    "id": "LoBwXoLP9wTr"
   },
   "outputs": [],
   "source": [
    "# save_model(encoder_model,os.path.join(base_dir,\"encoder_model_{}.h5\".format(embedding_dim))) \n",
    "# save_model(decoder_model,os.path.join(base_dir,\"decoder_model_{}.h5\".format(embedding_dim)))\n"
   ]
  },
  {
   "cell_type": "code",
   "execution_count": null,
   "metadata": {
    "id": "aAUntznIFxj9"
   },
   "outputs": [],
   "source": [
    "def seq2summary(input_seq):\n",
    "    newString=''\n",
    "    for i in input_seq:\n",
    "        if((i!=0 and i!=target_word_index['sostok']) and i!=target_word_index['eostok']):\n",
    "            newString=newString+reverse_target_word_index[i]+' '\n",
    "    return newString\n",
    "\n",
    "def seq2text(input_seq):\n",
    "    newString=''\n",
    "    for i in input_seq:\n",
    "        if(i!=0):\n",
    "            newString=newString+reverse_source_word_index[i]+' '\n",
    "    return newString\n",
    "\n"
   ]
  },
  {
   "cell_type": "code",
   "execution_count": null,
   "metadata": {
    "id": "9kXkNPtaRDJD",
    "pycharm": {
     "name": "#%%\n"
    }
   },
   "outputs": [],
   "source": [
    "output_str = \"original,predicted\\n\"\n",
    "for i in range(0,500):\n",
    "    # print(\"Review:\",seq2text(x_tr[i]))\n",
    "    # print(\"Original summary:\",seq2summary(y_tr[i]))\n",
    "    pred=decode_sequence(x_val[i].reshape(1,max_text_len))\n",
    "    # print(\"Predicted summary:\",pred)\n",
    "    output_str+=\"\\\"{}\\\",\\\"{}\\\"\\n\".format(seq2summary(y_val[i]),pred)\n",
    "    # print(\"\\n\")  \n",
    "with open(os.path.join(base_dir,\"seq_{}_{}_result.csv\".format(embedding_dim,dataset_name)), \"w\") as writefile:\n",
    "    writefile.write(output_str)\n"
   ]
  }
 ],
 "metadata": {
  "accelerator": "GPU",
  "colab": {
   "collapsed_sections": [],
   "machine_shape": "hm",
   "name": "Seq2Seq.ipynb",
   "provenance": [],
   "toc_visible": true
  },
  "kernelspec": {
   "display_name": "Python 3",
   "language": "python",
   "name": "python3"
  },
  "language_info": {
   "codemirror_mode": {
    "name": "ipython",
    "version": 3
   },
   "file_extension": ".py",
   "mimetype": "text/x-python",
   "name": "python",
   "nbconvert_exporter": "python",
   "pygments_lexer": "ipython3",
   "version": "3.8.5"
  }
 },
 "nbformat": 4,
 "nbformat_minor": 1
}
