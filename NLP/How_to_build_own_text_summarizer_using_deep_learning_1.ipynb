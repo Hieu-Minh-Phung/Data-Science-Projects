{
 "cells": [
  {
   "cell_type": "code",
   "execution_count": null,
   "metadata": {
    "colab": {
     "base_uri": "https://localhost:8080/"
    },
    "id": "oNHjHisQgIM6",
    "outputId": "2959be8b-dada-415c-ad17-9847df587541"
   },
   "outputs": [
    {
     "name": "stdout",
     "output_type": "stream",
     "text": [
      "TensorFlow 1.x selected.\n"
     ]
    }
   ],
   "source": [
    "%tensorflow_version 1.x"
   ]
  },
  {
   "cell_type": "markdown",
   "metadata": {
    "id": "qFuL-RBgXqgU"
   },
   "source": [
    "In this notebook, we will build an abstractive based text summarizer using deep learning from the scratch in python using keras\n",
    "\n",
    "I recommend you to go through the article over [here](https://www.analyticsvidhya.com/blog/2019/06/comprehensive-guide-text-summarization-using-deep-learning-python/) to cover all the concepts which is required to build our own summarizer"
   ]
  },
  {
   "cell_type": "markdown",
   "metadata": {
    "id": "F5dSoP8lGMZi"
   },
   "source": [
    "#Understanding the Problem Statement\n",
    "\n",
    "Customer reviews can often be long and descriptive. Analyzing these reviews manually, as you can imagine, is really time-consuming. This is where the brilliance of Natural Language Processing can be applied to generate a summary for long reviews.\n",
    "\n",
    "We will be working on a really cool dataset. Our objective here is to generate a summary for the Amazon Fine Food reviews using the abstraction-based approach we learned about above. You can download the dataset from[ here ](https://www.kaggle.com/snap/amazon-fine-food-reviews)\n",
    "\n",
    "It’s time to fire up our Jupyter notebooks! Let’s dive into the implementation details right away.\n",
    "\n",
    "#Custom Attention Layer\n",
    "\n",
    "Keras does not officially support attention layer. So, we can either implement our own attention layer or use a third-party implementation. We will go with the latter option for this article. You can download the attention layer from [here](https://github.com/thushv89/attention_keras/blob/master/layers/attention.py) and copy it in a different file called attention.py.\n",
    "\n",
    "Let’s import it into our environment:\n"
   ]
  },
  {
   "cell_type": "code",
   "execution_count": null,
   "metadata": {
    "id": "FSGQGShPeI4_",
    "pycharm": {
     "name": "#%%\n"
    }
   },
   "outputs": [],
   "source": [
    "import tensorflow as tf\n",
    "import os\n",
    "from tensorflow.python.keras.layers import Layer\n",
    "from tensorflow.python.keras import backend as K"
   ]
  },
  {
   "cell_type": "code",
   "execution_count": null,
   "metadata": {
    "id": "Dg9qs7jkeI5H",
    "pycharm": {
     "name": "#%%\n"
    }
   },
   "outputs": [],
   "source": [
    "PRETRAINED_WEIGHT_NAME=\"\""
   ]
  },
  {
   "cell_type": "code",
   "execution_count": null,
   "metadata": {
    "id": "G7XmEuvFeI5N",
    "pycharm": {
     "name": "#%%\n"
    }
   },
   "outputs": [],
   "source": [
    "on_colab=True\n",
    "base_dir=\"gdrive/My Drive/News Summary\"\n",
    "glove_dir=\"glove.6B.300d.txt\"\n",
    "data_dir=r\"wikihowSep.csv\"\n",
    "VERBOSE=1\n",
    "EPOCH=20\n",
    "BATCHSIZE=32"
   ]
  },
  {
   "cell_type": "code",
   "execution_count": null,
   "metadata": {
    "colab": {
     "base_uri": "https://localhost:8080/"
    },
    "id": "CQBGKfa6eI5T",
    "outputId": "1d36ad5a-3cf5-4a82-cde7-b57b4412f0ae",
    "pycharm": {
     "name": "#%%\n"
    }
   },
   "outputs": [
    {
     "name": "stdout",
     "output_type": "stream",
     "text": [
      "Mounted at /content/gdrive\n"
     ]
    }
   ],
   "source": [
    "try:\n",
    "    from google.colab import drive\n",
    "    drive.mount(\"/content/gdrive\")\n",
    "except ImportError:\n",
    "    print(\"Running on Local\")\n",
    "    on_colab=False\n",
    "    base_dir=os.getcwd()\n",
    "    glove_dir=r\"C:\\Users\\fflea\\PycharmProjects\\CSC790_Deep_Learning\\Image-Captioning\\glove.6B.200d.txt\"\n",
    "    data_dir=r\"E:\\Wikihow\\wikihowSep.csv\"\n",
    "    VERBOSE=2"
   ]
  },
  {
   "cell_type": "code",
   "execution_count": null,
   "metadata": {
    "colab": {
     "base_uri": "https://localhost:8080/"
    },
    "id": "uo2JKhNieI5b",
    "outputId": "6825724b-4f10-4e93-b4e3-d3574376372f",
    "pycharm": {
     "name": "#%%\n"
    }
   },
   "outputs": [
    {
     "name": "stdout",
     "output_type": "stream",
     "text": [
      "/usr/lib/python3.6/runpy.py:125: RuntimeWarning: 'nltk.downloader' found in sys.modules after import of package 'nltk', but prior to execution of 'nltk.downloader'; this may result in unpredictable behaviour\n",
      "  warn(RuntimeWarning(msg))\n",
      "[nltk_data] Downloading package stopwords to /root/nltk_data...\n",
      "[nltk_data]   Unzipping corpora/stopwords.zip.\n"
     ]
    }
   ],
   "source": [
    "if on_colab:    \n",
    "    !python -m nltk.downloader stopwords\n",
    "    if not os.path.exists(base_dir):\n",
    "        os.mkdir(base_dir)"
   ]
  },
  {
   "cell_type": "code",
   "execution_count": null,
   "metadata": {
    "id": "wamAR-kUfNlE"
   },
   "outputs": [],
   "source": [
    "class AttentionLayer(Layer): \n",
    "  def init(self, kwargs): super(AttentionLayer, self).init(kwargs)\n",
    "\n",
    "  def build(self, input_shape):\n",
    "      assert isinstance(input_shape, list)\n",
    "      # Create a trainable weight variable for this layer.\n",
    "  \n",
    "      self.W_a = self.add_weight(name='W_a',\n",
    "                                shape=tf.TensorShape((input_shape[0][2], input_shape[0][2])),\n",
    "                                initializer='uniform',\n",
    "                                trainable=True)\n",
    "      self.U_a = self.add_weight(name='U_a',\n",
    "                                shape=tf.TensorShape((input_shape[1][2], input_shape[0][2])),\n",
    "                                initializer='uniform',\n",
    "                                trainable=True)\n",
    "      self.V_a = self.add_weight(name='V_a',\n",
    "                                shape=tf.TensorShape((input_shape[0][2], 1)),\n",
    "                                initializer='uniform',\n",
    "                                trainable=True)\n",
    "  \n",
    "      super(AttentionLayer, self).build(input_shape)  # Be sure to call this at the end\n",
    "  \n",
    "  def call(self, inputs, verbose=False):\n",
    "      \"\"\"\n",
    "      inputs: [encoder_output_sequence, decoder_output_sequence]\n",
    "      \"\"\"\n",
    "      assert type(inputs) == list\n",
    "      encoder_out_seq, decoder_out_seq = inputs\n",
    "      if verbose:\n",
    "          print('encoder_out_seq>', encoder_out_seq.shape)\n",
    "          print('decoder_out_seq>', decoder_out_seq.shape)\n",
    "  \n",
    "      def energy_step(inputs, states):\n",
    "          \"\"\" Step function for computing energy for a single decoder state\n",
    "          inputs: (batchsize * 1 * de_in_dim)\n",
    "          states: (batchsize * 1 * de_latent_dim)\n",
    "          \"\"\"\n",
    "  \n",
    "          assert_msg = \"States must be an iterable. Got {} of type {}\".format(states, type(states))\n",
    "          assert isinstance(states, list) or isinstance(states, tuple), assert_msg\n",
    "  \n",
    "          \"\"\" Some parameters required for shaping tensors\"\"\"\n",
    "          en_seq_len, en_hidden = encoder_out_seq.shape[1], encoder_out_seq.shape[2]\n",
    "          de_hidden = inputs.shape[-1]\n",
    "  \n",
    "          \"\"\" Computing S.Wa where S=[s0, s1, ..., si]\"\"\"\n",
    "          # <= batch size * en_seq_len * latent_dim\n",
    "          W_a_dot_s = K.dot(encoder_out_seq, self.W_a)\n",
    "  \n",
    "          \"\"\" Computing hj.Ua \"\"\"\n",
    "          U_a_dot_h = K.expand_dims(K.dot(inputs, self.U_a), 1)  # <= batch_size, 1, latent_dim\n",
    "          if verbose:\n",
    "              print('Ua.h>', U_a_dot_h.shape)\n",
    "  \n",
    "          \"\"\" tanh(S.Wa + hj.Ua) \"\"\"\n",
    "          # <= batch_size*en_seq_len, latent_dim\n",
    "          Ws_plus_Uh = K.tanh(W_a_dot_s + U_a_dot_h)\n",
    "          if verbose:\n",
    "              print('Ws+Uh>', Ws_plus_Uh.shape)\n",
    "  \n",
    "          \"\"\" softmax(va.tanh(S.Wa + hj.Ua)) \"\"\"\n",
    "          # <= batch_size, en_seq_len\n",
    "          e_i = K.squeeze(K.dot(Ws_plus_Uh, self.V_a), axis=-1)\n",
    "          # <= batch_size, en_seq_len\n",
    "          e_i = K.softmax(e_i)\n",
    "  \n",
    "          if verbose:\n",
    "              print('ei>', e_i.shape)\n",
    "  \n",
    "          return e_i, [e_i]\n",
    "  \n",
    "      def context_step(inputs, states):\n",
    "          \"\"\" Step function for computing ci using ei \"\"\"\n",
    "  \n",
    "          assert_msg = \"States must be an iterable. Got {} of type {}\".format(states, type(states))\n",
    "          assert isinstance(states, list) or isinstance(states, tuple), assert_msg\n",
    "  \n",
    "          # <= batch_size, hidden_size\n",
    "          c_i = K.sum(encoder_out_seq * K.expand_dims(inputs, -1), axis=1)\n",
    "          if verbose:\n",
    "              print('ci>', c_i.shape)\n",
    "          return c_i, [c_i]\n",
    "  \n",
    "      fake_state_c = K.sum(encoder_out_seq, axis=1)\n",
    "      fake_state_e = K.sum(encoder_out_seq, axis=2)  # <= (batch_size, enc_seq_len, latent_dim\n",
    "  \n",
    "      \"\"\" Computing energy outputs \"\"\"\n",
    "      # e_outputs => (batch_size, de_seq_len, en_seq_len)\n",
    "      last_out, e_outputs, _ = K.rnn(\n",
    "          energy_step, decoder_out_seq, [fake_state_e],\n",
    "      )\n",
    "  \n",
    "      \"\"\" Computing context vectors \"\"\"\n",
    "      last_out, c_outputs, _ = K.rnn(\n",
    "          context_step, e_outputs, [fake_state_c],\n",
    "      )\n",
    "  \n",
    "      return c_outputs, e_outputs\n",
    "  \n",
    "  def compute_output_shape(self, input_shape):\n",
    "      \"\"\" Outputs produced by the layer \"\"\"\n",
    "      return [\n",
    "          tf.TensorShape((input_shape[1][0], input_shape[1][1], input_shape[1][2])),\n",
    "          tf.TensorShape((input_shape[1][0], input_shape[1][1], input_shape[0][1]))\n",
    "      ]"
   ]
  },
  {
   "cell_type": "markdown",
   "metadata": {
    "id": "ALYAsClHeI5j"
   },
   "source": [
    "#Import the Libraries"
   ]
  },
  {
   "cell_type": "code",
   "execution_count": null,
   "metadata": {
    "_cell_guid": "b1076dfc-b9ad-4769-8c92-a6c4dae69d19",
    "_uuid": "8f2839f25d086af736a60e9eeb907d3b93b6e0e5",
    "colab": {
     "base_uri": "https://localhost:8080/"
    },
    "id": "_Jpu8qLEFxcY",
    "outputId": "78c43191-8272-4db0-92fa-cd38205c7e9d"
   },
   "outputs": [
    {
     "name": "stderr",
     "output_type": "stream",
     "text": [
      "Using TensorFlow backend.\n"
     ]
    }
   ],
   "source": [
    "import numpy as np\n",
    "import pandas as pd \n",
    "import re\n",
    "from bs4 import BeautifulSoup\n",
    "import io\n",
    "import json\n",
    "from keras.preprocessing.text import Tokenizer, tokenizer_from_json\n",
    "from keras.preprocessing.sequence import pad_sequences\n",
    "from nltk.corpus import stopwords\n",
    "from tensorflow.keras.layers import Input, LSTM, Embedding, Dense, Concatenate, TimeDistributed\n",
    "from tensorflow.keras.models import Model,save_model, load_model\n",
    "from tensorflow.keras.callbacks import EarlyStopping, ModelCheckpoint\n",
    "from tensorflow.keras.utils import plot_model\n",
    "import warnings\n",
    "from matplotlib import pyplot\n",
    "pd.set_option(\"display.max_colwidth\", 200)\n",
    "warnings.filterwarnings(\"ignore\")\n"
   ]
  },
  {
   "cell_type": "markdown",
   "metadata": {
    "id": "UVakjZ3oICgx"
   },
   "source": [
    "#Read the dataset\n",
    "\n",
    "This dataset consists of reviews of fine foods from Amazon. The data spans a period of more than 10 years, including all ~500,000 reviews up to October 2012. These reviews include product and user information, ratings, plain text review, and summary. It also includes reviews from all other Amazon categories.\n",
    "\n",
    "We’ll take a sample of 100,000 reviews to reduce the training time of our model. Feel free to use the entire dataset for training your model if your machine has that kind of computational power."
   ]
  },
  {
   "cell_type": "code",
   "execution_count": null,
   "metadata": {
    "id": "wnK5o4Z1Fxcj"
   },
   "outputs": [],
   "source": [
    "nrows=100000\n",
    "try:\n",
    "  data=pd.read_csv(os.path.join(base_dir,data_dir),nrows=nrows)\n",
    "except FileNotFoundError:\n",
    "  data=pd.read_csv(data_dir,nrows=nrows)"
   ]
  },
  {
   "cell_type": "code",
   "execution_count": null,
   "metadata": {
    "id": "sUBTGpI7eI5x",
    "pycharm": {
     "name": "#%%\n"
    }
   },
   "outputs": [],
   "source": [
    "if \"content\" in data.columns:\n",
    "    data.rename(columns = {\"content\":\"article\"}, inplace = True)\n",
    "if \"Summary\" in data.columns:\n",
    "    data.rename(columns = {\"Summary\":\"summary\"}, inplace = True)\n",
    "if \"headline\" in data.columns:\n",
    "    data.rename(columns = {\"headline\":\"summary\"}, inplace = True)\n",
    "if \"Text\" in data.columns:\n",
    "    data.rename(columns = {\"Text\":\"article\"}, inplace = True)\n",
    "if \"text\" in data.columns:\n",
    "    data.rename(columns = {\"text\":\"article\"}, inplace = True)"
   ]
  },
  {
   "cell_type": "code",
   "execution_count": null,
   "metadata": {
    "colab": {
     "base_uri": "https://localhost:8080/"
    },
    "id": "W8z9kUfEeI55",
    "outputId": "9f5eb8f5-0f60-4ab4-aa2d-f497a1ca43f1",
    "pycharm": {
     "name": "#%%\n"
    }
   },
   "outputs": [
    {
     "name": "stdout",
     "output_type": "stream",
     "text": [
      "                                                                                                                                                                                                  overview  ...                        title\n",
      "0   So you're a new or aspiring artist and your creativity has spawned something  unique  and interesting. Now you're ready to display and sell this creation and perhaps make some money, but you're v...  ...  How to Sell Fine Art Online\n",
      "1   If you want to be well-read, then, in the words of William Faulkner, you'll have to \"Read, read, read. Read everything...\" You can start at the very beginning, or just make your way down an eclec...  ...          How to Be Well Read\n",
      "2   So you're a new or aspiring artist and your creativity has spawned something  unique  and interesting. Now you're ready to display and sell this creation and perhaps make some money, but you're v...  ...  How to Sell Fine Art Online\n",
      "3   So you're a new or aspiring artist and your creativity has spawned something  unique  and interesting. Now you're ready to display and sell this creation and perhaps make some money, but you're v...  ...  How to Sell Fine Art Online\n",
      "4   So you're a new or aspiring artist and your creativity has spawned something  unique  and interesting. Now you're ready to display and sell this creation and perhaps make some money, but you're v...  ...  How to Sell Fine Art Online\n",
      "\n",
      "[5 rows x 5 columns]\n"
     ]
    }
   ],
   "source": [
    "print(data.head(5))"
   ]
  },
  {
   "cell_type": "markdown",
   "metadata": {
    "id": "kGNQKvCaISIn"
   },
   "source": [
    "# Drop Duplicates and NA values"
   ]
  },
  {
   "cell_type": "code",
   "execution_count": null,
   "metadata": {
    "id": "Cjul88oOFxcr"
   },
   "outputs": [],
   "source": [
    "data.drop_duplicates(subset=[\"article\"],inplace=True)#dropping duplicates\n",
    "data = data[pd.notnull(data[\"article\"])]\n",
    "data = data[pd.notnull(data[\"summary\"])]\n",
    "#data.dropna(axis=0,inplace=True)#dropping na"
   ]
  },
  {
   "cell_type": "markdown",
   "metadata": {
    "id": "qi0xD6BkIWAm"
   },
   "source": [
    "# Information about dataset\n",
    "\n",
    "Let us look at datatypes and shape of the dataset"
   ]
  },
  {
   "cell_type": "code",
   "execution_count": null,
   "metadata": {
    "colab": {
     "base_uri": "https://localhost:8080/"
    },
    "id": "__fy-JxTFxc9",
    "outputId": "9a2f6292-e8fb-43c2-9e63-510365bbb6a3"
   },
   "outputs": [
    {
     "name": "stdout",
     "output_type": "stream",
     "text": [
      "<class 'pandas.core.frame.DataFrame'>\n",
      "Int64Index: 95979 entries, 0 to 99999\n",
      "Data columns (total 5 columns):\n",
      " #   Column        Non-Null Count  Dtype \n",
      "---  ------        --------------  ----- \n",
      " 0   overview      95672 non-null  object\n",
      " 1   summary       95979 non-null  object\n",
      " 2   article       95979 non-null  object\n",
      " 3   sectionLabel  95832 non-null  object\n",
      " 4   title         95979 non-null  object\n",
      "dtypes: object(5)\n",
      "memory usage: 4.4+ MB\n"
     ]
    }
   ],
   "source": [
    "data.info()"
   ]
  },
  {
   "cell_type": "markdown",
   "metadata": {
    "id": "r0xLYACiFxdJ"
   },
   "source": [
    "#Preprocessing\n",
    "\n",
    "Performing basic preprocessing steps is very important before we get to the model building part. Using messy and uncleaned text data is a potentially disastrous move. So in this step, we will drop all the unwanted symbols, characters, etc. from the text that do not affect the objective of our problem.\n",
    "\n",
    "Here is the dictionary that we will use for expanding the contractions:"
   ]
  },
  {
   "cell_type": "code",
   "execution_count": null,
   "metadata": {
    "id": "0s6IY-x2FxdL"
   },
   "outputs": [],
   "source": [
    "contraction_mapping = {\"ain't\": \"is not\", \"aren't\": \"are not\",\"can't\": \"cannot\", \"'cause\": \"because\", \"could've\": \"could have\", \"couldn't\": \"could not\",\n",
    "                           \"didn't\": \"did not\",  \"doesn't\": \"does not\", \"don't\": \"do not\", \"hadn't\": \"had not\", \"hasn't\": \"has not\", \"haven't\": \"have not\",\n",
    "                           \"he'd\": \"he would\",\"he'll\": \"he will\", \"he's\": \"he is\", \"how'd\": \"how did\", \"how'd'y\": \"how do you\", \"how'll\": \"how will\", \"how's\": \"how is\",\n",
    "                           \"I'd\": \"I would\", \"I'd've\": \"I would have\", \"I'll\": \"I will\", \"I'll've\": \"I will have\",\"I'm\": \"I am\", \"I've\": \"I have\", \"i'd\": \"i would\",\n",
    "                           \"i'd've\": \"i would have\", \"i'll\": \"i will\",  \"i'll've\": \"i will have\",\"i'm\": \"i am\", \"i've\": \"i have\", \"isn't\": \"is not\", \"it'd\": \"it would\",\n",
    "                           \"it'd've\": \"it would have\", \"it'll\": \"it will\", \"it'll've\": \"it will have\",\"it's\": \"it is\", \"let's\": \"let us\", \"ma'am\": \"madam\",\n",
    "                           \"mayn't\": \"may not\", \"might've\": \"might have\",\"mightn't\": \"might not\",\"mightn't've\": \"might not have\", \"must've\": \"must have\",\n",
    "                           \"mustn't\": \"must not\", \"mustn't've\": \"must not have\", \"needn't\": \"need not\", \"needn't've\": \"need not have\",\"o'clock\": \"of the clock\",\n",
    "                           \"oughtn't\": \"ought not\", \"oughtn't've\": \"ought not have\", \"shan't\": \"shall not\", \"sha'n't\": \"shall not\", \"shan't've\": \"shall not have\",\n",
    "                           \"she'd\": \"she would\", \"she'd've\": \"she would have\", \"she'll\": \"she will\", \"she'll've\": \"she will have\", \"she's\": \"she is\",\n",
    "                           \"should've\": \"should have\", \"shouldn't\": \"should not\", \"shouldn't've\": \"should not have\", \"so've\": \"so have\",\"so's\": \"so as\",\n",
    "                           \"this's\": \"this is\",\"that'd\": \"that would\", \"that'd've\": \"that would have\", \"that's\": \"that is\", \"there'd\": \"there would\",\n",
    "                           \"there'd've\": \"there would have\", \"there's\": \"there is\", \"here's\": \"here is\",\"they'd\": \"they would\", \"they'd've\": \"they would have\",\n",
    "                           \"they'll\": \"they will\", \"they'll've\": \"they will have\", \"they're\": \"they are\", \"they've\": \"they have\", \"to've\": \"to have\",\n",
    "                           \"wasn't\": \"was not\", \"we'd\": \"we would\", \"we'd've\": \"we would have\", \"we'll\": \"we will\", \"we'll've\": \"we will have\", \"we're\": \"we are\",\n",
    "                           \"we've\": \"we have\", \"weren't\": \"were not\", \"what'll\": \"what will\", \"what'll've\": \"what will have\", \"what're\": \"what are\",\n",
    "                           \"what's\": \"what is\", \"what've\": \"what have\", \"when's\": \"when is\", \"when've\": \"when have\", \"where'd\": \"where did\", \"where's\": \"where is\",\n",
    "                           \"where've\": \"where have\", \"who'll\": \"who will\", \"who'll've\": \"who will have\", \"who's\": \"who is\", \"who've\": \"who have\",\n",
    "                           \"why's\": \"why is\", \"why've\": \"why have\", \"will've\": \"will have\", \"won't\": \"will not\", \"won't've\": \"will not have\",\n",
    "                           \"would've\": \"would have\", \"wouldn't\": \"would not\", \"wouldn't've\": \"would not have\", \"y'all\": \"you all\",\n",
    "                           \"y'all'd\": \"you all would\",\"y'all'd've\": \"you all would have\",\"y'all're\": \"you all are\",\"y'all've\": \"you all have\",\n",
    "                           \"you'd\": \"you would\", \"you'd've\": \"you would have\", \"you'll\": \"you will\", \"you'll've\": \"you will have\",\n",
    "                           \"you're\": \"you are\", \"you've\": \"you have\"}"
   ]
  },
  {
   "cell_type": "markdown",
   "metadata": {
    "id": "2JFRXFHmI7Mj"
   },
   "source": [
    "We will perform the below preprocessing tasks for our data:\n",
    "\n",
    "1.Convert everything to lowercase\n",
    "\n",
    "2.Remove HTML tags\n",
    "\n",
    "3.Contraction mapping\n",
    "\n",
    "4.Remove (‘s)\n",
    "\n",
    "5.Remove any text inside the parenthesis ( )\n",
    "\n",
    "6.Eliminate punctuations and special characters\n",
    "\n",
    "7.Remove stopwords\n",
    "\n",
    "8.Remove short words\n",
    "\n",
    "Let’s define the function:"
   ]
  },
  {
   "cell_type": "code",
   "execution_count": null,
   "metadata": {
    "id": "XZr-u3OEFxdT"
   },
   "outputs": [],
   "source": [
    "stop_words = set(stopwords.words('english')) \n",
    "\n",
    "def text_cleaner(text,num):\n",
    "    newString = text.lower()\n",
    "    newString = BeautifulSoup(newString, \"html.parser\").text\n",
    "    newString = re.sub(r'\\([^)]*\\)', '', newString)\n",
    "    newString = re.sub('\"','', newString)\n",
    "    newString = ' '.join([contraction_mapping[t] if t in contraction_mapping else t for t in newString.split(\" \")])    \n",
    "    newString = re.sub(r\"'s\\b\",\"\",newString)\n",
    "    newString = re.sub(\"[^a-zA-Z]\", \" \", newString) \n",
    "    newString = re.sub('[m]{2,}', 'mm', newString)\n",
    "    if(num==0):\n",
    "        tokens = [w for w in newString.split() if not w in stop_words]\n",
    "    else:\n",
    "        tokens=newString.split()\n",
    "    long_words=[]\n",
    "    for i in tokens:\n",
    "        if len(i)>1:                                                 #removing short word\n",
    "            long_words.append(i)   \n",
    "    return (\" \".join(long_words)).strip()"
   ]
  },
  {
   "cell_type": "code",
   "execution_count": null,
   "metadata": {
    "id": "A2QAeCHWFxdY"
   },
   "outputs": [],
   "source": [
    "#call the function\n",
    "cleaned_text = []\n",
    "for t in data[\"article\"]:\n",
    "    cleaned_text.append(text_cleaner(t,0))\n",
    "\n"
   ]
  },
  {
   "cell_type": "markdown",
   "metadata": {
    "id": "Dcac0IeeeI6e",
    "pycharm": {
     "name": "#%% md\n"
    }
   },
   "source": [
    "Let us look at the first five preprocessed reviews"
   ]
  },
  {
   "cell_type": "code",
   "execution_count": null,
   "metadata": {
    "colab": {
     "base_uri": "https://localhost:8080/"
    },
    "id": "NCAIkhWbFxdh",
    "outputId": "e367bac3-87cf-4cdf-cc9c-262499866001"
   },
   "outputs": [
    {
     "data": {
      "text/plain": [
       "['anything else stop sum artist think translate online profile words twitter allows entire page indulgence website would allow bring salient features creativity experience passion reasons painting make clear readers artist loves art produces high quality art true champion art great words find friend help really important aspect selling online establishment credibility reliability',\n",
       " 'reading classics first thing well read want build solid foundation understanding books read cannot avoid earliest plays poems oral tales ever written remember novel really get popular th century find novels list without reading poetry homer plays sophocles able call well read list get started epic gilgamesh iliad odyssey homer oresteia aeschylus oedipus king sophocles medea euripides aeneid virgil one thousand one nights beowulf tale genji murasaki shikibu divine comedy dante decameron boccaccio canterbury tales chaucer',\n",
       " 'depending scale intend sell art pieces may want get account online art community store like deviant art brokerage also find many online art galleries like art brokerage diva art group saatchi art show artwork online sell buyer completely secured transaction also many possible sites etsy ebay amazon store cafepress craigslist quite lot artwork based sales sites read terms conditions every site carefully know commission percentage site takes know protections site offers know clientele generally peruse site know general sales brought site know everything relevant sales goal turn art investment property selling online likely much longer path end largely generally difficult unknown artists secure higher priced sales serious collectors online traditional gallery concrete decisions made safely best see selling art online adjunct usual methods selling art means',\n",
       " 'get best advertising publish example pieces around web show demonstrate style sure add watermark digital version protect artwork art thieves spend little time researching online ways artists promoting works like promotional strategies want avoid type research give lot ideas also alert potential pitfalls ways promote artwork bookmark sites artists selling online really inspire come back regularly see evolving succeeding seize power twitter facebook increase people knowledge tweet updates new paintings thoughts art news items art general facebook place photos artwork photos receiving awards information art artwork general perhaps even critiques artwork',\n",
       " 'given hundreds free blogging websites lot choice keeping blog importantly extremely useful keep updated regularly gives people something pretty look story follow reputation increases sales story grows blog pick lot hits search engines utilize keywords feature accurately use advantage sure name blog something simple memorable want people able find ease read start blog increase website traffic free assistance good way test keywords little cost using auction site play around words use title art sales well words used within body text keep changing words find sweet spot words really seem attract views']"
      ]
     },
     "execution_count": 17,
     "metadata": {
      "tags": []
     },
     "output_type": "execute_result"
    }
   ],
   "source": [
    "cleaned_text[:5]  "
   ]
  },
  {
   "cell_type": "code",
   "execution_count": null,
   "metadata": {
    "id": "GsRXocxoFxd-"
   },
   "outputs": [],
   "source": [
    "#call the function\n",
    "cleaned_summary = []\n",
    "for t in data[\"summary\"]:\n",
    "    cleaned_summary.append(text_cleaner(t,1))"
   ]
  },
  {
   "cell_type": "markdown",
   "metadata": {
    "id": "oZeD0gs6Lnb-"
   },
   "source": [
    "Let us look at the first 10 preprocessed summaries"
   ]
  },
  {
   "cell_type": "code",
   "execution_count": null,
   "metadata": {
    "colab": {
     "base_uri": "https://localhost:8080/"
    },
    "id": "jQJdZcAzFxee",
    "outputId": "be23fcad-8019-4a1c-ba01-8637e2a86930"
   },
   "outputs": [
    {
     "data": {
      "text/plain": [
       "['sell yourself first',\n",
       " 'read the classics before',\n",
       " 'join online artist communities',\n",
       " 'make yourself public',\n",
       " 'blog about your artwork',\n",
       " 'create mailing list',\n",
       " 'take good pictures',\n",
       " 'be sure to properly license your art',\n",
       " 'consider the option of creating your own site',\n",
       " 'expect this to be gradual process and do not expect to sell lot right away']"
      ]
     },
     "execution_count": 19,
     "metadata": {
      "tags": []
     },
     "output_type": "execute_result"
    }
   ],
   "source": [
    "cleaned_summary[:10]"
   ]
  },
  {
   "cell_type": "code",
   "execution_count": null,
   "metadata": {
    "id": "L1zLpnqsFxey"
   },
   "outputs": [],
   "source": [
    "data['cleaned_text']=cleaned_text\n",
    "data['cleaned_summary']=cleaned_summary\n"
   ]
  },
  {
   "cell_type": "markdown",
   "metadata": {
    "id": "Vm8Fk2TCL7Sp"
   },
   "source": [
    "#Understanding the distribution of the sequences\n",
    "\n",
    "Here, we will analyze the length of the reviews and the summary to get an overall idea about the distribution of length of the text. This will help us fix the maximum length of the sequence:"
   ]
  },
  {
   "cell_type": "code",
   "execution_count": null,
   "metadata": {
    "colab": {
     "base_uri": "https://localhost:8080/",
     "height": 281
    },
    "id": "MdF76AHHFxgw",
    "outputId": "43bb5887-7005-4de6-f210-1e040ed30e2b"
   },
   "outputs": [
    {
     "data": {
      "image/png": "[encoded data removed]",
      "text/plain": [
       "<Figure size 432x288 with 2 Axes>"
      ]
     },
     "metadata": {
      "needs_background": "light",
      "tags": []
     },
     "output_type": "display_data"
    }
   ],
   "source": [
    "import matplotlib.pyplot as plt\n",
    "\n",
    "text_word_count = []\n",
    "summary_word_count = []\n",
    "\n",
    "# populate the lists with sentence lengths\n",
    "for i in data['cleaned_text']:\n",
    "      text_word_count.append(len(i.split()))\n",
    "\n",
    "for i in data['cleaned_summary']:\n",
    "      summary_word_count.append(len(i.split()))\n",
    "\n",
    "length_df = pd.DataFrame({'text':text_word_count, 'summary':summary_word_count})\n",
    "\n",
    "length_df.hist(bins = 30)\n",
    "plt.show()"
   ]
  },
  {
   "cell_type": "markdown",
   "metadata": {
    "id": "QwdSGIhGMEbz"
   },
   "source": [
    "Interesting. We can fix the maximum length of the summary to 8 since that seems to be the majority summary length.\n",
    "\n",
    "Let us understand the proportion of the length of summaries below 8"
   ]
  },
  {
   "cell_type": "code",
   "execution_count": null,
   "metadata": {
    "colab": {
     "base_uri": "https://localhost:8080/"
    },
    "id": "7JRjwdIOFxg3",
    "outputId": "4c23dd9b-1e5e-4603-f9be-e9b16f19604b"
   },
   "outputs": [
    {
     "name": "stdout",
     "output_type": "stream",
     "text": [
      "0.939465924837725\n"
     ]
    }
   ],
   "source": [
    "cnt=0\n",
    "for i in data['cleaned_summary']:\n",
    "    if(len(i.split())<15):\n",
    "        cnt=cnt+1\n",
    "print(cnt/len(data['cleaned_summary']))"
   ]
  },
  {
   "cell_type": "markdown",
   "metadata": {
    "id": "yYB4Ga9KMjEu"
   },
   "source": [
    "We observe that 94% of the summaries have length below 8. So, we can fix maximum length of summary to 8.\n",
    "\n",
    "Let us fix the maximum length of review to 30"
   ]
  },
  {
   "cell_type": "code",
   "execution_count": null,
   "metadata": {
    "id": "ZKD5VOWqFxhC"
   },
   "outputs": [],
   "source": [
    "max_text_len=150\n",
    "max_summary_len=15"
   ]
  },
  {
   "cell_type": "code",
   "execution_count": null,
   "metadata": {
    "id": "VFQ9FTwpzNhb",
    "pycharm": {
     "name": "#%%\n"
    }
   },
   "outputs": [],
   "source": []
  },
  {
   "cell_type": "markdown",
   "metadata": {
    "id": "E6d48E-8M4VO"
   },
   "source": [
    "Let us select the reviews and summaries whose length falls below or equal to **max_text_len** and **max_summary_len**"
   ]
  },
  {
   "cell_type": "code",
   "execution_count": null,
   "metadata": {
    "id": "yY0tEJP0FxhI"
   },
   "outputs": [],
   "source": [
    "cleaned_text =np.array(data['cleaned_text'])\n",
    "cleaned_summary=np.array(data['cleaned_summary'])\n",
    "\n",
    "short_text=[]\n",
    "short_summary=[]\n",
    "\n",
    "for i in range(len(cleaned_text)):\n",
    "    if(len(cleaned_summary[i].split())<=max_summary_len and len(cleaned_text[i].split())<=max_text_len):\n",
    "        short_text.append(cleaned_text[i])\n",
    "        short_summary.append(cleaned_summary[i])\n",
    "        \n",
    "df=pd.DataFrame({\"article\":short_text,\"summary\":short_summary})"
   ]
  },
  {
   "cell_type": "markdown",
   "metadata": {
    "id": "tR1uh8xSNUma"
   },
   "source": [
    "Remember to add the **START** and **END** special tokens at the beginning and end of the summary. Here, I have chosen **sostok** and **eostok** as START and END tokens\n",
    "\n",
    "**Note:** Be sure that the chosen special tokens never appear in the summary"
   ]
  },
  {
   "cell_type": "code",
   "execution_count": null,
   "metadata": {
    "id": "EwLUH78CFxhg"
   },
   "outputs": [],
   "source": [
    "df[\"summary\"] = df[\"summary\"].apply(lambda x : 'sostok '+ x + ' eostok')"
   ]
  },
  {
   "cell_type": "markdown",
   "metadata": {
    "id": "1GlcX4RFOh13"
   },
   "source": [
    "We are getting closer to the model building part. Before that, we need to split our dataset into a training and validation set. We’ll use 90% of the dataset as the training data and evaluate the performance on the remaining 10% (holdout set):"
   ]
  },
  {
   "cell_type": "code",
   "execution_count": null,
   "metadata": {
    "id": "RakakKHcFxhl"
   },
   "outputs": [],
   "source": [
    "from sklearn.model_selection import train_test_split\n",
    "x_tr,x_val,y_tr,y_val=train_test_split(np.array(df[\"article\"]),np.array(df[\"summary\"]),test_size=0.1,random_state=0,shuffle=True)"
   ]
  },
  {
   "cell_type": "markdown",
   "metadata": {
    "id": "Vq1mqyOHOtIl"
   },
   "source": [
    "#Preparing the Tokenizer\n",
    "\n",
    "A tokenizer builds the vocabulary and converts a word sequence to an integer sequence. Go ahead and build tokenizers for text and summary:\n",
    "\n",
    "#Text Tokenizer"
   ]
  },
  {
   "cell_type": "code",
   "execution_count": null,
   "metadata": {
    "id": "oRHTgX6hFxhq"
   },
   "outputs": [],
   "source": [
    "\n",
    "\n",
    "#prepare a tokenizer for reviews on training data\n",
    "x_tokenizer = Tokenizer() \n",
    "x_tokenizer.fit_on_texts(list(x_tr))"
   ]
  },
  {
   "cell_type": "markdown",
   "metadata": {
    "id": "RzvLwYL_PDcx"
   },
   "source": [
    "#Rarewords and its Coverage\n",
    "\n",
    "Let us look at the proportion rare words and its total coverage in the entire text\n",
    "\n",
    "Here, I am defining the threshold to be 4 which means word whose count is below 4 is considered as a rare word"
   ]
  },
  {
   "cell_type": "code",
   "execution_count": null,
   "metadata": {
    "colab": {
     "base_uri": "https://localhost:8080/"
    },
    "id": "y8KronV2Fxhx",
    "outputId": "c75471ce-558c-4e34-8371-7420b42bc8ff"
   },
   "outputs": [
    {
     "name": "stdout",
     "output_type": "stream",
     "text": [
      "% of rare words in vocabulary: 48.19134078212291\n",
      "Total Coverage of rare words: 0.8621581033506487\n"
     ]
    }
   ],
   "source": [
    "thresh=4\n",
    "\n",
    "cnt=0\n",
    "tot_cnt=0\n",
    "freq=0\n",
    "tot_freq=0\n",
    "\n",
    "for key,value in x_tokenizer.word_counts.items():\n",
    "    tot_cnt=tot_cnt+1\n",
    "    tot_freq=tot_freq+value\n",
    "    if(value<thresh):\n",
    "        cnt=cnt+1\n",
    "        freq=freq+value\n",
    "    \n",
    "print(\"% of rare words in vocabulary:\",(cnt/tot_cnt)*100)\n",
    "print(\"Total Coverage of rare words:\",(freq/tot_freq)*100)"
   ]
  },
  {
   "cell_type": "markdown",
   "metadata": {
    "id": "So-J-5kzQIeO"
   },
   "source": [
    "**Remember**:\n",
    "\n",
    "\n",
    "* **tot_cnt** gives the size of vocabulary (which means every unique words in the text)\n",
    " \n",
    "*   **cnt** gives me the no. of rare words whose count falls below threshold\n",
    "\n",
    "*  **tot_cnt - cnt** gives me the top most common words \n",
    "\n",
    "Let us define the tokenizer with top most common words for reviews."
   ]
  },
  {
   "cell_type": "code",
   "execution_count": null,
   "metadata": {
    "id": "J2giEsF3Fxh3"
   },
   "outputs": [],
   "source": [
    "#prepare a tokenizer for reviews on training data\n",
    "x_tokenizer = Tokenizer(num_words=tot_cnt-cnt) \n",
    "x_tokenizer.fit_on_texts(list(x_tr))\n",
    "\n",
    "#convert text sequences into integer sequences\n",
    "x_tr_seq    =   x_tokenizer.texts_to_sequences(x_tr) \n",
    "x_val_seq   =   x_tokenizer.texts_to_sequences(x_val)\n",
    "\n",
    "#padding zero upto maximum length\n",
    "x_tr    =   pad_sequences(x_tr_seq,  maxlen=max_text_len, padding='post')\n",
    "x_val   =   pad_sequences(x_val_seq, maxlen=max_text_len, padding='post')\n",
    "\n",
    "#size of vocabulary ( +1 for padding token)\n",
    "x_voc   =  len(x_tokenizer.word_index) + 1"
   ]
  },
  {
   "cell_type": "code",
   "execution_count": null,
   "metadata": {
    "colab": {
     "base_uri": "https://localhost:8080/"
    },
    "id": "DCbGMsm4FxiA",
    "outputId": "e623b5b6-02c7-4a25-b568-89a68cc5189b"
   },
   "outputs": [
    {
     "data": {
      "text/plain": [
       "42961"
      ]
     },
     "execution_count": 30,
     "metadata": {
      "tags": []
     },
     "output_type": "execute_result"
    }
   ],
   "source": [
    "x_voc"
   ]
  },
  {
   "cell_type": "markdown",
   "metadata": {
    "id": "uQfKP3sqRxi9"
   },
   "source": [
    "#Summary Tokenizer"
   ]
  },
  {
   "cell_type": "code",
   "execution_count": null,
   "metadata": {
    "id": "eRHqyBkBFxiJ"
   },
   "outputs": [],
   "source": [
    "#prepare a tokenizer for reviews on training data\n",
    "y_tokenizer = Tokenizer()   \n",
    "y_tokenizer.fit_on_texts(list(y_tr))"
   ]
  },
  {
   "cell_type": "markdown",
   "metadata": {
    "id": "KInA6O6ZSkJz"
   },
   "source": [
    "#Rarewords and its Coverage\n",
    "\n",
    "Let us look at the proportion rare words and its total coverage in the entire summary\n",
    "\n",
    "Here, I am defining the threshold to be 6 which means word whose count is below 6 is considered as a rare word"
   ]
  },
  {
   "cell_type": "code",
   "execution_count": null,
   "metadata": {
    "colab": {
     "base_uri": "https://localhost:8080/"
    },
    "id": "yzE5OiRLFxiM",
    "outputId": "33903069-aca3-433a-e62c-7b91ec823403"
   },
   "outputs": [
    {
     "name": "stdout",
     "output_type": "stream",
     "text": [
      "% of rare words in vocabulary: 66.45307199396909\n",
      "Total Coverage of rare words: 3.3309283114314208\n"
     ]
    }
   ],
   "source": [
    "thresh=6\n",
    "\n",
    "cnt=0\n",
    "tot_cnt=0\n",
    "freq=0\n",
    "tot_freq=0\n",
    "\n",
    "for key,value in y_tokenizer.word_counts.items():\n",
    "    tot_cnt=tot_cnt+1\n",
    "    tot_freq=tot_freq+value\n",
    "    if(value<thresh):\n",
    "        cnt=cnt+1\n",
    "        freq=freq+value\n",
    "    \n",
    "print(\"% of rare words in vocabulary:\",(cnt/tot_cnt)*100)\n",
    "print(\"Total Coverage of rare words:\",(freq/tot_freq)*100)"
   ]
  },
  {
   "cell_type": "markdown",
   "metadata": {
    "id": "0PBhzKuRSw_9"
   },
   "source": [
    "Let us define the tokenizer with top most common words for summary."
   ]
  },
  {
   "cell_type": "code",
   "execution_count": null,
   "metadata": {
    "id": "-fswLvIgFxiR"
   },
   "outputs": [],
   "source": [
    "#prepare a tokenizer for reviews on training data\n",
    "y_tokenizer = Tokenizer(num_words=tot_cnt-cnt) \n",
    "y_tokenizer.fit_on_texts(list(y_tr))\n",
    "\n",
    "#convert text sequences into integer sequences\n",
    "y_tr_seq    =   y_tokenizer.texts_to_sequences(y_tr) \n",
    "y_val_seq   =   y_tokenizer.texts_to_sequences(y_val) \n",
    "\n",
    "#padding zero upto maximum length\n",
    "y_tr    =   pad_sequences(y_tr_seq, maxlen=max_summary_len, padding='post')\n",
    "y_val   =   pad_sequences(y_val_seq, maxlen=max_summary_len, padding='post')\n",
    "\n",
    "#size of vocabulary\n",
    "y_voc  =   len(y_tokenizer.word_index) +1"
   ]
  },
  {
   "cell_type": "markdown",
   "metadata": {
    "id": "qqwDUT5oTFmn"
   },
   "source": [
    "Let us check whether word count of start token is equal to length of the training data"
   ]
  },
  {
   "cell_type": "code",
   "execution_count": null,
   "metadata": {
    "colab": {
     "base_uri": "https://localhost:8080/"
    },
    "id": "pR8IX9FRFxiY",
    "outputId": "e039f087-8b70-48d1-ec83-8a3925687b8e"
   },
   "outputs": [
    {
     "data": {
      "text/plain": [
       "(81478, 81478)"
      ]
     },
     "execution_count": 34,
     "metadata": {
      "tags": []
     },
     "output_type": "execute_result"
    }
   ],
   "source": [
    "y_tokenizer.word_counts['sostok'],len(y_tr)   "
   ]
  },
  {
   "cell_type": "markdown",
   "metadata": {
    "id": "LVFhFVguTTtw"
   },
   "source": [
    "Here, I am deleting the rows that contain only **START** and **END** tokens"
   ]
  },
  {
   "cell_type": "code",
   "execution_count": null,
   "metadata": {
    "id": "kZ-vW82sFxih"
   },
   "outputs": [],
   "source": [
    "ind=[]\n",
    "for i in range(len(y_tr)):\n",
    "    cnt=0\n",
    "    for j in y_tr[i]:\n",
    "        if j!=0:\n",
    "            cnt=cnt+1\n",
    "    if(cnt==2):\n",
    "        ind.append(i)\n",
    "\n",
    "y_tr=np.delete(y_tr,ind, axis=0)\n",
    "x_tr=np.delete(x_tr,ind, axis=0)"
   ]
  },
  {
   "cell_type": "code",
   "execution_count": null,
   "metadata": {
    "id": "cx5NISuMFxik"
   },
   "outputs": [],
   "source": [
    "ind=[]\n",
    "for i in range(len(y_val)):\n",
    "    cnt=0\n",
    "    for j in y_val[i]:\n",
    "        if j!=0:\n",
    "            cnt=cnt+1\n",
    "    if(cnt==2):\n",
    "        ind.append(i)\n",
    "\n",
    "y_val=np.delete(y_val,ind, axis=0)\n",
    "x_val=np.delete(x_val,ind, axis=0)"
   ]
  },
  {
   "cell_type": "markdown",
   "metadata": {
    "id": "wOtlDcthFxip"
   },
   "source": [
    "# Model building\n",
    "\n",
    "We are finally at the model building part. But before we do that, we need to familiarize ourselves with a few terms which are required prior to building the model.\n",
    "\n",
    "**Return Sequences = True**: When the return sequences parameter is set to True, LSTM produces the hidden state and cell state for every timestep\n",
    "\n",
    "**Return State = True**: When return state = True, LSTM produces the hidden state and cell state of the last timestep only\n",
    "\n",
    "**Initial State**: This is used to initialize the internal states of the LSTM for the first timestep\n",
    "\n",
    "**Stacked LSTM**: Stacked LSTM has multiple layers of LSTM stacked on top of each other. \n",
    "This leads to a better representation of the sequence. I encourage you to experiment with the multiple layers of the LSTM stacked on top of each other (it’s a great way to learn this)\n",
    "\n",
    "Here, we are building a 3 stacked LSTM for the encoder:"
   ]
  },
  {
   "cell_type": "code",
   "execution_count": null,
   "metadata": {
    "id": "zXef38nBFxir"
   },
   "outputs": [],
   "source": [
    "latent_dim = 500\n",
    "embedding_dim=300"
   ]
  },
  {
   "cell_type": "code",
   "execution_count": null,
   "metadata": {
    "id": "iMc8uCd6eI8m",
    "pycharm": {
     "name": "#%%\n"
    }
   },
   "outputs": [],
   "source": [
    "# Preparing GloVe\n",
    "embeddings_index = {}\n",
    "try:\n",
    "  f = open(glove_dir,encoding=\"utf8\")\n",
    "except FileNotFoundError:\n",
    "  f = open(os.path.join(base_dir,glove_dir),encoding=\"utf8\")\n",
    "for line in f:\n",
    "    values = line.split()\n",
    "    word = values[0]\n",
    "    coefs = np.asarray(values[1:], dtype='float32')\n",
    "    embeddings_index[word] = coefs\n",
    "f.close()"
   ]
  },
  {
   "cell_type": "code",
   "execution_count": null,
   "metadata": {
    "id": "vFGsNInPeI8u",
    "pycharm": {
     "name": "#%%\n"
    }
   },
   "outputs": [],
   "source": [
    "embedding_matrix = np.zeros((x_voc, embedding_dim),dtype='float32')\n",
    "for word,i in x_tokenizer.word_index.items():\n",
    "    embedding_vector = embeddings_index.get(word)\n",
    "    if embedding_vector is not None:\n",
    "    # Words not found in glove will be zeros\n",
    "        embedding_matrix[i] = embedding_vector"
   ]
  },
  {
   "cell_type": "code",
   "execution_count": null,
   "metadata": {
    "colab": {
     "base_uri": "https://localhost:8080/"
    },
    "id": "89j9m2STeI8z",
    "outputId": "d5037c66-f83f-417c-dcf5-43d88b0425b2",
    "pycharm": {
     "name": "#%%\n"
    }
   },
   "outputs": [
    {
     "name": "stdout",
     "output_type": "stream",
     "text": [
      "WARNING:tensorflow:From /tensorflow-1.15.2/python3.6/tensorflow_core/python/keras/initializers.py:119: calling RandomUniform.__init__ (from tensorflow.python.ops.init_ops) with dtype is deprecated and will be removed in a future version.\n",
      "Instructions for updating:\n",
      "Call initializer instance with the dtype argument instead of passing it to the constructor\n",
      "WARNING:tensorflow:From /tensorflow-1.15.2/python3.6/tensorflow_core/python/ops/resource_variable_ops.py:1630: calling BaseResourceVariable.__init__ (from tensorflow.python.ops.resource_variable_ops) with constraint is deprecated and will be removed in a future version.\n",
      "Instructions for updating:\n",
      "If using Keras pass *_constraint arguments to layers.\n",
      "WARNING:tensorflow:Entity <bound method AttentionLayer.call of <__main__.AttentionLayer object at 0x7f45a8560160>> could not be transformed and will be executed as-is. Please report this to the AutoGraph team. When filing the bug, set the verbosity to 10 (on Linux, `export AUTOGRAPH_VERBOSITY=10`) and attach the full output. Cause: module 'gast' has no attribute 'Num'\n",
      "WARNING: Entity <bound method AttentionLayer.call of <__main__.AttentionLayer object at 0x7f45a8560160>> could not be transformed and will be executed as-is. Please report this to the AutoGraph team. When filing the bug, set the verbosity to 10 (on Linux, `export AUTOGRAPH_VERBOSITY=10`) and attach the full output. Cause: module 'gast' has no attribute 'Num'\n",
      "Model: \"model\"\n",
      "__________________________________________________________________________________________________\n",
      "Layer (type)                    Output Shape         Param #     Connected to                     \n",
      "==================================================================================================\n",
      "input_1 (InputLayer)            [(None, 150)]        0                                            \n",
      "__________________________________________________________________________________________________\n",
      "embedding_layer (Embedding)     (None, 150, 300)     12888300    input_1[0][0]                    \n",
      "__________________________________________________________________________________________________\n",
      "lstm (LSTM)                     [(None, 150, 500), ( 1602000     embedding_layer[0][0]            \n",
      "__________________________________________________________________________________________________\n",
      "input_2 (InputLayer)            [(None, None)]       0                                            \n",
      "__________________________________________________________________________________________________\n",
      "lstm_1 (LSTM)                   [(None, 150, 500), ( 2002000     lstm[0][0]                       \n",
      "__________________________________________________________________________________________________\n",
      "embedding (Embedding)           (None, None, 300)    4775700     input_2[0][0]                    \n",
      "__________________________________________________________________________________________________\n",
      "lstm_2 (LSTM)                   [(None, 150, 500), ( 2002000     lstm_1[0][0]                     \n",
      "__________________________________________________________________________________________________\n",
      "lstm_3 (LSTM)                   [(None, None, 500),  1602000     embedding[0][0]                  \n",
      "                                                                 lstm_2[0][1]                     \n",
      "                                                                 lstm_2[0][2]                     \n",
      "__________________________________________________________________________________________________\n",
      "attention_layer (AttentionLayer ((None, None, 500),  500500      lstm_2[0][0]                     \n",
      "                                                                 lstm_3[0][0]                     \n",
      "__________________________________________________________________________________________________\n",
      "concat_layer (Concatenate)      (None, None, 1000)   0           lstm_3[0][0]                     \n",
      "                                                                 attention_layer[0][0]            \n",
      "__________________________________________________________________________________________________\n",
      "time_distributed (TimeDistribut (None, None, 15919)  15934919    concat_layer[0][0]               \n",
      "==================================================================================================\n",
      "Total params: 41,307,419\n",
      "Trainable params: 28,419,119\n",
      "Non-trainable params: 12,888,300\n",
      "__________________________________________________________________________________________________\n"
     ]
    }
   ],
   "source": [
    "from keras import backend as K \n",
    "K.clear_session()\n",
    "\n",
    "\n",
    "# Encoder\n",
    "encoder_inputs = Input(shape=(max_text_len,))\n",
    "\n",
    "#embedding layer\n",
    "enc_emb =  Embedding(x_voc, embedding_dim,weights=[embedding_matrix],\n",
    "input_length=max_text_len, trainable=False,  name='embedding_layer')(encoder_inputs)\n",
    "\n",
    "#encoder lstm 1\n",
    "encoder_lstm1 = LSTM(latent_dim,return_sequences=True,return_state=True,dropout=0.4,recurrent_dropout=0.4)\n",
    "encoder_output1, state_h1, state_c1 = encoder_lstm1(enc_emb)\n",
    "\n",
    "#encoder lstm 2\n",
    "encoder_lstm2 = LSTM(latent_dim,return_sequences=True,return_state=True,dropout=0.4,recurrent_dropout=0.4)\n",
    "encoder_output2, state_h2, state_c2 = encoder_lstm2(encoder_output1)\n",
    "\n",
    "#encoder lstm 3\n",
    "encoder_lstm3=LSTM(latent_dim, return_state=True, return_sequences=True,dropout=0.4,recurrent_dropout=0.4)\n",
    "encoder_outputs, state_h, state_c= encoder_lstm3(encoder_output2)\n",
    "\n",
    "# Set up the decoder, using `encoder_states` as initial state.\n",
    "decoder_inputs = Input(shape=(None,))\n",
    "\n",
    "#embedding layer\n",
    "dec_emb_layer = Embedding(y_voc, embedding_dim,trainable=True)\n",
    "dec_emb = dec_emb_layer(decoder_inputs)\n",
    "\n",
    "decoder_lstm = LSTM(latent_dim, return_sequences=True, return_state=True,dropout=0.4,recurrent_dropout=0.2)\n",
    "decoder_outputs,decoder_fwd_state, decoder_back_state = decoder_lstm(dec_emb,initial_state=[state_h, state_c])\n",
    "\n",
    "# Attention layer\n",
    "attn_layer = AttentionLayer(name='attention_layer')\n",
    "attn_out, attn_states = attn_layer([encoder_outputs, decoder_outputs])\n",
    "\n",
    "# Concat attention input and decoder LSTM output\n",
    "decoder_concat_input = Concatenate(axis=-1, name='concat_layer')([decoder_outputs, attn_out])\n",
    "\n",
    "#dense layer\n",
    "decoder_dense =  TimeDistributed(Dense(y_voc, activation='softmax'))\n",
    "decoder_outputs = decoder_dense(decoder_concat_input)\n",
    "\n",
    "# Define the model \n",
    "model = Model([encoder_inputs, decoder_inputs], decoder_outputs)\n",
    "\n",
    "model.summary() "
   ]
  },
  {
   "cell_type": "markdown",
   "metadata": {
    "id": "0ZVlfRuMUcoP"
   },
   "source": [
    "I am using sparse categorical cross-entropy as the loss function since it converts the integer sequence to a one-hot vector on the fly. This overcomes any memory issues."
   ]
  },
  {
   "cell_type": "code",
   "execution_count": null,
   "metadata": {
    "colab": {
     "base_uri": "https://localhost:8080/",
     "height": 856
    },
    "id": "N3kQOsqgLaQv",
    "outputId": "8e38975c-8547-4abe-9c23-abb29ac9eb94"
   },
   "outputs": [
    {
     "data": {
      "image/png": "[encoded data removed]",
      "text/plain": [
       "<IPython.core.display.Image object>"
      ]
     },
     "execution_count": 41,
     "metadata": {
      "tags": []
     },
     "output_type": "execute_result"
    }
   ],
   "source": [
    "plot_model(model,os.path.join(base_dir,\"plot_model.png\"))"
   ]
  },
  {
   "cell_type": "code",
   "execution_count": null,
   "metadata": {
    "id": "uj9We527eI86",
    "pycharm": {
     "name": "#%%\n"
    }
   },
   "outputs": [],
   "source": [
    "model.compile(optimizer='RMSProp', loss='sparse_categorical_crossentropy')"
   ]
  },
  {
   "cell_type": "markdown",
   "metadata": {
    "id": "p0ykDbxfUhyw"
   },
   "source": [
    "Remember the concept of early stopping? It is used to stop training the neural network at the right time by monitoring a user-specified metric. Here, I am monitoring the validation loss (val_loss). Our model will stop training once the validation loss increases:\n"
   ]
  },
  {
   "cell_type": "code",
   "execution_count": null,
   "metadata": {
    "id": "s-A3J92MUljB"
   },
   "outputs": [],
   "source": [
    "#if os.path.exists(os.path.join(base_dir,\"x_tokenizer.json\")):\n",
    "#  with open(os.path.join(base_dir,\"x_tokenizer.json\")) as fx:\n",
    "#      data = json.load(fx)\n",
    "#      x_tokenizer_json = tokenizer_from_json(data)\n",
    "#  print(\"Loaded Tokenizer X\")\n",
    "#else:\n",
    "x_tokenizer_json = x_tokenizer.to_json()\n",
    "with io.open(os.path.join(base_dir,\"x_tokenizer.json\"), 'w', encoding='utf-8') as fx:\n",
    "    fx.write(json.dumps(x_tokenizer_json, ensure_ascii=False))\n",
    "\n",
    "#if os.path.exists(os.path.join(base_dir,\"y_tokenizer.json\")):\n",
    "#  with open(os.path.join(base_dir,\"y_tokenizer.json\")) as fy:\n",
    "#      data = json.load(fy)\n",
    "#      y_tokenizer_json = tokenizer_from_json(data)\n",
    "#  print(\"Loaded Tokenizer Y\")\n",
    "#else:\n",
    "y_tokenizer_json = y_tokenizer.to_json()\n",
    "with io.open(os.path.join(base_dir,\"y_tokenizer.json\"), 'w', encoding='utf-8') as fy:\n",
    "    fy.write(json.dumps(y_tokenizer_json, ensure_ascii=False))"
   ]
  },
  {
   "cell_type": "code",
   "execution_count": null,
   "metadata": {
    "id": "y-w3r13ReI9F",
    "pycharm": {
     "name": "#%%\n"
    }
   },
   "outputs": [],
   "source": [
    "es = EarlyStopping(monitor='val_loss', mode='min', verbose=VERBOSE,patience=3)\n",
    "\n",
    "ckp_path=os.path.join(base_dir,\"Checkpoints\")\n",
    "if not os.path.exists(ckp_path):\n",
    "  os.mkdir(ckp_path)\n",
    "ckp = ModelCheckpoint((os.path.join(ckp_path, \"weight.{epoch:02d}-{loss:.3f}-{val_loss:.3f}.h5\")))"
   ]
  },
  {
   "cell_type": "markdown",
   "metadata": {
    "id": "Mw6CVECaUq5b"
   },
   "source": [
    "We’ll train the model on a batch size of 128 and validate it on the holdout set (which is 10% of our dataset):"
   ]
  },
  {
   "cell_type": "code",
   "execution_count": null,
   "metadata": {
    "id": "ETnPzA4OFxi3"
   },
   "outputs": [],
   "source": [
    "if PRETRAINED_WEIGHT_NAME!=\"\" and os.path.exists(os.path.join(base_dir,PRETRAINED_WEIGHT_NAME)):\n",
    "    model=load_model(os.path.join(base_dir,PRETRAINED_WEIGHT_NAME))\n",
    "    print(\"Load pretrained model\")"
   ]
  },
  {
   "cell_type": "code",
   "execution_count": null,
   "metadata": {
    "colab": {
     "base_uri": "https://localhost:8080/"
    },
    "id": "r4ZTMZJjeI9O",
    "outputId": "a8bacea8-dce7-4dc3-8f87-2219f2bc44ed",
    "pycharm": {
     "name": "#%%\n"
    }
   },
   "outputs": [
    {
     "name": "stdout",
     "output_type": "stream",
     "text": [
      "WARNING:tensorflow:From /tensorflow-1.15.2/python3.6/tensorflow_core/python/ops/math_grad.py:1424: where (from tensorflow.python.ops.array_ops) is deprecated and will be removed in a future version.\n",
      "Instructions for updating:\n",
      "Use tf.where in 2.0, which has the same broadcast rule as np.where\n",
      "Train on 81403 samples, validate on 9039 samples\n",
      "Epoch 1/20\n",
      "81403/81403 [==============================] - 2196s 27ms/sample - loss: 2.3044 - val_loss: 2.0829\n",
      "Epoch 2/20\n",
      "81403/81403 [==============================] - 2193s 27ms/sample - loss: 2.0535 - val_loss: 1.9664\n",
      "Epoch 3/20\n",
      "81403/81403 [==============================] - 2159s 27ms/sample - loss: 1.9575 - val_loss: 1.9094\n",
      "Epoch 4/20\n",
      "81403/81403 [==============================] - 2176s 27ms/sample - loss: 1.9049 - val_loss: 1.8754\n",
      "Epoch 5/20\n",
      "81403/81403 [==============================] - 2165s 27ms/sample - loss: 1.8716 - val_loss: 1.8553\n",
      "Epoch 6/20\n",
      "81403/81403 [==============================] - 2135s 26ms/sample - loss: 1.8501 - val_loss: 1.8417\n",
      "Epoch 7/20\n",
      "81403/81403 [==============================] - 2143s 26ms/sample - loss: 1.8352 - val_loss: 1.8358\n",
      "Epoch 8/20\n",
      "81403/81403 [==============================] - 2168s 27ms/sample - loss: 1.8220 - val_loss: 1.8326\n",
      "Epoch 9/20\n",
      "81403/81403 [==============================] - 2196s 27ms/sample - loss: 1.8029 - val_loss: 1.8057\n",
      "Epoch 10/20\n",
      "81403/81403 [==============================] - 2192s 27ms/sample - loss: 1.7881 - val_loss: 1.8049\n",
      "Epoch 11/20\n",
      "81403/81403 [==============================] - 2185s 27ms/sample - loss: 1.7702 - val_loss: 1.8039\n",
      "Epoch 12/20\n",
      "81403/81403 [==============================] - 2138s 26ms/sample - loss: 1.7674 - val_loss: 1.8042\n",
      "Epoch 13/20\n",
      "81403/81403 [==============================] - 2141s 26ms/sample - loss: 1.7662 - val_loss: 1.7902\n",
      "Epoch 14/20\n",
      "81403/81403 [==============================] - 2200s 27ms/sample - loss: 1.7559 - val_loss: 1.8022\n",
      "Epoch 15/20\n",
      "81403/81403 [==============================] - 2179s 27ms/sample - loss: 1.7454 - val_loss: 1.8017\n",
      "Epoch 16/20\n",
      "78240/81403 [===========================>..] - ETA: 1:23 - loss: 1.7389"
     ]
    }
   ],
   "source": [
    "history=model.fit([x_tr,y_tr[:,:-1]], y_tr.reshape(y_tr.shape[0],y_tr.shape[1], 1)[:,1:] ,\n",
    "                  verbose=VERBOSE,epochs=EPOCH,\n",
    "                  callbacks=[es,ckp],\n",
    "                  batch_size=BATCHSIZE,\n",
    "                  validation_data=([x_val,y_val[:,:-1]], y_val.reshape(y_val.shape[0],y_val.shape[1], 1)[:,1:]))"
   ]
  },
  {
   "cell_type": "markdown",
   "metadata": {
    "id": "0ezKYOp2UxG5"
   },
   "source": [
    "#Understanding the Diagnostic plot\n",
    "\n",
    "Now, we will plot a few diagnostic plots to understand the behavior of the model over time:"
   ]
  },
  {
   "cell_type": "code",
   "execution_count": null,
   "metadata": {
    "id": "tDTNLAURFxjE"
   },
   "outputs": [],
   "source": [
    "try:\n",
    "    pyplot.plot(history.history['loss'], label='train')\n",
    "    pyplot.plot(history.history['val_loss'], label='test')\n",
    "    pyplot.legend()\n",
    "    pyplot.show()\n",
    "except NameError:\n",
    "    print(\"Did not finish training\")"
   ]
  },
  {
   "cell_type": "code",
   "execution_count": null,
   "metadata": {
    "id": "oRlpr8r_9SzD"
   },
   "outputs": [],
   "source": [
    "save_model(model,os.path.join(base_dir,\"trained.h5\"))"
   ]
  },
  {
   "cell_type": "code",
   "execution_count": null,
   "metadata": {
    "id": "sBX0zZnOFxjW"
   },
   "outputs": [],
   "source": [
    "reverse_target_word_index=y_tokenizer.index_word\n",
    "reverse_source_word_index=x_tokenizer.index_word\n",
    "target_word_index=y_tokenizer.word_index"
   ]
  },
  {
   "cell_type": "markdown",
   "metadata": {
    "id": "eM_nU_VvFxjq"
   },
   "source": [
    "# Inference\n",
    "\n",
    "Set up the inference for the encoder and decoder:"
   ]
  },
  {
   "cell_type": "code",
   "execution_count": null,
   "metadata": {
    "id": "9QkrNV-4Fxjt"
   },
   "outputs": [],
   "source": [
    "# Encode the input sequence to get the feature vector\n",
    "encoder_model = Model(inputs=encoder_inputs,outputs=[encoder_outputs, state_h, state_c])\n",
    "\n",
    "# Decoder setup\n",
    "# Below tensors will hold the states of the previous time step\n",
    "decoder_state_input_h = Input(shape=(latent_dim,))\n",
    "decoder_state_input_c = Input(shape=(latent_dim,))\n",
    "decoder_hidden_state_input = Input(shape=(max_text_len,latent_dim))\n",
    "\n",
    "# Get the embeddings of the decoder sequence\n",
    "dec_emb2= dec_emb_layer(decoder_inputs) \n",
    "# To predict the next word in the sequence, set the initial states to the states from the previous time step\n",
    "decoder_outputs2, state_h2, state_c2 = decoder_lstm(dec_emb2, initial_state=[decoder_state_input_h, decoder_state_input_c])\n",
    "\n",
    "#attention inference\n",
    "attn_out_inf, attn_states_inf = attn_layer([decoder_hidden_state_input, decoder_outputs2])\n",
    "decoder_inf_concat = Concatenate(axis=-1, name='concat')([decoder_outputs2, attn_out_inf])\n",
    "\n",
    "# A dense softmax layer to generate prob dist. over the target vocabulary\n",
    "decoder_outputs2 = decoder_dense(decoder_inf_concat) \n",
    "\n",
    "# Final decoder model\n",
    "decoder_model = Model(\n",
    "    [decoder_inputs] + [decoder_hidden_state_input,decoder_state_input_h, decoder_state_input_c],\n",
    "    [decoder_outputs2] + [state_h2, state_c2])"
   ]
  },
  {
   "cell_type": "markdown",
   "metadata": {
    "id": "zOiyk4ToWe74"
   },
   "source": [
    "We are defining a function below which is the implementation of the inference process (which we covered [here](https://www.analyticsvidhya.com/blog/2019/06/comprehensive-guide-text-summarization-using-deep-learning-python/)):\n"
   ]
  },
  {
   "cell_type": "code",
   "execution_count": null,
   "metadata": {
    "id": "4bvpGCFYeI9v",
    "pycharm": {
     "name": "#%%\n"
    }
   },
   "outputs": [],
   "source": [
    "def decode_sequence(input_seq):\n",
    "    # Encode the input as state vectors.\n",
    "    e_out, e_h, e_c = encoder_model.predict(input_seq)\n",
    "    \n",
    "    # Generate empty target sequence of length 1.\n",
    "    target_seq = np.zeros((1,1))\n",
    "    \n",
    "    # Populate the first word of target sequence with the start word.\n",
    "    target_seq[0, 0] = target_word_index['sostok']\n",
    "\n",
    "    stop_condition = False\n",
    "    decoded_sentence = ''\n",
    "    while not stop_condition:\n",
    "      \n",
    "        output_tokens, h, c = decoder_model.predict([target_seq] + [e_out, e_h, e_c])\n",
    "\n",
    "        # Sample a token\n",
    "        sampled_token_index = np.argmax(output_tokens[0, -1, :])\n",
    "        sampled_token = reverse_target_word_index[sampled_token_index]\n",
    "        \n",
    "        if(sampled_token!='eostok'):\n",
    "            decoded_sentence += ' '+sampled_token\n",
    "\n",
    "        # Exit condition: either hit max length or find stop word.\n",
    "        if (sampled_token == 'eostok'  or len(decoded_sentence.split()) >= (max_summary_len-1)):\n",
    "            stop_condition = True\n",
    "\n",
    "        # Update the target sequence (of length 1).\n",
    "        target_seq = np.zeros((1,1))\n",
    "        target_seq[0, 0] = sampled_token_index\n",
    "\n",
    "        # Update internal states\n",
    "        e_h, e_c = h, c\n",
    "\n",
    "    return decoded_sentence"
   ]
  },
  {
   "cell_type": "code",
   "execution_count": null,
   "metadata": {
    "id": "LoBwXoLP9wTr"
   },
   "outputs": [],
   "source": [
    "save_model(encoder_model,os.path.join(base_dir,\"encoder_model.h5\")) \n",
    "save_model(decoder_model,os.path.join(base_dir,\"decoder_model.h5\"))"
   ]
  },
  {
   "cell_type": "markdown",
   "metadata": {
    "id": "X1eds1DzeI91",
    "pycharm": {
     "name": "#%% md\n"
    }
   },
   "source": [
    "Let us define the functions to convert an integer sequence to a word sequence for summary as well as the reviews:"
   ]
  },
  {
   "cell_type": "code",
   "execution_count": null,
   "metadata": {
    "id": "aAUntznIFxj9"
   },
   "outputs": [],
   "source": [
    "def seq2summary(input_seq):\n",
    "    newString=''\n",
    "    for i in input_seq:\n",
    "        if((i!=0 and i!=target_word_index['sostok']) and i!=target_word_index['eostok']):\n",
    "            newString=newString+reverse_target_word_index[i]+' '\n",
    "    return newString\n",
    "\n",
    "def seq2text(input_seq):\n",
    "    newString=''\n",
    "    for i in input_seq:\n",
    "        if(i!=0):\n",
    "            newString=newString+reverse_source_word_index[i]+' '\n",
    "    return newString"
   ]
  },
  {
   "cell_type": "markdown",
   "metadata": {
    "id": "9gM4ALyfWwA9"
   },
   "source": [
    "Here are a few summaries generated by the model:"
   ]
  },
  {
   "cell_type": "code",
   "execution_count": null,
   "metadata": {
    "colab": {
     "base_uri": "https://localhost:8080/"
    },
    "id": "BUtQmQTmFxkI",
    "outputId": "edc23ac5-7ded-43a8-c129-bab52686c094"
   },
   "outputs": [
    {
     "name": "stdout",
     "output_type": "stream",
     "text": [
      "Review: sick important get nutrients body needs heal good food full vitamins minerals also boosts immune system help fight cold make sure getting enough vitamin complex vitamin zinc copper take supplements make sure get enough vitamins minerals \n",
      "Original summary: eat healthy diet \n",
      "Predicted summary:  eat healthy diet\n",
      "\n",
      "\n",
      "Review: stop go movement involves change speed effectiveness used many situations ball aside protecting defender seem calmed give step two back explode speed sudden overtake defender \n",
      "Original summary: stop and go \n",
      "Predicted summary:  practice the ball\n",
      "\n",
      "\n",
      "Review: begin applying small amount add needed complete cover cold sore \n",
      "Original summary: disposable makeup sponge to apply the yellow based concealer directly to the cold sore \n",
      "Predicted summary:  apply ice to the area\n",
      "\n",
      "\n",
      "Review: bible contain special instructions disposal though word god considered christians holy eternal physical document contains word acknowledged neither still long history billions rich spiritual tradition important show bible respect due even christian virtually reasonable method bible disposal appropriate long done virtuous intentions careful respect show respect may want recite prayer hold special meaning dispose bible though means required never destroy bible method deliberately though inherently sinful treat object paper ink disrespect sinful deliberately god \n",
      "Original summary: show respect to the bible \n",
      "Predicted summary:  read the bible\n",
      "\n",
      "\n",
      "Review: initiate civil lawsuit filing complaint complaint lays facts surrounding assault also asks court compensation want lawyer lawyer draft complaint lawyer responsible creating complaint check court clerk blank complaint form use michigan fill blank complaint form available http courts gov administration forms pdf court fill blank form need type try find example online searching assault battery complaint state use sample complaint template create \n",
      "Original summary: draft complaint \n",
      "Predicted summary:  search for evidence\n",
      "\n",
      "\n",
      "Review: water bladder included hydration pack probably opening screws open closed fill water hydration packs feature bladders slide shut need clipped closed screw topped bladders cleaning difficult especially compared ease cleaning water bottle even water bladder average opening screw top water bladder hydration packs three inches diameter bladders clip slide closed often turn completely inside easily clean use electrolyte sugar mixes water tube pack need cleaned frequently one use pure water eventually every hydration pack need emptied cleaned completely \n",
      "Original summary: take into account the ease of cleaning \n",
      "Predicted summary:  fill the water with water\n",
      "\n",
      "\n",
      "Review: take advantage free hour day self care focus needs wants may practice emotional self care writing thoughts journal meditation manage stress levels may also physical self care like fitness class going relaxing walk may also try professional self care set comfortable work station office home may also use hour day break work relaxing activity \n",
      "Original summary: do self care \n",
      "Predicted summary:  practice self care\n",
      "\n",
      "\n",
      "Review: cream used relief inflamed itchy skin acts stabilizing leukotriene membranes prevent release acid apply cream every hours keep skin feeling itchy \n",
      "Original summary: use hydrocortisone cream \n",
      "Predicted summary:  apply cream\n",
      "\n",
      "\n",
      "Review: secret high intensity interval training limited rests exercises set exercises brief rest also brief dramatically shorten workout especially accustomed two three sets minutes resting five six minutes exercises even hiit still shorten workout decreasing rest period sets also use technique combine several methods example might alternating sets cardio interval moderate intensity sets \n",
      "Original summary: rest no longer than seconds between intervals \n",
      "Predicted summary:  repeat the exercise\n",
      "\n",
      "\n",
      "Review: ask close friends family see personality compare say feel personality match likely display traits consistently several people close different views personality examine beliefs \n",
      "Original summary: get feedback \n",
      "Predicted summary:  talk to someone about your concerns\n",
      "\n",
      "\n",
      "Review: itching may caused exposure allergens skin irritants suspect skin itchiness response irritant limit exposure common causes allergic reaction skin nickel jewelry perfume skin products fragrances cleaning products cosmetics itchiness seems occur response particular product cease use scented laundry detergents known cause skin itchiness try buy natural detergents contain added scents use mild unscented soaps conditioners lotions possible \n",
      "Original summary: avoid any known irritants \n",
      "Predicted summary:  avoid irritants\n",
      "\n",
      "\n",
      "Review: remove difficult digest foods diet necessarily last forever good idea least days give digestion opportunity relax little bit foods vary person person simple process figure surefire foods need go include dairy gluten wheat processed foods coffee smoking refined sugar elimination diet feel immediate results \n",
      "Original summary: eliminate foods on trial basis \n",
      "Predicted summary:  eat foods that are easy to eat\n",
      "\n",
      "\n",
      "Review: lice may respond home treatments might need try medicated shampoos lice infestation respond home remedies may able find medicated shampoo local supermarket drug store usually labeled lice killing shampoo shampoo requires doctor prescription might difficult see doctor without parents finding lice try biking local drug store telling parents going bike ride use allowance purchase shampoo hide shampoo consider putting empty container regular shampoo \n",
      "Original summary: purchase over the counter medicated shampoos \n",
      "Predicted summary:  talk to your doctor about your skin\n",
      "\n",
      "\n",
      "Review: dull painful ache gets worse movement exercise may indicate hernia rather groin injury another sign hernia includes bulge lower abdomen area upper groin region hernia occurs weakened part muscle tissue along abdominal wall allows part intestine push hernia requires medical attention \n",
      "Original summary: seek medical attention if you have dull \n",
      "Predicted summary:  recognize that you can be caused by pain\n",
      "\n",
      "\n",
      "Review: stress infertility lead problems relationship open honest loving conversations partner loved one help keep relationship strong also help effectively cope infertility remember partner always page finding compromise honest conversation help navigate problems arise example say know really want baby fertility treatments really hard need figure long going continue consider intimacy conversations enjoying sensual talk partner help deal struggle \n",
      "Original summary: talk to your partner \n",
      "Predicted summary:  talk to someone about your concerns\n",
      "\n",
      "\n",
      "Review: tend sleep back slide pillow knees alleviate lower back tension pain put less pressure lower back use thin pillow slide knees lay back extra comfort also slide rolled blanket towel knees spare pillow \n",
      "Original summary: slide pillow under your knees \n",
      "Predicted summary:  elevate your head\n",
      "\n",
      "\n",
      "Review: worried may valley fever good idea make appointment medical professional able monitor disease ensure case worsen advance disseminated form make sure provide thorough history travels activities doctor include comprehensive list possible infections appropriate treatment monitoring seeing doctor beneficial public health helping researchers track scope severity disease also inform whether valley fever expect immune future \n",
      "Original summary: go to the doctor \n",
      "Predicted summary:  see your doctor\n",
      "\n",
      "\n",
      "Review: take bottom cushions flip give firmer cleaner surface sleep brush crumbs find back cushions couch detachable remove give space move comfortably sleep line back cushions floor along couch soft surface land roll sleeping couch made slippery material leather make sure pad floor something \n",
      "Original summary: rearrange the \n",
      "Predicted summary:  bring pillow under your head\n",
      "\n",
      "\n",
      "Review: find someone makes feel welcome ease bad counseling experience put whole idea years could deprive valuable therapy remember mental health professionals alike find one like stick therapists generally prompt speak careful questions listen say nerve wracking first open counselor people find hard stop talking minutes passed \n",
      "Original summary: shop around for therapist \n",
      "Predicted summary:  talk to therapist\n",
      "\n",
      "\n",
      "Review: caffeine substance stimulates central nervous system something want stay away right bed energize cause jittery making harder fall asleep stay away soda coffee alcohol chocolate nicotine etc caffeine cause dehydration worsening illness \n",
      "Original summary: avoid caffeine before bed \n",
      "Predicted summary:  avoid caffeine and alcohol\n",
      "\n",
      "\n",
      "Review: denial alcoholism common construct alcohol abuse furthermore denial often significant barrier keeping getting help may functional alcoholic denial friends family may also come excuses behavior stress illness depression \n",
      "Original summary: understand how denial stands in the way of recovery \n",
      "Predicted summary:  recognize that depression is not fault\n",
      "\n",
      "\n",
      "Review: education fun individualized much reasonable child teens need help transitioning workforce may need programs high school vocational programs campaign violent restraint seclusion practices special education still legal areas \n",
      "Original summary: promote safe effective education for children and teens with down syndrome \n",
      "Predicted summary:  attend services\n",
      "\n",
      "\n",
      "Review: try compare post baby body friend somehow fit size giving birth celebrities photographed bikinis baby giving birth affects every woman body different ways comparing others lead unrealistic expectations negative thoughts focus instead body needs rather post baby bodies others start blocking images media show perfect post baby bodies avoid looking celebrities models appear perfect skinny new moms magazines online may also unfollow new moms social media \n",
      "Original summary: avoid comparing your body to others \n",
      "Predicted summary:  learn about your gender\n",
      "\n",
      "\n",
      "Review: hold end lit open flame seconds rotating make sure heat evenly applied cigar warming cigar way make easier light \n",
      "Original summary: warm the cigar before lighting it \n",
      "Predicted summary:  hold the lighter in the bowl\n",
      "\n",
      "\n",
      "Review: avoid whitening toothpaste also keep teeth braces yellowing draw wrong sort attention mouth drink colored juices sodas use straw avoid foods may stain braces rubber bands includes berries soups pasta sauce etc decide eat food may stain brush braces immediately eating food drink water meals help rinse braces eating \n",
      "Original summary: avoid your teeth and or braces \n",
      "Predicted summary:  chew on soft foods\n",
      "\n",
      "\n",
      "Review: drinking water help keep body hydrated cleanse system find feeling hungry time might dehydrated drinking lot water keep body functioning properly also stop overeating \n",
      "Original summary: drink lot of water \n",
      "Predicted summary:  drink lots of water\n",
      "\n",
      "\n",
      "Review: educational professionals teachers administrators school nurse coaches often care teen much likely also want promote teen health wellbeing informing educational professionals teen depression help relieve stress accommodation schoolwork practices also provide teen extra love support educational professionals required keep information confidential teen worry students parents finding depression tell teachers coaches administrators schools nurses problems school may contribute depression also know therapies medications teen taking including side effects cause ask teachers understanding make reasonable accommodations workload let know teen may able complete tests homework times depression \n",
      "Original summary: keep your teen school and coaches in the loop \n",
      "Predicted summary:  seek professional help\n",
      "\n",
      "\n",
      "Review: surgery may require walker help routine activities make sure arrange house enable movement ensure objects placed way help move around easily \n",
      "Original summary: arrange your home so it is easy to navigate with walker \n",
      "Predicted summary:  get out of the house\n",
      "\n",
      "\n",
      "Review: working weights aim two three sets repetitions within set let body rest minute sets lifting breathe perform lift exertion breathe returning start position apply general guidelines weight based workout \n",
      "Original summary: learn the general rules for weight training \n",
      "Predicted summary:  repeat the exercise\n",
      "\n",
      "\n",
      "Review: right sanitation legitimate medical disorder cannot stop sneezing stomach full generally happens immediately consuming quite large meal avoid eat much case curious george sneezing non time indulgence appetite trait inherited ordained named originally sneeze know real thing monitor eating activity usually find sneezing \n",
      "Original summary: quit setting yourself up for \n",
      "Predicted summary:  avoid foods that cause nausea\n",
      "\n",
      "\n",
      "Review: lean way back ball back follows contour ball place hands behind head cross arms top chest exhale contract abdominal muscles lift upper body ball hold crunching position moment inhale slowly relax muscles come back onto ball sure pulling head neck hands contract core muscles lift ball \n",
      "Original summary: crunch to your side \n",
      "Predicted summary:  hold the ball with your hand\n",
      "\n",
      "\n",
      "Review: help get rid smell smoke breathe brush teeth often keep travel toothbrush toothpaste brush teeth spend time around others might problem smell smoke buy travel toothbrushes drugstore general store also chew gum carry mouthwash anything spread clean fresh scent mouth \n",
      "Original summary: brush your teeth \n",
      "Predicted summary:  brush your teeth\n",
      "\n",
      "\n",
      "Review: similar counter cryotherapy doctor may opt freeze wart liquid nitrogen painful treatment requires multiple applications doctor apply liquid nitrogen directly wart like cantharidin cause blister form wart help peel away \n",
      "Original summary: freeze off the wart with liquid \n",
      "Predicted summary:  ask about whitening treatments\n",
      "\n",
      "\n",
      "Review: exercising make fit subsequently making look feel better exercising also releases endorphin feel good hormone gives energy joy short long term benefits exercise effective done times per week \n",
      "Original summary: exercise \n",
      "Predicted summary:  exercise\n",
      "\n",
      "\n",
      "Review: done flush water used clean comb toilet soak comb ammonia water made mixing one teaspoon ammonia two cups hot water check hair stray lice nits see hairs lice eggs remove individually using pair scissors continue wet comb week three weeks checking lice contact doctor see live lice three weeks \n",
      "Original summary: clean up \n",
      "Predicted summary:  rinse your mouth with water\n",
      "\n",
      "\n",
      "Review: fake yawn opening mouth wide breathing heavily rub eyes together someone asks tell get tears sometimes yawn \n",
      "Original summary: say you tear up when you \n",
      "Predicted summary:  let your eyes know that you can find the right hand\n",
      "\n",
      "\n",
      "Review: child feels anxiety may unwilling certain things may get angry throw tantrums want go somewhere around someone something may show avoidance behavior towards things used places used go avoidance behavior severe losing interest \n",
      "Original summary: identify any avoidance behavior \n",
      "Predicted summary:  recognize that you are not alone\n",
      "\n",
      "\n",
      "Review: symptoms severe may need fluids obstetrician may admit hospital something called total nutrition nutrients given iv serious cases hyperemesis gravidarum may necessary health health baby \n",
      "Original summary: consider nutrition \n",
      "Predicted summary:  get tested for sexually transmitted diseases\n",
      "\n",
      "\n",
      "Review: place hands flat top chair need make sure using firm chair without cushion need balance lifting body weight exercise \n",
      "Original summary: return to straight posture at the edge of your chair \n",
      "Predicted summary:  stand up straight\n",
      "\n",
      "\n",
      "Review: natural reflexes try prevent objects entering eye little practice override reflex may order key course relax try think placing object eyes rather placing lens top eyes practice blinking placing index finger upper eyelid thumb placed lower eyelid hold open eye take hand imitate putting lens eye mind eye get used motion important practice order repeatedly contacts designed specifically individual eye means one eye helper hand one holds eyelids open needs steady order prevent blinking midstream \n",
      "Original summary: practice not \n",
      "Predicted summary:  learn about the basic technique\n",
      "\n",
      "\n",
      "Review: soon get go signal doctor health practitioner proceed simple stretching exercises help alleviate pain lower back two common stretching exercises done alleviate back pain williams flexion exercise extension exercise \n",
      "Original summary: talk to your doctor before doing any exercise \n",
      "Predicted summary:  do stretching exercises\n",
      "\n",
      "\n",
      "Review: one surefire way temporarily relieving tooth pain take ibuprofen reduce inflammation relieve pain make sure use ibuprofen according manufacturer instructions \n",
      "Original summary: take ibuprofen \n",
      "Predicted summary:  take pain relievers\n",
      "\n",
      "\n",
      "Review: potassium iodide help break mucus airways talk doctor see would helpful supplement \n",
      "Original summary: take potassium if you need supplements \n",
      "Predicted summary:  take vitamin supplements\n",
      "\n",
      "\n",
      "Review: symptoms ovarian cysts diagnostic really know ovarian cysts doctor perform pelvic exam doctor may able feel swelling consistent ovarian cysts depending symptoms doctor may want order tests measure hormone levels rule conditions may ordered well \n",
      "Original summary: have pelvic exam \n",
      "Predicted summary:  get tested for sexually transmitted diseases\n",
      "\n",
      "\n",
      "Review: tell specifics try outs well coaches looking show train hardest basics know without doubt toe touches kicks motions splits cartwheels round offs front back handsprings handstands \n",
      "Original summary: if you are trying out start by speaking to someone already on the squad \n",
      "Predicted summary:  hold the position for your body\n",
      "\n",
      "\n",
      "Review: chances need work take care also plan accordingly since might need support avoid choosing job based solely popularity necessarily make happy instead ask kind people environment would like around every day work seems character think would happy consider finding another job would allow people generally happy work often get pleasure day day interactions co workers \n",
      "Original summary: get job that your passion \n",
      "Predicted summary:  reward yourself\n",
      "\n",
      "\n",
      "Review: fun surprises great way help child forget troubles temporarily however need careful child come expect gifts surprises time feeling also careful often extent use distractions instead dealing underlying issue damaging developing children choose fun easy surprise cost much recreate birthday christmas small gift fun activity help brighten day try save surprises child worst days use every time feeling may avoid dealing problems future \n",
      "Original summary: surprise your child with something fun \n",
      "Predicted summary:  encourage them to take care of your child\n",
      "\n",
      "\n",
      "Review: current coaches offer suggestions regarding strong suitable college football programs also contact college coaches discuss potential football players high school gone play college ball coach reach well assistance approach coach might say really interested playing college ball think would fit \n",
      "Original summary: ask your high school coaches for help \n",
      "Predicted summary:  call local if you have\n",
      "\n",
      "\n",
      "Review: stop using computer television tablet smartphone get sleep quickly gadgets emit blue light prevent sleeping time exposed make matters worse screens brightly backlit light directly eyes wind day powering devices set notifications phone stop night keep distracted tempted look screen cannot tear away devices try reducing damage instead use app filters blue light bed phones tablets come settings already programmed certain readers without screens emit blue light shine directly eyes comparable reading conventional book may used bedtime \n",
      "Original summary: unplug from your electronic devices at least an hour before bed \n",
      "Predicted summary:  turn off electronics electronics\n",
      "\n",
      "\n",
      "Review: recurrent ingrown fingernails physician may recommend form surgical removal commonly doctor perform partial nail avulsion part nail ingrown cut partial nail avulsion watch nail grows back ensure nail grow back skin severe cases entire nail bed may removed using chemicals laser treatment however rarely necessary fingernails commonly used treat ingrown toenails \n",
      "Original summary: remove the ingrown nail surgically \n",
      "Predicted summary:  get dental wax\n",
      "\n",
      "\n",
      "Review: go breakup alone reach friends family members help support ask willing talk feeling second thoughts convince breaking best \n",
      "Original summary: rely on your friends and family for support \n",
      "Predicted summary:  talk to someone you trust\n",
      "\n",
      "\n",
      "Review: scientific study fertility diets trials focused specific condition found infertile women ovulatory dysfunction irregular ovulation women ovulatory dysfunction may benefit adjustments diet want try get pregnant example one study done nurses health study tested women trying get pregnant eight year period women diagnosed infertility related irregular ovulation thus study linking nutrition fertility fact based small number women test group may applicable women irregular ovulation \n",
      "Original summary: keep in mind fertility diets may only work for small of women \n",
      "Predicted summary:  know that your are not your fault\n",
      "\n",
      "\n",
      "Review: kind forearm tendinitis common dominant hand affected arms may affected tendinitis occur tendons consistently exert force tendinitis may also occur tendons control either extension flexion rarely occurs time repetitive motion exerts stress either force flexion extension cause tendinitis \n",
      "Original summary: think about whether you are having symptoms in one or both arms \n",
      "Predicted summary:  recognize that the pain is normal\n",
      "\n",
      "\n",
      "Review: one effective ways cope handle ptsd constructively seeking therapy many therapists trained specifically deal ptsd various strategies employ also provide supportive ear listen remember taboo seeking help ptsd serious medical issue akin physical injury illness medical illnesses physical alone mental take care mental health body \n",
      "Original summary: see therapist \n",
      "Predicted summary:  seek professional help\n",
      "\n",
      "\n",
      "Review: dreams highly personal fact scientists still quite know dream seriously interested dream interpretation happy know may well meaning life however probably able use predict future scientists think dreams result brain firing random think animals humans included evolved dreaming defense mechanism others believe dream order process information end day still people strongly believe dreams something perhaps precognitive possible dream could message someone something really know \n",
      "Original summary: recognize the limits of dream science \n",
      "Predicted summary:  identify the dream dream\n",
      "\n",
      "\n",
      "Review: studies show think relation others impact level loneliness fear rejection discourage social activity increase feelings loneliness thinking inferior may lead worrying social interactions remind different equal worthy expect positive outcomes instead negative ones interacting others think alternative ways situation might pan example perhaps person like may always turn badly think \n",
      "Original summary: manage your thoughts about your social interactions \n",
      "Predicted summary:  identify negative thoughts\n",
      "\n",
      "\n",
      "Review: tell difference clinical depression plain old case blues depression work different ways everyone important learn keep eye may suffering depression difficulty concentrating remembering things making decisions feel constantly fatigued even getting enough sleep feel guilty worthless helpless feel hopeless pessimistic trouble sleeping feel irritable restless regularly lose interest things enjoy including sex overeat lose appetite feel persistent aches pains headaches cramps digestive problems respond treatment thoughts suicide \n",
      "Original summary: identify the symptoms of clinical depression \n",
      "Predicted summary:  recognize the symptoms of depression\n",
      "\n",
      "\n",
      "Review: consistent feeding times prevent breasts becoming full milk full breast lead engorgement lead episode mastitis breastfeed every one three hours whenever baby hungry know going miss feeding pump milk empty breasts scheduled time feeding breasts feel full regularly scheduled feeding time important empty milk sits breasts thicken impeding flow possibly lead mastitis wait baby tell feeding time baby likely nurse little offered breast afraid wake baby better interrupt baby sleep drain breast put risk developing mastitis \n",
      "Original summary: maintain breastfeeding schedule \n",
      "Predicted summary:  pay attention to your baby\n",
      "\n",
      "\n",
      "Review: ordered magic flight website online stores like amazon \n",
      "Original summary: obtain launch box \n",
      "Predicted summary:  search for the\n",
      "\n",
      "\n",
      "Review: physical examination hernia doctor always stand gently swollen area asked cough strain perform movement best ability doctor evaluate flexibility movement area hernia suspected assessment able diagnose whether one type hernia may \n",
      "Original summary: understand how doctors diagnose hernias \n",
      "Predicted summary:  get massage\n",
      "\n",
      "\n",
      "Review: writing list accomplishments help begin believe sit make list things feel point life include even minor activities like putting together furniture organizing party friend family member compiled short list try find patterns activities identify done well understand skills identify skills helped accomplish things begin list skills separate column also make list stuff admire third column example notice successful caring dogs cats could mean naturally compassionate person case try find activities help use skill volunteering local animal shelter \n",
      "Original summary: make list of your past accomplishments \n",
      "Predicted summary:  write down your goals\n",
      "\n",
      "\n",
      "Review: talk inside mind loud subject matter talk weather day work school friends tv show like long direct talking tulpa fine process gradual first contact tulpa difficult discern necessarily jump speaking full sentences right away completely optional could use method like though people find controversial many others believe help developing tulpa encourage try communicate sometimes sure answer got tulpa always assume tulpa step take patient \n",
      "Original summary: talk to your tulpa \n",
      "Predicted summary:  listen to their voice\n",
      "\n",
      "\n",
      "Review: important understand actually two common types endoscopy one upper endoscopy colonoscopy make sure clarify doctor type procedure need doctor use endoscopy view upper digestive tract colonoscopy view lower digestive tract upper endoscopy procedure scope inserted mouth allow doctor look small intestines stomach addition esophagus colonoscopy camera attached flexible tube inserted rectum procedure allows doctor examine large intestine colon rectum procedures used diagnose disease investigate symptoms common day procedures \n",
      "Original summary: understand different procedures \n",
      "Predicted summary:  get surgery\n",
      "\n",
      "\n",
      "Review: established personal best flow reading use judge state condition thereafter many peak flow meters indicators built help must pre set personal best reading order get accurate information three flow zones based percentage range personal best green zone best yellow zone best red zone less best use flow zone gauge whether condition changing steps take response changes condition getting worse already taking daily medication treat asthma consider adding quick relief meds normal regimen reading red zone point seek immediate medical attention \n",
      "Original summary: track your flow zone \n",
      "Predicted summary:  determine if you have been at the appropriate time\n",
      "\n",
      "\n",
      "Review: unless already completed one doctor likely recommend sleep study undergo somnoplasty help medical professional better understand specific case snoring obstructive sleep apnea apply knowledge procedure let doctor know sleeping habits study may help doctor better analyze results sleep study \n",
      "Original summary: participate in sleep study \n",
      "Predicted summary:  get medical advice\n",
      "\n",
      "\n",
      "Review: sometimes lack motivation life life become complacent jobs living situation relationships sort fester little world knowing trying harder expand easiest way start path change dress differently whether pizza delivery guy wishing floor stock exchange couch potato wishing running boston marathon changing clothes may change behavior believe think way would address guy suit guy suit starts living world addresses like guy suit get jogging pants eventually end wondering jogging \n",
      "Original summary: dress the part \n",
      "Predicted summary:  be aware of the\n",
      "\n",
      "\n",
      "Review: support group great part healthier lifestyle provide support goals also support mental emotional well big part healthier life often gets overlooked mental emotional health support group cheer good friend ask friends family members co workers join certain goals maybe others want lose weight eat healthier exercise studies show people support group likely meet long term goals \n",
      "Original summary: build support group \n",
      "Predicted summary:  join support group\n",
      "\n",
      "\n",
      "Review: think deeply situation without pressing solutions coming conclusions thinking problem opens door sense vividly remembered dreams dreams may even offer insights regarding problem hand \n",
      "Original summary: think about major problem or emotional concern or read right before you fall asleep \n",
      "Predicted summary:  learn about the dream\n",
      "\n",
      "\n",
      "Review: take applicator usually stick foam tip handle set spray sits level sturdy surface want insert handle top spray take care hold spray near face spray compound cold take precautions keep accidentally spraying \n",
      "Original summary: assemble the spray kit \n",
      "Predicted summary:  gather the supplies\n",
      "\n",
      "\n",
      "Review: ear infections cause long term complications often go away within days however frequent infections fluid build post infection result serious complications including impaired hearing although slight difficulties hearing common ear infections severe hearing loss result ear persistent infections fluid cases cause damage eardrum middle ear speech developmental delays young children hearing loss could result developmental delays speech particularly yet verbal spread infection infections remain untreated respond treatment spread tissues addressed immediately one possible infection result bony protrusion behind ear bone become damaged pus filled cysts also develop rare cases severe middle ear infections spread skull affect brain tearing eardrum infections sometimes result tearing rupturing eardrum tears usually heal within three days exceptional incidences surgery may required \n",
      "Original summary: understand the potential complications \n",
      "Predicted summary:  recognize the symptoms of\n",
      "\n",
      "\n",
      "Review: sometimes moving new place enough feel like starting new life probably new job build new circle friends get used new community entered need learn self reliant build new connections become flexible adaptable excellent skills new life pushing past comfort zone proven improve performance increase likelihood finding success likely work harder pay attention new slightly uncomfortable situation research determine feel happiest new life things consider include crime rate unemployment rate average cost living property cost whether experiences available match culture interests offer annual rankings best places live good place start also consider quality living rankings talk people live places considering plan visit see whether would enjoy living information gather better prepared embark new life \n",
      "Original summary: determine what changes you want to make \n",
      "Predicted summary:  learn new skill\n",
      "\n",
      "\n",
      "Review: traits incredibly important success try achieve excellent speed average stamina high school still falling short goals college lot pressure catch \n",
      "Original summary: improve your speed and endurance \n",
      "Predicted summary:  be aware of the basic things that can cause\n",
      "\n",
      "\n",
      "Review: going work morning \n",
      "Original summary: leave it to sit for few hours \n",
      "Predicted summary:  go to the bathroom\n",
      "\n",
      "\n",
      "Review: recommended diffusers still enjoy benefits aromatherapy hold vial oil nose inhale deeply due potency undiluted oils refrain using method one time every hour \n",
      "Original summary: use your own body as \n",
      "Predicted summary:  try essential oils\n",
      "\n",
      "\n",
      "Review: lighting help wake fall asleep try exposing daylight morning dimming lights towards bedtime body internal sleep wake clock responds light hardwired become energized response bright preferably natural light soon get morning draw blinds let sunlight access natural sunlight get sun rises try turning lights house incorporating short walk around block regular morning routine much light night signals brain needs stay awake dim turn lights apartment house near bedtime also avoid electronics like tablets computers smart phones light devices stimulate brain may make alert bed trouble staying away phone computer download app convert type light emitted electronics soothing form less likely interrupt sleep \n",
      "Original summary: use lighting to your advantage \n",
      "Predicted summary:  turn off electronics electronics\n",
      "\n",
      "\n",
      "Review: preparation tasks done day night appointment like laying clothes preparing lunch try preparation tasks weekly basis free time daily schedule \n",
      "Original summary: leave time in the schedule for advanced preparation \n",
      "Predicted summary:  schedule regular appointments\n",
      "\n",
      "\n",
      "Review: merely desire protect evil making plan may remain mind never go action waiting right time right state mind right reason seems good keep mind acting stay idle slack long may unknowingly fall prey lazy act seems advisable progress responsibility fulfill proactively work capacity instead waiting something perfectly wait may allow series unhelpful thoughts take place mind may help turn negative actions without intending badly \n",
      "Original summary: act out your good intentions \n",
      "Predicted summary:  don worry about your fear\n",
      "\n",
      "\n",
      "Review: snap photos object wait measuring magic take place app display height object option save information later even share social media doubt accuracy final measurement test runs objects close use camera measure objects take traditional tape measurement well compare two numbers line th inch \n",
      "Original summary: take clear picture of the object \n",
      "Predicted summary:  create the chart\n",
      "\n",
      "\n",
      "Review: tell tale signs person may suffering trichotillomania include noticeable hair loss caused recurrent pulling hair patchy bald areas scalp areas body missing eyelashes eyebrows infected hair follicles \n",
      "Original summary: recognize physical signs of this disorder \n",
      "Predicted summary:  look for signs of\n",
      "\n",
      "\n",
      "Review: gather fits remaining size waist band gather back larger gathered length front giving plenty room stretch \n",
      "Original summary: gather the back rectangle of your skirt at the top \n",
      "Predicted summary:  gather your supplies\n",
      "\n",
      "\n",
      "Review: might tempting use calming substances anti anxiety medication alcohol want ingest anything might interact poorly dental anesthetics always talk dentist first appropriate steps take minimize anxiety filling \n",
      "Original summary: do not self medicate \n",
      "Predicted summary:  talk to your dentist about drugs\n",
      "\n",
      "\n",
      "Review: buy amazon come many different forms full masks eye holes bandana style mask covers lower part face best mask depends use best coverage buy full face mask eye holes make sure allows full peripheral vision see clearly \n",
      "Original summary: find full face mask \n",
      "Predicted summary:  choose the right style\n",
      "\n",
      "\n",
      "Review: standard modified tests may applicable place shoes ground form plank body bend elbows back toward body almost reach ground push back count push modified push usually used testing women tend test lower upper arm strength knees must far behind body back straight buttocks shoulders elbows bend even body lowered almost reach ground raise back many tests aim total push ups point standards given military achieving men women \n",
      "Original summary: do push up test \n",
      "Predicted summary:  do the right stretches\n",
      "\n",
      "\n",
      "Review: pepper friend questions asking occasional questions gain understanding okay good keep person talking could ask friend questions like tell make feel continue conversation ask friend could help right could ask could right support else help \n",
      "Original summary: ask questions \n",
      "Predicted summary:  ask questions\n",
      "\n",
      "\n",
      "Review: defendant lawsuit expect pay attorney one case contingency get money win case take close look budget determine afford pay attorneys able give front estimate much case cost depending various outcomes example may get one estimate attorney able get case dismissed another settled trial third estimate case goes trial keep mind finances may tight losing lawsuit hurt bank account also may lose substantial credibility suffer damage professional personal reputation \n",
      "Original summary: discuss fees and costs \n",
      "Predicted summary:  report the\n",
      "\n",
      "\n",
      "Review: create anxiety diary anxiety diaries effective tool overcoming fears grab notepad paper set aside time self contemplation free distractions relax let thoughts wander freely think things scare write pad might think things immediately give enough time might come things expected example might immediately write public speaking introducing new people deep introspection might realize connected afraid looking foolish rejected try keep diary much write fear anxiety occurs write fear also record happened made feel take minutes evenings review reflect written identify small achievable goals help face overcome fears future create list healthy coping skills help faced fear listening music talking someone trust meditating \n",
      "Original summary: make list of things that scare you \n",
      "Predicted summary:  write down your thoughts\n",
      "\n",
      "\n",
      "Review: success week challenge depends picking goal important think carefully want achieve begin week challenge means intense work toward goal challenge period must certain something committed assess level commitment sure willing dedicate time effort begin ask want achieve goal help determine truly want one path something else example goal learn play guitar ask find want play guitar think improve social status may want set different goal ways increase popularity easier trying learn play instrument weeks love music true motivation may achieve goals \n",
      "Original summary: decide what you want to achieve \n",
      "Predicted summary:  set goals\n",
      "\n",
      "\n",
      "Review: lowest amount education needed become productivity consultant choosing business related degree allow launch business world graduation \n",
      "Original summary: earn your bachelor degree in business or similar degree \n",
      "Predicted summary:  determine if you have been at the right time\n",
      "\n",
      "\n",
      "Review: fight vaginal yeast infection get counter medications get prescription doctor infrequent episodes yeast infections mild moderate symptoms use counter medication either comes cream tablet suppository gets inserted directly vagina common yeast fighting medical creams include miconazole terconazole generally used cream suppository given every day bedtime many days specified instructions get medications last one seven days also get oral antifungal medication taken clotrimazole fluconazole take mouth also take clotrimazole tablets taken mg every day bedtime six seven days mg every night days mg daily day yeast infections may complicated treated seven days rather one seven days \n",
      "Original summary: treat vaginal yeast infection \n",
      "Predicted summary:  take an anti inflammatory medication\n",
      "\n",
      "\n",
      "Review: may hurt another person past continue relive painful situation mind cannot change person treated choose forgive forgiveness accepting happened deciding let go anger pain move forgiveness person hurt examine role played situation practice empathy consider person perspective motivation actions may help better understand situation control emotions make choice forgive person conversation person write person letter write letter never give person forgiveness process happen overnight \n",
      "Original summary: forgive other people \n",
      "Predicted summary:  acknowledge your feelings\n",
      "\n",
      "\n",
      "Review: learn different types mental illnesses symptoms try explain teen many books articles videos available teach different facets mental health make sure getting information mental health reliable source information comes well known doctors universities government generally reliable start reliable sources like national institute mental health american psychological association \n",
      "Original summary: educate yourself first \n",
      "Predicted summary:  research the different types of\n",
      "\n",
      "\n",
      "Review: body function full capacity day long moments body relax want go sleep start feel coming prepared combat quickly caffeine cold air shower jolt effect last forever help start slip get back good working groove body probably give periods higher energy around mid morning early evening save important tasks times way start feel rest time awake willing take break shower make coffee \n",
      "Original summary: be prepared for \n",
      "Predicted summary:  get plenty of rest\n",
      "\n",
      "\n",
      "Review: try perform activities every night bedtime means going bed time every evening wake time every morning also incorporate relaxing activities bedtime routine reading listening soft music way mind start associating activities bedtime sleep \n",
      "Original summary: establish nightly routine \n",
      "Predicted summary:  establish bedtime routine\n",
      "\n",
      "\n",
      "Review: dipping may seem dangerous cigarettes people smoke involved however dipping cause cancers mouth throat esophagus well shrinking gums around teeth cracked lips white spots sores bleeding mouth tooth loss bad breath increased risk heart disease stroke \n",
      "Original summary: recognize the problem \n",
      "Predicted summary:  avoid smoking\n",
      "\n",
      "\n",
      "Review: yoga help tone body relieve anxiety also improves focus concentration try yoga routine want feel alert \n",
      "Original summary: perform yoga \n",
      "Predicted summary:  try yoga\n",
      "\n",
      "\n",
      "Review: give permission think incredibly feels wonderful go want allow connect true desires wants needs toss societal expectations indulge makes smile \n",
      "Original summary: be selfish \n",
      "Predicted summary:  be honest with yourself\n",
      "\n",
      "\n",
      "Review: maximize medication works loved one continue visit mental health professional regular basis taking medication \n",
      "Original summary: pair medication with psychotherapy \n",
      "Predicted summary:  talk to your doctor about medication\n",
      "\n",
      "\n",
      "Review: baby development inside womb fingers toes distinctly instead like paddle normal child cells fingers toes die forming distinct fingers toes apert syndrome allow dying cells happen child hands feet stay shaped like \n",
      "Original summary: understand that syndrome also causes of the fingers and toes \n",
      "Predicted summary:  pay attention to your child posture\n",
      "\n",
      "\n",
      "Review: stuck hospital feeling sick day hard sometimes visiting sick people feel much like laughing lack laughing get person even healing process see spreading laughter way enabling healing would like know cannot go wrong checking patch adams institute laughter humor joy prescription treatment patients \n",
      "Original summary: visit local hospital and help the patients laugh \n",
      "Predicted summary:  let go of the\n",
      "\n",
      "\n",
      "Review: age greater risk developing glaucoma get older body less capable regulating normal functions like maintaining proper eyeball pressure age sure receive regular eye exams get checked glaucoma \n",
      "Original summary: recognize that age is factor \n",
      "Predicted summary:  know that your risk factors are not normal\n",
      "\n",
      "\n"
     ]
    }
   ],
   "source": [
    "for i in range(0,100):\n",
    "    print(\"Review:\",seq2text(x_tr[i]))\n",
    "    print(\"Original summary:\",seq2summary(y_tr[i]))\n",
    "    print(\"Predicted summary:\",decode_sequence(x_tr[i].reshape(1,max_text_len)))\n",
    "    print(\"\\n\")"
   ]
  },
  {
   "cell_type": "code",
   "execution_count": null,
   "metadata": {
    "id": "FWTCDXppeI-H",
    "pycharm": {
     "name": "#%%\n"
    }
   },
   "outputs": [],
   "source": [
    "if on_colab:\n",
    "  while True:pass"
   ]
  },
  {
   "cell_type": "markdown",
   "metadata": {
    "id": "OTkaYNjHW4lC"
   },
   "source": [
    "This is really cool stuff. Even though the actual summary and the summary generated by our model do not match in terms of words, both of them are conveying the same meaning. Our model is able to generate a legible summary based on the context present in the text.\n",
    "\n",
    "This is how we can perform text summarization using deep learning concepts in Python.\n",
    "\n",
    "#How can we Improve the Model’s Performance Even Further?\n",
    "\n",
    "Your learning doesn’t stop here! There’s a lot more you can do to play around and experiment with the model:\n",
    "\n",
    "I recommend you to **increase the training dataset** size and build the model. The generalization capability of a deep learning model enhances with an increase in the training dataset size\n",
    "\n",
    "Try implementing **Bi-Directional LSTM** which is capable of capturing the context from both the directions and results in a better context vector\n",
    "\n",
    "Use the **beam search strategy** for decoding the test sequence instead of using the greedy approach (argmax)\n",
    "\n",
    "Evaluate the performance of your model based on the **BLEU score**\n",
    "\n",
    "Implement **pointer-generator networks** and **coverage mechanisms**\n",
    " \n",
    "\n"
   ]
  },
  {
   "cell_type": "markdown",
   "metadata": {
    "id": "R_qIecuvY5GT"
   },
   "source": [
    "#End Notes\n",
    "\n",
    "If you have any feedback on this article or any doubts/queries, kindly share them in the comments section over [here](https://www.analyticsvidhya.com/blog/2019/06/comprehensive-guide-text-summarization-using-deep-learning-python/) and I will get back to you. And make sure you experiment with the model we built here and share your results with me!"
   ]
  }
 ],
 "metadata": {
  "accelerator": "GPU",
  "colab": {
   "collapsed_sections": [],
   "machine_shape": "hm",
   "name": "How_to_build_own_text_summarizer_using_deep_learning (1).ipynb",
   "provenance": [],
   "toc_visible": true
  },
  "kernelspec": {
   "display_name": "Python 3",
   "language": "python",
   "name": "python3"
  },
  "language_info": {
   "codemirror_mode": {
    "name": "ipython",
    "version": 3
   },
   "file_extension": ".py",
   "mimetype": "text/x-python",
   "name": "python",
   "nbconvert_exporter": "python",
   "pygments_lexer": "ipython3",
   "version": "3.8.5"
  }
 },
 "nbformat": 4,
 "nbformat_minor": 1
}
